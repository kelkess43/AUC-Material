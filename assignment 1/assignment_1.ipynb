{
 "cells": [
  {
   "cell_type": "markdown",
   "id": "caf98993",
   "metadata": {},
   "source": [
    "# Lab: Customer Churn Prediction (EDA, Modelling & Research)\n",
    "This lab focuses on **exploring the dataset, cleaning it, creating features, fitting a simple model, and reflecting** on how to evaluate models.\n",
    "\n",
    "⚠️ **Note**: This dataset is synthetic and provided for academic purposes."
   ]
  },
  {
   "cell_type": "markdown",
   "id": "044d7103",
   "metadata": {},
   "source": [
    "## Section 0 – Setup\n",
    "Fill in your details and import the libraries you will need."
   ]
  },
  {
   "cell_type": "code",
   "execution_count": null,
   "id": "a3fe3861",
   "metadata": {},
   "outputs": [],
   "source": [
    "student_name = ''"
   ]
  },
  {
   "cell_type": "code",
   "execution_count": null,
   "id": "09d0d53d",
   "metadata": {},
   "outputs": [],
   "source": [
    "# add required imports here"
   ]
  },
  {
   "cell_type": "code",
   "execution_count": null,
   "id": "4208ccff",
   "metadata": {},
   "outputs": [],
   "source": [
    "# import df"
   ]
  },
  {
   "cell_type": "markdown",
   "id": "72c3c985",
   "metadata": {},
   "source": [
    "## Section 1 – Data Exploration (25%)"
   ]
  },
  {
   "cell_type": "markdown",
   "id": "a31e009b",
   "metadata": {},
   "source": [
    "### Q1: How many **unique customers** are in the dataset?"
   ]
  },
  {
   "cell_type": "code",
   "execution_count": null,
   "id": "f7b7d509",
   "metadata": {},
   "outputs": [],
   "source": [
    "#hint: use pd.nunique function \n",
    "unique_customers = ..."
   ]
  },
  {
   "cell_type": "markdown",
   "id": "1beb5216",
   "metadata": {},
   "source": [
    "### Q2: Count missing values in each column"
   ]
  },
  {
   "cell_type": "code",
   "execution_count": null,
   "id": "bf4d527b",
   "metadata": {},
   "outputs": [],
   "source": [
    "missing_counts = ..."
   ]
  },
  {
   "cell_type": "markdown",
   "id": "e94a03e6",
   "metadata": {},
   "source": [
    "### Q3: Visualize distributions of numeric variables (tenure, MonthlyCharges, TotalCharges)"
   ]
  },
  {
   "cell_type": "code",
   "execution_count": null,
   "id": "8908ff07",
   "metadata": {},
   "outputs": [],
   "source": [
    "# Create histograms or boxplots for numeric features"
   ]
  },
  {
   "cell_type": "markdown",
   "id": "00d74b66",
   "metadata": {},
   "source": [
    "### Q4: Visualize churn distribution"
   ]
  },
  {
   "cell_type": "code",
   "execution_count": null,
   "id": "8a8f0a90",
   "metadata": {},
   "outputs": [],
   "source": [
    "# Create a bar plot for churn distribution"
   ]
  },
  {
   "cell_type": "markdown",
   "id": "ddf37855",
   "metadata": {},
   "source": [
    "## Section 2 – Data Cleaning (20%)"
   ]
  },
  {
   "cell_type": "markdown",
   "id": "3b35fd7b",
   "metadata": {},
   "source": [
    "### Q5: Convert `TotalCharges` to numeric and handle missing values"
   ]
  },
  {
   "cell_type": "code",
   "execution_count": null,
   "id": "94d8da45",
   "metadata": {},
   "outputs": [],
   "source": [
    "df['TotalCharges'] = ..."
   ]
  },
  {
   "cell_type": "markdown",
   "id": "b51a8717",
   "metadata": {},
   "source": [
    "**Reflection:** Why did you choose this method for handling missing values?"
   ]
  },
  {
   "cell_type": "markdown",
   "id": "9eabe3b1",
   "metadata": {},
   "source": [
    "### Q6: Drop duplicate rows if any"
   ]
  },
  {
   "cell_type": "code",
   "execution_count": null,
   "id": "8999e390",
   "metadata": {},
   "outputs": [],
   "source": [
    "df = ..."
   ]
  },
  {
   "cell_type": "markdown",
   "id": "456ab241",
   "metadata": {},
   "source": [
    "## Section 3 – Feature Engineering (20%)"
   ]
  },
  {
   "cell_type": "markdown",
   "id": "25b10e23",
   "metadata": {},
   "source": [
    "### Q7: Create `tenure_group` feature (0–12, 13–24, 25–48, 49+)"
   ]
  },
  {
   "cell_type": "code",
   "execution_count": null,
   "id": "ca4d027b",
   "metadata": {},
   "outputs": [],
   "source": [
    "df['tenure_group'] = ..."
   ]
  },
  {
   "cell_type": "markdown",
   "id": "36de4a8e",
   "metadata": {},
   "source": [
    "### Q8: Encode categorical variables"
   ]
  },
  {
   "cell_type": "code",
   "execution_count": null,
   "id": "f4f17778",
   "metadata": {},
   "outputs": [],
   "source": [
    "df_encoded = ..."
   ]
  },
  {
   "cell_type": "markdown",
   "id": "9c1cd331",
   "metadata": {},
   "source": [
    "## Section 4 – Simple Modelling (15%)"
   ]
  },
  {
   "cell_type": "markdown",
   "id": "8a96b390",
   "metadata": {},
   "source": [
    "### Q9: Split dataset into train/test (70/30)"
   ]
  },
  {
   "cell_type": "code",
   "execution_count": null,
   "id": "19b94212",
   "metadata": {},
   "outputs": [],
   "source": [
    "X = ...\n",
    "y = ...\n",
    "X_train, X_test, y_train, y_test = ..."
   ]
  },
  {
   "cell_type": "markdown",
   "id": "def253ba",
   "metadata": {},
   "source": [
    "### Q10: Fit Logistic Regression and compute accuracy"
   ]
  },
  {
   "cell_type": "code",
   "execution_count": null,
   "id": "f57253ce",
   "metadata": {},
   "outputs": [],
   "source": [
    "model = ...\n",
    "model.fit(...)\n",
    "y_pred = model.predict(...)\n",
    "accuracy = ...\n",
    "accuracy"
   ]
  },
  {
   "cell_type": "markdown",
   "id": "198ab034",
   "metadata": {},
   "source": [
    "### Q11: Research First, Then Compute\n",
    "\n",
    "Before coding, do the research in Section 5.\n",
    "\n",
    "Then, compute precision and recall for the churn class using your model.\n"
   ]
  },
  {
   "cell_type": "code",
   "execution_count": null,
   "id": "f587fb04",
   "metadata": {},
   "outputs": [],
   "source": [
    "precision = ...\n",
    "recall = ...\n",
    "precision, recall"
   ]
  },
  {
   "cell_type": "markdown",
   "id": "4d1fed89",
   "metadata": {},
   "source": [
    "## Section 5 – Research & Reflection (20%)"
   ]
  },
  {
   "cell_type": "markdown",
   "id": "42995e10",
   "metadata": {},
   "source": [
    "### Q12: Why is accuracy not enough in churn prediction?\n",
    "Write your answer in one or two sentences."
   ]
  },
  {
   "cell_type": "markdown",
   "id": "d2ceab10",
   "metadata": {},
   "source": [
    "### Q13: Research Task\n",
    "Search what **precision**, **recall**, and a **classification report** mean in classification problems.\n",
    "\n",
    "- Write a short summary in your own words (2–3 sentences).\n",
    "- Why might recall be more important than precision in churn prediction?"
   ]
  }
 ],
 "metadata": {
  "language_info": {
   "name": "python"
  }
 },
 "nbformat": 4,
 "nbformat_minor": 5
}
