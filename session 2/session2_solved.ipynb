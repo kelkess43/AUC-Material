{
 "cells": [
  {
   "cell_type": "markdown",
   "id": "f47a8670",
   "metadata": {},
   "source": [
    "# Credit Scoring Dataset – First Look\n",
    "In this session, you will:\n",
    "- Explore a raw dataset for credit scoring.\n",
    "- Identify and fix common data quality issues.\n",
    "- Engineer new features useful for predicting credit risk.\n",
    "\n",
    "The dataset mimics real-world bank data, with deliberate issues (missing values, outliers, duplicates).\n",
    "\n",
    "> **Note for Students**  \n",
    "> This dataset is **synthetic** and created for **academic purposes only**.  \n",
    "> It is not real customer data, but it mimics some of the real issues (like missing values, inconsistent categories, and outliers) that we often face in actual credit scoring use cases.\n"
   ]
  },
  {
   "cell_type": "code",
   "execution_count": 1,
   "id": "fff5b2c1",
   "metadata": {},
   "outputs": [
    {
     "name": "stderr",
     "output_type": "stream",
     "text": [
      "c:\\Users\\kelkess\\AppData\\Local\\anaconda3\\envs\\cash\\Lib\\site-packages\\pandas\\core\\arrays\\masked.py:60: UserWarning: Pandas requires version '1.3.6' or newer of 'bottleneck' (version '1.3.5' currently installed).\n",
      "  from pandas.core import (\n"
     ]
    }
   ],
   "source": [
    "import pandas as pd\n",
    "import plotly.express as px\n",
    "import numpy as np\n",
    "from sklearn.model_selection import train_test_split\n",
    "from sklearn.linear_model import LogisticRegression\n",
    "from sklearn.metrics import accuracy_score, classification_report, confusion_matrix\n",
    "import seaborn as sns\n",
    "import matplotlib.pyplot as plt\n"
   ]
  },
  {
   "cell_type": "markdown",
   "id": "f05996f7",
   "metadata": {},
   "source": [
    "# Section 1: Quick EDA (Exploratory Data Analysis)\n",
    "Before cleaning and feature engineering, let's understand the dataset.\n",
    "\n",
    "Goals:\n",
    "- Check dataset shape and column types\n",
    "- Inspect distributions of numeric variables\n",
    "- Explore categorical variables\n",
    "- Identify issues: missing values, outliers, inconsistencies"
   ]
  },
  {
   "cell_type": "markdown",
   "id": "8076f792",
   "metadata": {},
   "source": [
    "### Step 1.1 – Dataset Overview\n",
    "- Check shape and column types\n",
    "- Preview first rows"
   ]
  },
  {
   "cell_type": "code",
   "execution_count": 3,
   "id": "30c12ddd",
   "metadata": {},
   "outputs": [
    {
     "data": {
      "application/vnd.microsoft.datawrangler.viewer.v0+json": {
       "columns": [
        {
         "name": "index",
         "rawType": "int64",
         "type": "integer"
        },
        {
         "name": "customer_id",
         "rawType": "int64",
         "type": "integer"
        },
        {
         "name": "age",
         "rawType": "float64",
         "type": "float"
        },
        {
         "name": "gender",
         "rawType": "object",
         "type": "string"
        },
        {
         "name": "income",
         "rawType": "float64",
         "type": "float"
        },
        {
         "name": "employment_type",
         "rawType": "object",
         "type": "string"
        },
        {
         "name": "education",
         "rawType": "object",
         "type": "string"
        },
        {
         "name": "total_debt",
         "rawType": "int64",
         "type": "integer"
        },
        {
         "name": "balance",
         "rawType": "int64",
         "type": "integer"
        },
        {
         "name": "credit_limit",
         "rawType": "int64",
         "type": "integer"
        },
        {
         "name": "late_payments",
         "rawType": "int64",
         "type": "integer"
        },
        {
         "name": "monthly_balance",
         "rawType": "int64",
         "type": "integer"
        },
        {
         "name": "default",
         "rawType": "int64",
         "type": "integer"
        }
       ],
       "ref": "8a05338c-0224-4379-80d3-8913e53c7447",
       "rows": [
        [
         "0",
         "1",
         "38.0",
         "Male",
         "30250.0",
         "Salaried",
         "PhD",
         "25531",
         "8894",
         "10217",
         "2",
         "2541",
         "0"
        ],
        [
         "1",
         "2",
         "18.0",
         "Female",
         "18709.0",
         "Salaried",
         "Bachelor",
         "14517",
         "10346",
         "15245",
         "3",
         "2692",
         "1"
        ],
        [
         "2",
         "3",
         "34.0",
         "Male",
         "4563.0",
         "Salaried",
         "Master",
         "39234",
         "10962",
         "17609",
         "2",
         "2957",
         "0"
        ],
        [
         "3",
         "4",
         "56.0",
         "Female",
         "48782.0",
         "Salaried",
         "Bachelor",
         "12253",
         "21960",
         "12636",
         "3",
         "2398",
         "0"
        ],
        [
         "4",
         "5",
         "38.0",
         "Male",
         "47630.0",
         "Self employed",
         "Master",
         "3108",
         "-496",
         "18226",
         "0",
         "4165",
         "0"
        ]
       ],
       "shape": {
        "columns": 12,
        "rows": 5
       }
      },
      "text/html": [
       "<div>\n",
       "<style scoped>\n",
       "    .dataframe tbody tr th:only-of-type {\n",
       "        vertical-align: middle;\n",
       "    }\n",
       "\n",
       "    .dataframe tbody tr th {\n",
       "        vertical-align: top;\n",
       "    }\n",
       "\n",
       "    .dataframe thead th {\n",
       "        text-align: right;\n",
       "    }\n",
       "</style>\n",
       "<table border=\"1\" class=\"dataframe\">\n",
       "  <thead>\n",
       "    <tr style=\"text-align: right;\">\n",
       "      <th></th>\n",
       "      <th>customer_id</th>\n",
       "      <th>age</th>\n",
       "      <th>gender</th>\n",
       "      <th>income</th>\n",
       "      <th>employment_type</th>\n",
       "      <th>education</th>\n",
       "      <th>total_debt</th>\n",
       "      <th>balance</th>\n",
       "      <th>credit_limit</th>\n",
       "      <th>late_payments</th>\n",
       "      <th>monthly_balance</th>\n",
       "      <th>default</th>\n",
       "    </tr>\n",
       "  </thead>\n",
       "  <tbody>\n",
       "    <tr>\n",
       "      <th>0</th>\n",
       "      <td>1</td>\n",
       "      <td>38.0</td>\n",
       "      <td>Male</td>\n",
       "      <td>30250.0</td>\n",
       "      <td>Salaried</td>\n",
       "      <td>PhD</td>\n",
       "      <td>25531</td>\n",
       "      <td>8894</td>\n",
       "      <td>10217</td>\n",
       "      <td>2</td>\n",
       "      <td>2541</td>\n",
       "      <td>0</td>\n",
       "    </tr>\n",
       "    <tr>\n",
       "      <th>1</th>\n",
       "      <td>2</td>\n",
       "      <td>18.0</td>\n",
       "      <td>Female</td>\n",
       "      <td>18709.0</td>\n",
       "      <td>Salaried</td>\n",
       "      <td>Bachelor</td>\n",
       "      <td>14517</td>\n",
       "      <td>10346</td>\n",
       "      <td>15245</td>\n",
       "      <td>3</td>\n",
       "      <td>2692</td>\n",
       "      <td>1</td>\n",
       "    </tr>\n",
       "    <tr>\n",
       "      <th>2</th>\n",
       "      <td>3</td>\n",
       "      <td>34.0</td>\n",
       "      <td>Male</td>\n",
       "      <td>4563.0</td>\n",
       "      <td>Salaried</td>\n",
       "      <td>Master</td>\n",
       "      <td>39234</td>\n",
       "      <td>10962</td>\n",
       "      <td>17609</td>\n",
       "      <td>2</td>\n",
       "      <td>2957</td>\n",
       "      <td>0</td>\n",
       "    </tr>\n",
       "    <tr>\n",
       "      <th>3</th>\n",
       "      <td>4</td>\n",
       "      <td>56.0</td>\n",
       "      <td>Female</td>\n",
       "      <td>48782.0</td>\n",
       "      <td>Salaried</td>\n",
       "      <td>Bachelor</td>\n",
       "      <td>12253</td>\n",
       "      <td>21960</td>\n",
       "      <td>12636</td>\n",
       "      <td>3</td>\n",
       "      <td>2398</td>\n",
       "      <td>0</td>\n",
       "    </tr>\n",
       "    <tr>\n",
       "      <th>4</th>\n",
       "      <td>5</td>\n",
       "      <td>38.0</td>\n",
       "      <td>Male</td>\n",
       "      <td>47630.0</td>\n",
       "      <td>Self employed</td>\n",
       "      <td>Master</td>\n",
       "      <td>3108</td>\n",
       "      <td>-496</td>\n",
       "      <td>18226</td>\n",
       "      <td>0</td>\n",
       "      <td>4165</td>\n",
       "      <td>0</td>\n",
       "    </tr>\n",
       "  </tbody>\n",
       "</table>\n",
       "</div>"
      ],
      "text/plain": [
       "   customer_id   age  gender   income employment_type education  total_debt  \\\n",
       "0            1  38.0    Male  30250.0        Salaried       PhD       25531   \n",
       "1            2  18.0  Female  18709.0        Salaried  Bachelor       14517   \n",
       "2            3  34.0    Male   4563.0        Salaried    Master       39234   \n",
       "3            4  56.0  Female  48782.0        Salaried  Bachelor       12253   \n",
       "4            5  38.0    Male  47630.0   Self employed    Master        3108   \n",
       "\n",
       "   balance  credit_limit  late_payments  monthly_balance  default  \n",
       "0     8894         10217              2             2541        0  \n",
       "1    10346         15245              3             2692        1  \n",
       "2    10962         17609              2             2957        0  \n",
       "3    21960         12636              3             2398        0  \n",
       "4     -496         18226              0             4165        0  "
      ]
     },
     "execution_count": 3,
     "metadata": {},
     "output_type": "execute_result"
    }
   ],
   "source": [
    "import pandas as pd\n",
    "\n",
    "# Load enhanced dataset with realistic relationships\n",
    "df = pd.read_csv('credit_scoring.csv')\n",
    "df.head()"
   ]
  },
  {
   "cell_type": "code",
   "execution_count": 4,
   "id": "6c19ef55",
   "metadata": {},
   "outputs": [
    {
     "data": {
      "application/vnd.microsoft.datawrangler.viewer.v0+json": {
       "columns": [
        {
         "name": "index",
         "rawType": "int64",
         "type": "integer"
        },
        {
         "name": "customer_id",
         "rawType": "int64",
         "type": "integer"
        },
        {
         "name": "age",
         "rawType": "float64",
         "type": "float"
        },
        {
         "name": "gender",
         "rawType": "object",
         "type": "string"
        },
        {
         "name": "income",
         "rawType": "float64",
         "type": "float"
        },
        {
         "name": "employment_type",
         "rawType": "object",
         "type": "string"
        },
        {
         "name": "education",
         "rawType": "object",
         "type": "string"
        },
        {
         "name": "total_debt",
         "rawType": "int64",
         "type": "integer"
        },
        {
         "name": "balance",
         "rawType": "int64",
         "type": "integer"
        },
        {
         "name": "credit_limit",
         "rawType": "int64",
         "type": "integer"
        },
        {
         "name": "late_payments",
         "rawType": "int64",
         "type": "integer"
        },
        {
         "name": "monthly_balance",
         "rawType": "int64",
         "type": "integer"
        },
        {
         "name": "default",
         "rawType": "int64",
         "type": "integer"
        }
       ],
       "ref": "ad1e1ca3-e4fc-4758-98de-c087189421b0",
       "rows": [
        [
         "0",
         "1",
         "38.0",
         "Male",
         "30250.0",
         "Salaried",
         "PhD",
         "25531",
         "8894",
         "10217",
         "2",
         "2541",
         "0"
        ],
        [
         "1",
         "2",
         "18.0",
         "Female",
         "18709.0",
         "Salaried",
         "Bachelor",
         "14517",
         "10346",
         "15245",
         "3",
         "2692",
         "1"
        ],
        [
         "2",
         "3",
         "34.0",
         "Male",
         "4563.0",
         "Salaried",
         "Master",
         "39234",
         "10962",
         "17609",
         "2",
         "2957",
         "0"
        ],
        [
         "3",
         "4",
         "56.0",
         "Female",
         "48782.0",
         "Salaried",
         "Bachelor",
         "12253",
         "21960",
         "12636",
         "3",
         "2398",
         "0"
        ],
        [
         "4",
         "5",
         "38.0",
         "Male",
         "47630.0",
         "Self employed",
         "Master",
         "3108",
         "-496",
         "18226",
         "0",
         "4165",
         "0"
        ],
        [
         "5",
         "6",
         "24.0",
         "Male",
         "32569.0",
         "Unemployed",
         "High School",
         "15287",
         "13416",
         "16838",
         "1",
         "1395",
         "0"
        ],
        [
         "6",
         "7",
         "24.0",
         "Male",
         "16524.0",
         "Self employed",
         "Master",
         "245",
         "9425",
         "9010",
         "1",
         "1827",
         "0"
        ],
        [
         "7",
         "8",
         "28.0",
         "Male",
         "14239.0",
         "Salaried",
         "High School",
         "27510",
         "12833",
         "18112",
         "5",
         "3181",
         "1"
        ],
        [
         "8",
         "9",
         "31.0",
         "Female",
         "18144.0",
         "Salaried",
         "Master",
         "-650",
         "6713",
         "20181",
         "5",
         "2448",
         "0"
        ],
        [
         "9",
         "10",
         "19.0",
         "Male",
         "6008.0",
         "Unemployed",
         "PhD",
         "20284",
         "9755",
         "16028",
         "3",
         "1336",
         "1"
        ]
       ],
       "shape": {
        "columns": 12,
        "rows": 10
       }
      },
      "text/html": [
       "<div>\n",
       "<style scoped>\n",
       "    .dataframe tbody tr th:only-of-type {\n",
       "        vertical-align: middle;\n",
       "    }\n",
       "\n",
       "    .dataframe tbody tr th {\n",
       "        vertical-align: top;\n",
       "    }\n",
       "\n",
       "    .dataframe thead th {\n",
       "        text-align: right;\n",
       "    }\n",
       "</style>\n",
       "<table border=\"1\" class=\"dataframe\">\n",
       "  <thead>\n",
       "    <tr style=\"text-align: right;\">\n",
       "      <th></th>\n",
       "      <th>customer_id</th>\n",
       "      <th>age</th>\n",
       "      <th>gender</th>\n",
       "      <th>income</th>\n",
       "      <th>employment_type</th>\n",
       "      <th>education</th>\n",
       "      <th>total_debt</th>\n",
       "      <th>balance</th>\n",
       "      <th>credit_limit</th>\n",
       "      <th>late_payments</th>\n",
       "      <th>monthly_balance</th>\n",
       "      <th>default</th>\n",
       "    </tr>\n",
       "  </thead>\n",
       "  <tbody>\n",
       "    <tr>\n",
       "      <th>0</th>\n",
       "      <td>1</td>\n",
       "      <td>38.0</td>\n",
       "      <td>Male</td>\n",
       "      <td>30250.0</td>\n",
       "      <td>Salaried</td>\n",
       "      <td>PhD</td>\n",
       "      <td>25531</td>\n",
       "      <td>8894</td>\n",
       "      <td>10217</td>\n",
       "      <td>2</td>\n",
       "      <td>2541</td>\n",
       "      <td>0</td>\n",
       "    </tr>\n",
       "    <tr>\n",
       "      <th>1</th>\n",
       "      <td>2</td>\n",
       "      <td>18.0</td>\n",
       "      <td>Female</td>\n",
       "      <td>18709.0</td>\n",
       "      <td>Salaried</td>\n",
       "      <td>Bachelor</td>\n",
       "      <td>14517</td>\n",
       "      <td>10346</td>\n",
       "      <td>15245</td>\n",
       "      <td>3</td>\n",
       "      <td>2692</td>\n",
       "      <td>1</td>\n",
       "    </tr>\n",
       "    <tr>\n",
       "      <th>2</th>\n",
       "      <td>3</td>\n",
       "      <td>34.0</td>\n",
       "      <td>Male</td>\n",
       "      <td>4563.0</td>\n",
       "      <td>Salaried</td>\n",
       "      <td>Master</td>\n",
       "      <td>39234</td>\n",
       "      <td>10962</td>\n",
       "      <td>17609</td>\n",
       "      <td>2</td>\n",
       "      <td>2957</td>\n",
       "      <td>0</td>\n",
       "    </tr>\n",
       "    <tr>\n",
       "      <th>3</th>\n",
       "      <td>4</td>\n",
       "      <td>56.0</td>\n",
       "      <td>Female</td>\n",
       "      <td>48782.0</td>\n",
       "      <td>Salaried</td>\n",
       "      <td>Bachelor</td>\n",
       "      <td>12253</td>\n",
       "      <td>21960</td>\n",
       "      <td>12636</td>\n",
       "      <td>3</td>\n",
       "      <td>2398</td>\n",
       "      <td>0</td>\n",
       "    </tr>\n",
       "    <tr>\n",
       "      <th>4</th>\n",
       "      <td>5</td>\n",
       "      <td>38.0</td>\n",
       "      <td>Male</td>\n",
       "      <td>47630.0</td>\n",
       "      <td>Self employed</td>\n",
       "      <td>Master</td>\n",
       "      <td>3108</td>\n",
       "      <td>-496</td>\n",
       "      <td>18226</td>\n",
       "      <td>0</td>\n",
       "      <td>4165</td>\n",
       "      <td>0</td>\n",
       "    </tr>\n",
       "    <tr>\n",
       "      <th>5</th>\n",
       "      <td>6</td>\n",
       "      <td>24.0</td>\n",
       "      <td>Male</td>\n",
       "      <td>32569.0</td>\n",
       "      <td>Unemployed</td>\n",
       "      <td>High School</td>\n",
       "      <td>15287</td>\n",
       "      <td>13416</td>\n",
       "      <td>16838</td>\n",
       "      <td>1</td>\n",
       "      <td>1395</td>\n",
       "      <td>0</td>\n",
       "    </tr>\n",
       "    <tr>\n",
       "      <th>6</th>\n",
       "      <td>7</td>\n",
       "      <td>24.0</td>\n",
       "      <td>Male</td>\n",
       "      <td>16524.0</td>\n",
       "      <td>Self employed</td>\n",
       "      <td>Master</td>\n",
       "      <td>245</td>\n",
       "      <td>9425</td>\n",
       "      <td>9010</td>\n",
       "      <td>1</td>\n",
       "      <td>1827</td>\n",
       "      <td>0</td>\n",
       "    </tr>\n",
       "    <tr>\n",
       "      <th>7</th>\n",
       "      <td>8</td>\n",
       "      <td>28.0</td>\n",
       "      <td>Male</td>\n",
       "      <td>14239.0</td>\n",
       "      <td>Salaried</td>\n",
       "      <td>High School</td>\n",
       "      <td>27510</td>\n",
       "      <td>12833</td>\n",
       "      <td>18112</td>\n",
       "      <td>5</td>\n",
       "      <td>3181</td>\n",
       "      <td>1</td>\n",
       "    </tr>\n",
       "    <tr>\n",
       "      <th>8</th>\n",
       "      <td>9</td>\n",
       "      <td>31.0</td>\n",
       "      <td>Female</td>\n",
       "      <td>18144.0</td>\n",
       "      <td>Salaried</td>\n",
       "      <td>Master</td>\n",
       "      <td>-650</td>\n",
       "      <td>6713</td>\n",
       "      <td>20181</td>\n",
       "      <td>5</td>\n",
       "      <td>2448</td>\n",
       "      <td>0</td>\n",
       "    </tr>\n",
       "    <tr>\n",
       "      <th>9</th>\n",
       "      <td>10</td>\n",
       "      <td>19.0</td>\n",
       "      <td>Male</td>\n",
       "      <td>6008.0</td>\n",
       "      <td>Unemployed</td>\n",
       "      <td>PhD</td>\n",
       "      <td>20284</td>\n",
       "      <td>9755</td>\n",
       "      <td>16028</td>\n",
       "      <td>3</td>\n",
       "      <td>1336</td>\n",
       "      <td>1</td>\n",
       "    </tr>\n",
       "  </tbody>\n",
       "</table>\n",
       "</div>"
      ],
      "text/plain": [
       "   customer_id   age  gender   income employment_type    education  \\\n",
       "0            1  38.0    Male  30250.0        Salaried          PhD   \n",
       "1            2  18.0  Female  18709.0        Salaried     Bachelor   \n",
       "2            3  34.0    Male   4563.0        Salaried       Master   \n",
       "3            4  56.0  Female  48782.0        Salaried     Bachelor   \n",
       "4            5  38.0    Male  47630.0   Self employed       Master   \n",
       "5            6  24.0    Male  32569.0      Unemployed  High School   \n",
       "6            7  24.0    Male  16524.0   Self employed       Master   \n",
       "7            8  28.0    Male  14239.0        Salaried  High School   \n",
       "8            9  31.0  Female  18144.0        Salaried       Master   \n",
       "9           10  19.0    Male   6008.0      Unemployed          PhD   \n",
       "\n",
       "   total_debt  balance  credit_limit  late_payments  monthly_balance  default  \n",
       "0       25531     8894         10217              2             2541        0  \n",
       "1       14517    10346         15245              3             2692        1  \n",
       "2       39234    10962         17609              2             2957        0  \n",
       "3       12253    21960         12636              3             2398        0  \n",
       "4        3108     -496         18226              0             4165        0  \n",
       "5       15287    13416         16838              1             1395        0  \n",
       "6         245     9425          9010              1             1827        0  \n",
       "7       27510    12833         18112              5             3181        1  \n",
       "8        -650     6713         20181              5             2448        0  \n",
       "9       20284     9755         16028              3             1336        1  "
      ]
     },
     "execution_count": 4,
     "metadata": {},
     "output_type": "execute_result"
    }
   ],
   "source": [
    "df.head(10)"
   ]
  },
  {
   "cell_type": "code",
   "execution_count": 5,
   "id": "53e3ecd5",
   "metadata": {},
   "outputs": [
    {
     "name": "stdout",
     "output_type": "stream",
     "text": [
      "Shape: (1010, 12)\n",
      "<class 'pandas.core.frame.DataFrame'>\n",
      "RangeIndex: 1010 entries, 0 to 1009\n",
      "Data columns (total 12 columns):\n",
      " #   Column           Non-Null Count  Dtype  \n",
      "---  ------           --------------  -----  \n",
      " 0   customer_id      1010 non-null   int64  \n",
      " 1   age              960 non-null    float64\n",
      " 2   gender           1010 non-null   object \n",
      " 3   income           990 non-null    float64\n",
      " 4   employment_type  960 non-null    object \n",
      " 5   education        1010 non-null   object \n",
      " 6   total_debt       1010 non-null   int64  \n",
      " 7   balance          1010 non-null   int64  \n",
      " 8   credit_limit     1010 non-null   int64  \n",
      " 9   late_payments    1010 non-null   int64  \n",
      " 10  monthly_balance  1010 non-null   int64  \n",
      " 11  default          1010 non-null   int64  \n",
      "dtypes: float64(2), int64(7), object(3)\n",
      "memory usage: 94.8+ KB\n"
     ]
    }
   ],
   "source": [
    "print(\"Shape:\", df.shape)\n",
    "df.info()"
   ]
  },
  {
   "cell_type": "markdown",
   "id": "8066a4d8",
   "metadata": {},
   "source": [
    "### Step 1.2 – Summary Statistics\n",
    "- Describe numeric variables\n",
    "- Count categorical values"
   ]
  },
  {
   "cell_type": "code",
   "execution_count": 6,
   "id": "288caa4e",
   "metadata": {},
   "outputs": [
    {
     "name": "stdout",
     "output_type": "stream",
     "text": [
      "<class 'pandas.core.frame.DataFrame'>\n",
      "RangeIndex: 1010 entries, 0 to 1009\n",
      "Data columns (total 12 columns):\n",
      " #   Column           Non-Null Count  Dtype  \n",
      "---  ------           --------------  -----  \n",
      " 0   customer_id      1010 non-null   int64  \n",
      " 1   age              960 non-null    float64\n",
      " 2   gender           1010 non-null   object \n",
      " 3   income           990 non-null    float64\n",
      " 4   employment_type  960 non-null    object \n",
      " 5   education        1010 non-null   object \n",
      " 6   total_debt       1010 non-null   int64  \n",
      " 7   balance          1010 non-null   int64  \n",
      " 8   credit_limit     1010 non-null   int64  \n",
      " 9   late_payments    1010 non-null   int64  \n",
      " 10  monthly_balance  1010 non-null   int64  \n",
      " 11  default          1010 non-null   int64  \n",
      "dtypes: float64(2), int64(7), object(3)\n",
      "memory usage: 94.8+ KB\n"
     ]
    }
   ],
   "source": [
    "df.info()"
   ]
  },
  {
   "cell_type": "code",
   "execution_count": 7,
   "id": "57d01245",
   "metadata": {},
   "outputs": [
    {
     "data": {
      "application/vnd.microsoft.datawrangler.viewer.v0+json": {
       "columns": [
        {
         "name": "employment_type",
         "rawType": "object",
         "type": "unknown"
        },
        {
         "name": "count",
         "rawType": "int64",
         "type": "integer"
        }
       ],
       "ref": "4f7516cb-30f6-4b76-92bc-d25881b839e5",
       "rows": [
        [
         "Salaried",
         "578"
        ],
        [
         "Self-Employed",
         "156"
        ],
        [
         "Self employed",
         "143"
        ],
        [
         "Unemployed",
         "83"
        ],
        [
         null,
         "50"
        ]
       ],
       "shape": {
        "columns": 1,
        "rows": 5
       }
      },
      "text/plain": [
       "employment_type\n",
       "Salaried         578\n",
       "Self-Employed    156\n",
       "Self employed    143\n",
       "Unemployed        83\n",
       "NaN               50\n",
       "Name: count, dtype: int64"
      ]
     },
     "execution_count": 7,
     "metadata": {},
     "output_type": "execute_result"
    }
   ],
   "source": [
    "df['employment_type'].value_counts(dropna=False)"
   ]
  },
  {
   "cell_type": "markdown",
   "id": "95e07667",
   "metadata": {},
   "source": [
    "### Step 1.3 – Missing Values\n",
    "- Identify columns with NaN\n",
    "- Check proportions of missing\n",
    "\n",
    "\n",
    "*Explanation*: Missing values can bias results. Small amounts may be dropped, but important fields are often imputed with logical strategies."
   ]
  },
  {
   "cell_type": "code",
   "execution_count": null,
   "id": "6aafdb58",
   "metadata": {},
   "outputs": [
    {
     "data": {
      "application/vnd.microsoft.datawrangler.viewer.v0+json": {
       "columns": [
        {
         "name": "index",
         "rawType": "object",
         "type": "string"
        },
        {
         "name": "0",
         "rawType": "int64",
         "type": "integer"
        }
       ],
       "ref": "e1c6663b-e816-4e29-a2dc-7ff13b487364",
       "rows": [
        [
         "customer_id",
         "0"
        ],
        [
         "age",
         "50"
        ],
        [
         "gender",
         "0"
        ],
        [
         "income",
         "20"
        ],
        [
         "employment_type",
         "50"
        ],
        [
         "education",
         "0"
        ],
        [
         "total_debt",
         "0"
        ],
        [
         "balance",
         "0"
        ],
        [
         "credit_limit",
         "0"
        ],
        [
         "late_payments",
         "0"
        ],
        [
         "monthly_balance",
         "0"
        ],
        [
         "default",
         "0"
        ]
       ],
       "shape": {
        "columns": 1,
        "rows": 12
       }
      },
      "text/plain": [
       "customer_id         0\n",
       "age                50\n",
       "gender              0\n",
       "income             20\n",
       "employment_type    50\n",
       "education           0\n",
       "total_debt          0\n",
       "balance             0\n",
       "credit_limit        0\n",
       "late_payments       0\n",
       "monthly_balance     0\n",
       "default             0\n",
       "dtype: int64"
      ]
     },
     "execution_count": 7,
     "metadata": {},
     "output_type": "execute_result"
    }
   ],
   "source": [
    "df.isnull().sum()"
   ]
  },
  {
   "cell_type": "markdown",
   "id": "2ac3db16",
   "metadata": {},
   "source": [
    "### Step 1.4 – Distributions & Outliers\n",
    "- Plot histograms for numeric columns\n",
    "- Use boxplots to detect outliers\n",
    "\n",
    "\n",
    "*Explanation*: Visualizing distributions helps detect skewness, outliers, or unrealistic values (e.g., negative income)."
   ]
  },
  {
   "cell_type": "code",
   "execution_count": null,
   "id": "c36f7451",
   "metadata": {},
   "outputs": [
    {
     "data": {
      "application/vnd.plotly.v1+json": {
       "config": {
        "plotlyServerURL": "https://plot.ly"
       },
       "data": [
        {
         "alignmentgroup": "True",
         "bingroup": "x",
         "hovertemplate": "age=%{x}<br>count=%{y}<extra></extra>",
         "legendgroup": "",
         "marker": {
          "color": "#636efa",
          "pattern": {
           "shape": ""
          }
         },
         "name": "",
         "nbinsx": 30,
         "offsetgroup": "",
         "orientation": "v",
         "showlegend": false,
         "type": "histogram",
         "x": [
          38,
          18,
          34,
          56,
          38,
          24,
          24,
          28,
          31,
          19,
          41,
          43,
          34,
          58,
          33,
          50,
          24,
          40,
          42,
          30,
          39,
          30,
          34,
          35,
          23,
          -43,
          43,
          34,
          40,
          28,
          25,
          34,
          44,
          37,
          33,
          41,
          28,
          25,
          34,
          29,
          26,
          47,
          60,
          22,
          33,
          39,
          20,
          35,
          36,
          42,
          30,
          32,
          47,
          42,
          45,
          20,
          31,
          53,
          37,
          36,
          37,
          53,
          30,
          44,
          40,
          24,
          35,
          29,
          25,
          49,
          null,
          45,
          29,
          51,
          33,
          41,
          null,
          18,
          21,
          19,
          40,
          37,
          43,
          31,
          18,
          51,
          47,
          41,
          49,
          36,
          40,
          30,
          27,
          22,
          30,
          64,
          null,
          28,
          39,
          61,
          27,
          null,
          44,
          44,
          31,
          29,
          42,
          34,
          40,
          36,
          41,
          42,
          18,
          33,
          41,
          46,
          34,
          19,
          50,
          -46,
          39,
          33,
          44,
          33,
          46,
          55,
          33,
          45,
          31,
          48,
          35,
          52,
          35,
          29,
          34,
          35,
          40,
          34,
          40,
          40,
          33,
          41,
          32,
          57,
          40,
          44,
          -36,
          30,
          46,
          41,
          18,
          57,
          45,
          34,
          44,
          42,
          42,
          29,
          null,
          41,
          50,
          39,
          42,
          28,
          38,
          46,
          31,
          34,
          28,
          24,
          29,
          43,
          35,
          29,
          59,
          30,
          44,
          41,
          40,
          19,
          50,
          41,
          47,
          49,
          55,
          28,
          30,
          -32,
          29,
          51,
          27,
          34,
          21,
          45,
          36,
          46,
          45,
          21,
          39,
          27,
          39,
          32,
          56,
          64,
          35,
          38,
          18,
          21,
          41,
          null,
          42,
          30,
          41,
          null,
          31,
          42,
          54,
          36,
          43,
          31,
          42,
          33,
          57,
          34,
          36,
          45,
          43,
          34,
          42,
          27,
          40,
          43,
          33,
          34,
          31,
          23,
          42,
          null,
          43,
          36,
          44,
          20,
          26,
          29,
          null,
          42,
          35,
          null,
          43,
          32,
          45,
          35,
          50,
          28,
          36,
          28,
          54,
          38,
          27,
          null,
          -43,
          19,
          36,
          29,
          36,
          39,
          37,
          35,
          39,
          55,
          50,
          34,
          45,
          44,
          34,
          37,
          43,
          30,
          35,
          36,
          35,
          null,
          42,
          38,
          44,
          63,
          null,
          40,
          43,
          48,
          42,
          27,
          31,
          39,
          null,
          23,
          29,
          29,
          null,
          63,
          41,
          39,
          47,
          55,
          41,
          48,
          32,
          28,
          47,
          46,
          45,
          39,
          30,
          33,
          null,
          32,
          39,
          30,
          36,
          27,
          37,
          null,
          20,
          44,
          44,
          38,
          26,
          26,
          61,
          18,
          27,
          null,
          62,
          54,
          43,
          31,
          21,
          42,
          30,
          52,
          19,
          40,
          47,
          48,
          46,
          41,
          39,
          47,
          41,
          41,
          38,
          34,
          24,
          26,
          34,
          36,
          28,
          27,
          34,
          47,
          18,
          28,
          39,
          50,
          59,
          34,
          34,
          36,
          40,
          37,
          39,
          24,
          21,
          45,
          36,
          46,
          40,
          23,
          53,
          38,
          30,
          32,
          null,
          41,
          36,
          58,
          43,
          57,
          null,
          34,
          46,
          43,
          37,
          27,
          18,
          35,
          36,
          39,
          23,
          29,
          41,
          43,
          40,
          34,
          26,
          47,
          45,
          32,
          46,
          37,
          31,
          47,
          39,
          33,
          25,
          26,
          46,
          42,
          26,
          26,
          59,
          42,
          50,
          52,
          28,
          55,
          27,
          45,
          36,
          45,
          35,
          43,
          null,
          49,
          37,
          28,
          35,
          42,
          44,
          48,
          30,
          28,
          27,
          36,
          40,
          41,
          23,
          28,
          30,
          55,
          34,
          23,
          41,
          null,
          26,
          33,
          34,
          36,
          47,
          43,
          39,
          47,
          33,
          30,
          null,
          40,
          23,
          52,
          27,
          43,
          43,
          18,
          40,
          54,
          30,
          19,
          36,
          42,
          37,
          28,
          27,
          21,
          19,
          34,
          42,
          39,
          40,
          44,
          51,
          38,
          41,
          41,
          39,
          38,
          39,
          53,
          52,
          20,
          40,
          38,
          50,
          37,
          40,
          31,
          46,
          25,
          34,
          27,
          34,
          32,
          46,
          35,
          52,
          35,
          27,
          35,
          null,
          54,
          31,
          54,
          36,
          33,
          45,
          52,
          43,
          23,
          41,
          59,
          18,
          null,
          35,
          null,
          48,
          20,
          34,
          48,
          46,
          43,
          39,
          36,
          33,
          28,
          46,
          40,
          46,
          30,
          29,
          42,
          18,
          18,
          48,
          30,
          null,
          41,
          48,
          33,
          34,
          31,
          44,
          44,
          50,
          25,
          60,
          34,
          37,
          39,
          28,
          33,
          52,
          52,
          40,
          48,
          42,
          37,
          30,
          null,
          30,
          54,
          46,
          52,
          41,
          29,
          44,
          50,
          44,
          -24,
          23,
          44,
          34,
          41,
          30,
          39,
          26,
          40,
          45,
          null,
          24,
          42,
          32,
          53,
          47,
          38,
          59,
          30,
          37,
          43,
          58,
          52,
          46,
          29,
          29,
          44,
          25,
          null,
          46,
          23,
          44,
          46,
          34,
          36,
          20,
          36,
          22,
          31,
          33,
          26,
          25,
          26,
          50,
          null,
          50,
          33,
          34,
          33,
          18,
          43,
          36,
          38,
          18,
          37,
          33,
          39,
          37,
          33,
          43,
          48,
          33,
          23,
          24,
          42,
          50,
          19,
          27,
          34,
          18,
          37,
          41,
          null,
          34,
          34,
          27,
          20,
          36,
          42,
          38,
          49,
          41,
          44,
          null,
          56,
          33,
          44,
          40,
          45,
          41,
          37,
          41,
          43,
          44,
          52,
          39,
          27,
          39,
          33,
          null,
          34,
          28,
          18,
          52,
          33,
          20,
          39,
          44,
          36,
          25,
          23,
          60,
          23,
          21,
          34,
          46,
          54,
          35,
          35,
          null,
          48,
          37,
          37,
          42,
          41,
          36,
          51,
          21,
          40,
          42,
          33,
          44,
          44,
          49,
          36,
          35,
          43,
          36,
          22,
          46,
          19,
          42,
          63,
          43,
          31,
          33,
          41,
          37,
          45,
          52,
          51,
          26,
          38,
          42,
          null,
          41,
          31,
          42,
          56,
          35,
          -30,
          37,
          31,
          46,
          31,
          50,
          42,
          44,
          44,
          46,
          34,
          28,
          33,
          47,
          20,
          18,
          40,
          46,
          47,
          28,
          26,
          31,
          34,
          34,
          39,
          52,
          37,
          47,
          44,
          30,
          44,
          43,
          37,
          39,
          37,
          27,
          61,
          -48,
          43,
          33,
          37,
          26,
          42,
          null,
          35,
          38,
          35,
          33,
          30,
          27,
          30,
          null,
          48,
          31,
          18,
          40,
          44,
          47,
          39,
          26,
          30,
          44,
          52,
          26,
          40,
          32,
          29,
          38,
          36,
          18,
          40,
          41,
          45,
          32,
          22,
          33,
          45,
          37,
          46,
          24,
          46,
          40,
          34,
          48,
          40,
          28,
          47,
          35,
          38,
          29,
          37,
          28,
          null,
          38,
          44,
          23,
          48,
          48,
          36,
          null,
          41,
          38,
          44,
          34,
          30,
          42,
          22,
          44,
          45,
          30,
          52,
          34,
          33,
          31,
          42,
          34,
          23,
          41,
          35,
          48,
          41,
          40,
          48,
          39,
          45,
          null,
          54,
          40,
          25,
          39,
          39,
          39,
          18,
          32,
          null,
          24,
          39,
          32,
          34,
          29,
          51,
          38,
          null,
          44,
          null,
          49,
          37,
          31,
          32,
          33,
          42,
          30,
          50,
          41,
          40,
          38,
          null,
          null,
          40,
          57,
          44,
          42,
          22,
          48,
          46,
          49,
          28,
          34,
          23,
          22,
          32,
          42,
          33,
          31,
          null,
          18,
          32,
          null,
          33,
          50,
          31,
          32,
          28,
          30,
          40,
          46,
          59,
          43,
          26,
          50,
          42,
          38,
          48,
          61,
          36,
          29,
          51,
          64,
          39,
          38,
          39,
          42,
          23,
          41,
          40,
          40,
          39,
          38,
          18,
          30,
          46,
          null,
          33,
          28,
          45,
          40,
          36,
          46,
          26,
          49,
          22,
          -29,
          27,
          32,
          41,
          44,
          37,
          25,
          18,
          46,
          45,
          48,
          36,
          44,
          31,
          42,
          33,
          29,
          40,
          39,
          47,
          25,
          47,
          39,
          48,
          48,
          18,
          48,
          48,
          25,
          22,
          null,
          39,
          31,
          52,
          41,
          18,
          27,
          48,
          38,
          30,
          42,
          31,
          25,
          48
         ],
         "xaxis": "x",
         "yaxis": "y"
        }
       ],
       "layout": {
        "barmode": "relative",
        "legend": {
         "tracegroupgap": 0
        },
        "template": {
         "data": {
          "bar": [
           {
            "error_x": {
             "color": "#2a3f5f"
            },
            "error_y": {
             "color": "#2a3f5f"
            },
            "marker": {
             "line": {
              "color": "#E5ECF6",
              "width": 0.5
             },
             "pattern": {
              "fillmode": "overlay",
              "size": 10,
              "solidity": 0.2
             }
            },
            "type": "bar"
           }
          ],
          "barpolar": [
           {
            "marker": {
             "line": {
              "color": "#E5ECF6",
              "width": 0.5
             },
             "pattern": {
              "fillmode": "overlay",
              "size": 10,
              "solidity": 0.2
             }
            },
            "type": "barpolar"
           }
          ],
          "carpet": [
           {
            "aaxis": {
             "endlinecolor": "#2a3f5f",
             "gridcolor": "white",
             "linecolor": "white",
             "minorgridcolor": "white",
             "startlinecolor": "#2a3f5f"
            },
            "baxis": {
             "endlinecolor": "#2a3f5f",
             "gridcolor": "white",
             "linecolor": "white",
             "minorgridcolor": "white",
             "startlinecolor": "#2a3f5f"
            },
            "type": "carpet"
           }
          ],
          "choropleth": [
           {
            "colorbar": {
             "outlinewidth": 0,
             "ticks": ""
            },
            "type": "choropleth"
           }
          ],
          "contour": [
           {
            "colorbar": {
             "outlinewidth": 0,
             "ticks": ""
            },
            "colorscale": [
             [
              0,
              "#0d0887"
             ],
             [
              0.1111111111111111,
              "#46039f"
             ],
             [
              0.2222222222222222,
              "#7201a8"
             ],
             [
              0.3333333333333333,
              "#9c179e"
             ],
             [
              0.4444444444444444,
              "#bd3786"
             ],
             [
              0.5555555555555556,
              "#d8576b"
             ],
             [
              0.6666666666666666,
              "#ed7953"
             ],
             [
              0.7777777777777778,
              "#fb9f3a"
             ],
             [
              0.8888888888888888,
              "#fdca26"
             ],
             [
              1,
              "#f0f921"
             ]
            ],
            "type": "contour"
           }
          ],
          "contourcarpet": [
           {
            "colorbar": {
             "outlinewidth": 0,
             "ticks": ""
            },
            "type": "contourcarpet"
           }
          ],
          "heatmap": [
           {
            "colorbar": {
             "outlinewidth": 0,
             "ticks": ""
            },
            "colorscale": [
             [
              0,
              "#0d0887"
             ],
             [
              0.1111111111111111,
              "#46039f"
             ],
             [
              0.2222222222222222,
              "#7201a8"
             ],
             [
              0.3333333333333333,
              "#9c179e"
             ],
             [
              0.4444444444444444,
              "#bd3786"
             ],
             [
              0.5555555555555556,
              "#d8576b"
             ],
             [
              0.6666666666666666,
              "#ed7953"
             ],
             [
              0.7777777777777778,
              "#fb9f3a"
             ],
             [
              0.8888888888888888,
              "#fdca26"
             ],
             [
              1,
              "#f0f921"
             ]
            ],
            "type": "heatmap"
           }
          ],
          "heatmapgl": [
           {
            "colorbar": {
             "outlinewidth": 0,
             "ticks": ""
            },
            "colorscale": [
             [
              0,
              "#0d0887"
             ],
             [
              0.1111111111111111,
              "#46039f"
             ],
             [
              0.2222222222222222,
              "#7201a8"
             ],
             [
              0.3333333333333333,
              "#9c179e"
             ],
             [
              0.4444444444444444,
              "#bd3786"
             ],
             [
              0.5555555555555556,
              "#d8576b"
             ],
             [
              0.6666666666666666,
              "#ed7953"
             ],
             [
              0.7777777777777778,
              "#fb9f3a"
             ],
             [
              0.8888888888888888,
              "#fdca26"
             ],
             [
              1,
              "#f0f921"
             ]
            ],
            "type": "heatmapgl"
           }
          ],
          "histogram": [
           {
            "marker": {
             "pattern": {
              "fillmode": "overlay",
              "size": 10,
              "solidity": 0.2
             }
            },
            "type": "histogram"
           }
          ],
          "histogram2d": [
           {
            "colorbar": {
             "outlinewidth": 0,
             "ticks": ""
            },
            "colorscale": [
             [
              0,
              "#0d0887"
             ],
             [
              0.1111111111111111,
              "#46039f"
             ],
             [
              0.2222222222222222,
              "#7201a8"
             ],
             [
              0.3333333333333333,
              "#9c179e"
             ],
             [
              0.4444444444444444,
              "#bd3786"
             ],
             [
              0.5555555555555556,
              "#d8576b"
             ],
             [
              0.6666666666666666,
              "#ed7953"
             ],
             [
              0.7777777777777778,
              "#fb9f3a"
             ],
             [
              0.8888888888888888,
              "#fdca26"
             ],
             [
              1,
              "#f0f921"
             ]
            ],
            "type": "histogram2d"
           }
          ],
          "histogram2dcontour": [
           {
            "colorbar": {
             "outlinewidth": 0,
             "ticks": ""
            },
            "colorscale": [
             [
              0,
              "#0d0887"
             ],
             [
              0.1111111111111111,
              "#46039f"
             ],
             [
              0.2222222222222222,
              "#7201a8"
             ],
             [
              0.3333333333333333,
              "#9c179e"
             ],
             [
              0.4444444444444444,
              "#bd3786"
             ],
             [
              0.5555555555555556,
              "#d8576b"
             ],
             [
              0.6666666666666666,
              "#ed7953"
             ],
             [
              0.7777777777777778,
              "#fb9f3a"
             ],
             [
              0.8888888888888888,
              "#fdca26"
             ],
             [
              1,
              "#f0f921"
             ]
            ],
            "type": "histogram2dcontour"
           }
          ],
          "mesh3d": [
           {
            "colorbar": {
             "outlinewidth": 0,
             "ticks": ""
            },
            "type": "mesh3d"
           }
          ],
          "parcoords": [
           {
            "line": {
             "colorbar": {
              "outlinewidth": 0,
              "ticks": ""
             }
            },
            "type": "parcoords"
           }
          ],
          "pie": [
           {
            "automargin": true,
            "type": "pie"
           }
          ],
          "scatter": [
           {
            "fillpattern": {
             "fillmode": "overlay",
             "size": 10,
             "solidity": 0.2
            },
            "type": "scatter"
           }
          ],
          "scatter3d": [
           {
            "line": {
             "colorbar": {
              "outlinewidth": 0,
              "ticks": ""
             }
            },
            "marker": {
             "colorbar": {
              "outlinewidth": 0,
              "ticks": ""
             }
            },
            "type": "scatter3d"
           }
          ],
          "scattercarpet": [
           {
            "marker": {
             "colorbar": {
              "outlinewidth": 0,
              "ticks": ""
             }
            },
            "type": "scattercarpet"
           }
          ],
          "scattergeo": [
           {
            "marker": {
             "colorbar": {
              "outlinewidth": 0,
              "ticks": ""
             }
            },
            "type": "scattergeo"
           }
          ],
          "scattergl": [
           {
            "marker": {
             "colorbar": {
              "outlinewidth": 0,
              "ticks": ""
             }
            },
            "type": "scattergl"
           }
          ],
          "scattermapbox": [
           {
            "marker": {
             "colorbar": {
              "outlinewidth": 0,
              "ticks": ""
             }
            },
            "type": "scattermapbox"
           }
          ],
          "scatterpolar": [
           {
            "marker": {
             "colorbar": {
              "outlinewidth": 0,
              "ticks": ""
             }
            },
            "type": "scatterpolar"
           }
          ],
          "scatterpolargl": [
           {
            "marker": {
             "colorbar": {
              "outlinewidth": 0,
              "ticks": ""
             }
            },
            "type": "scatterpolargl"
           }
          ],
          "scatterternary": [
           {
            "marker": {
             "colorbar": {
              "outlinewidth": 0,
              "ticks": ""
             }
            },
            "type": "scatterternary"
           }
          ],
          "surface": [
           {
            "colorbar": {
             "outlinewidth": 0,
             "ticks": ""
            },
            "colorscale": [
             [
              0,
              "#0d0887"
             ],
             [
              0.1111111111111111,
              "#46039f"
             ],
             [
              0.2222222222222222,
              "#7201a8"
             ],
             [
              0.3333333333333333,
              "#9c179e"
             ],
             [
              0.4444444444444444,
              "#bd3786"
             ],
             [
              0.5555555555555556,
              "#d8576b"
             ],
             [
              0.6666666666666666,
              "#ed7953"
             ],
             [
              0.7777777777777778,
              "#fb9f3a"
             ],
             [
              0.8888888888888888,
              "#fdca26"
             ],
             [
              1,
              "#f0f921"
             ]
            ],
            "type": "surface"
           }
          ],
          "table": [
           {
            "cells": {
             "fill": {
              "color": "#EBF0F8"
             },
             "line": {
              "color": "white"
             }
            },
            "header": {
             "fill": {
              "color": "#C8D4E3"
             },
             "line": {
              "color": "white"
             }
            },
            "type": "table"
           }
          ]
         },
         "layout": {
          "annotationdefaults": {
           "arrowcolor": "#2a3f5f",
           "arrowhead": 0,
           "arrowwidth": 1
          },
          "autotypenumbers": "strict",
          "coloraxis": {
           "colorbar": {
            "outlinewidth": 0,
            "ticks": ""
           }
          },
          "colorscale": {
           "diverging": [
            [
             0,
             "#8e0152"
            ],
            [
             0.1,
             "#c51b7d"
            ],
            [
             0.2,
             "#de77ae"
            ],
            [
             0.3,
             "#f1b6da"
            ],
            [
             0.4,
             "#fde0ef"
            ],
            [
             0.5,
             "#f7f7f7"
            ],
            [
             0.6,
             "#e6f5d0"
            ],
            [
             0.7,
             "#b8e186"
            ],
            [
             0.8,
             "#7fbc41"
            ],
            [
             0.9,
             "#4d9221"
            ],
            [
             1,
             "#276419"
            ]
           ],
           "sequential": [
            [
             0,
             "#0d0887"
            ],
            [
             0.1111111111111111,
             "#46039f"
            ],
            [
             0.2222222222222222,
             "#7201a8"
            ],
            [
             0.3333333333333333,
             "#9c179e"
            ],
            [
             0.4444444444444444,
             "#bd3786"
            ],
            [
             0.5555555555555556,
             "#d8576b"
            ],
            [
             0.6666666666666666,
             "#ed7953"
            ],
            [
             0.7777777777777778,
             "#fb9f3a"
            ],
            [
             0.8888888888888888,
             "#fdca26"
            ],
            [
             1,
             "#f0f921"
            ]
           ],
           "sequentialminus": [
            [
             0,
             "#0d0887"
            ],
            [
             0.1111111111111111,
             "#46039f"
            ],
            [
             0.2222222222222222,
             "#7201a8"
            ],
            [
             0.3333333333333333,
             "#9c179e"
            ],
            [
             0.4444444444444444,
             "#bd3786"
            ],
            [
             0.5555555555555556,
             "#d8576b"
            ],
            [
             0.6666666666666666,
             "#ed7953"
            ],
            [
             0.7777777777777778,
             "#fb9f3a"
            ],
            [
             0.8888888888888888,
             "#fdca26"
            ],
            [
             1,
             "#f0f921"
            ]
           ]
          },
          "colorway": [
           "#636efa",
           "#EF553B",
           "#00cc96",
           "#ab63fa",
           "#FFA15A",
           "#19d3f3",
           "#FF6692",
           "#B6E880",
           "#FF97FF",
           "#FECB52"
          ],
          "font": {
           "color": "#2a3f5f"
          },
          "geo": {
           "bgcolor": "white",
           "lakecolor": "white",
           "landcolor": "#E5ECF6",
           "showlakes": true,
           "showland": true,
           "subunitcolor": "white"
          },
          "hoverlabel": {
           "align": "left"
          },
          "hovermode": "closest",
          "mapbox": {
           "style": "light"
          },
          "paper_bgcolor": "white",
          "plot_bgcolor": "#E5ECF6",
          "polar": {
           "angularaxis": {
            "gridcolor": "white",
            "linecolor": "white",
            "ticks": ""
           },
           "bgcolor": "#E5ECF6",
           "radialaxis": {
            "gridcolor": "white",
            "linecolor": "white",
            "ticks": ""
           }
          },
          "scene": {
           "xaxis": {
            "backgroundcolor": "#E5ECF6",
            "gridcolor": "white",
            "gridwidth": 2,
            "linecolor": "white",
            "showbackground": true,
            "ticks": "",
            "zerolinecolor": "white"
           },
           "yaxis": {
            "backgroundcolor": "#E5ECF6",
            "gridcolor": "white",
            "gridwidth": 2,
            "linecolor": "white",
            "showbackground": true,
            "ticks": "",
            "zerolinecolor": "white"
           },
           "zaxis": {
            "backgroundcolor": "#E5ECF6",
            "gridcolor": "white",
            "gridwidth": 2,
            "linecolor": "white",
            "showbackground": true,
            "ticks": "",
            "zerolinecolor": "white"
           }
          },
          "shapedefaults": {
           "line": {
            "color": "#2a3f5f"
           }
          },
          "ternary": {
           "aaxis": {
            "gridcolor": "white",
            "linecolor": "white",
            "ticks": ""
           },
           "baxis": {
            "gridcolor": "white",
            "linecolor": "white",
            "ticks": ""
           },
           "bgcolor": "#E5ECF6",
           "caxis": {
            "gridcolor": "white",
            "linecolor": "white",
            "ticks": ""
           }
          },
          "title": {
           "x": 0.05
          },
          "xaxis": {
           "automargin": true,
           "gridcolor": "white",
           "linecolor": "white",
           "ticks": "",
           "title": {
            "standoff": 15
           },
           "zerolinecolor": "white",
           "zerolinewidth": 2
          },
          "yaxis": {
           "automargin": true,
           "gridcolor": "white",
           "linecolor": "white",
           "ticks": "",
           "title": {
            "standoff": 15
           },
           "zerolinecolor": "white",
           "zerolinewidth": 2
          }
         }
        },
        "title": {
         "text": "Age Distribution"
        },
        "xaxis": {
         "anchor": "y",
         "domain": [
          0,
          1
         ],
         "title": {
          "text": "age"
         }
        },
        "yaxis": {
         "anchor": "x",
         "domain": [
          0,
          1
         ],
         "title": {
          "text": "count"
         }
        }
       }
      }
     },
     "metadata": {},
     "output_type": "display_data"
    }
   ],
   "source": [
    "fig = px.histogram(df, x=\"age\", nbins=30, title=\"Age Distribution\")\n",
    "fig.show()"
   ]
  },
  {
   "cell_type": "code",
   "execution_count": null,
   "id": "9322da00",
   "metadata": {},
   "outputs": [
    {
     "data": {
      "application/vnd.plotly.v1+json": {
       "config": {
        "plotlyServerURL": "https://plot.ly"
       },
       "data": [
        {
         "alignmentgroup": "True",
         "bingroup": "x",
         "hovertemplate": "income=%{x}<br>count=%{y}<extra></extra>",
         "legendgroup": "",
         "marker": {
          "color": "#636efa",
          "pattern": {
           "shape": ""
          }
         },
         "name": "",
         "nbinsx": 30,
         "offsetgroup": "",
         "orientation": "v",
         "showlegend": false,
         "type": "histogram",
         "x": [
          30250,
          18709,
          4563,
          48782,
          47630,
          32569,
          16524,
          14239,
          18144,
          6008,
          9122,
          8862,
          20435,
          15882,
          6830,
          4381,
          17135,
          6347,
          null,
          57961,
          67290,
          9756,
          3727,
          31182,
          16903,
          22902,
          8566,
          6458,
          11298,
          15093,
          8006,
          33112,
          3959,
          17791,
          14594,
          31356,
          6826,
          21896,
          18656,
          15849,
          7182,
          7776,
          10857,
          9396,
          32275,
          14689,
          23302,
          4837,
          3679,
          11796,
          5460,
          13737,
          7404,
          16553,
          7723,
          19786,
          7210,
          3622,
          24267,
          7800,
          34917,
          8526,
          7511,
          10950,
          9024,
          14593,
          17708,
          19692,
          12581,
          4672,
          44640,
          10316,
          9946,
          12553,
          11126,
          3927,
          19979,
          7522,
          10650,
          45777,
          25877,
          41296,
          -8317,
          22270,
          17717,
          12858,
          7899,
          28544,
          9321,
          14696,
          25315,
          6743,
          6235,
          77751,
          7317,
          41428,
          12873,
          9915,
          10629,
          12790,
          34082,
          22680,
          11520,
          3618,
          13553,
          14661,
          32239,
          null,
          9457,
          9250,
          12847,
          14238,
          18158,
          3546,
          15079,
          15866,
          14081,
          11797,
          1219,
          19884,
          6759,
          20529,
          32051,
          4132,
          20096,
          5625,
          12969,
          12232,
          22685,
          20446,
          16050,
          4228,
          2297,
          25300,
          22528,
          -6645,
          17036,
          11539,
          28582,
          14164,
          25091,
          null,
          16309,
          10007,
          8665,
          2615,
          25500,
          45468,
          5056,
          21709,
          21085,
          9318,
          7972,
          30526,
          28355,
          18325,
          9283,
          28641,
          7438,
          36114,
          41879,
          null,
          16982,
          2245,
          11738,
          45954,
          25743,
          18119,
          8295,
          27366,
          4442,
          11853,
          45157,
          7607,
          20464,
          3905,
          8462,
          15148,
          17111,
          56795,
          9387,
          20253,
          19860,
          8846,
          26086,
          21326,
          11032,
          15310,
          6824,
          7187,
          13159,
          22544,
          10578,
          8677,
          11367,
          null,
          5185,
          24414,
          19117,
          5168,
          11331,
          20852,
          3507,
          6472,
          4600,
          8914,
          null,
          23360,
          9378,
          27453,
          21255,
          32617,
          12556,
          19484,
          141531,
          10756,
          12765,
          11953,
          12539,
          19745,
          13914,
          5138,
          13529,
          9242,
          3983,
          29777,
          9206,
          17472,
          1468,
          18944,
          10727,
          4498,
          9078,
          8263,
          22594,
          14232,
          4602,
          18159,
          3135,
          6078,
          13497,
          8629,
          30767,
          15040,
          20705,
          21305,
          9796,
          6337,
          -12900,
          24515,
          11351,
          20204,
          13107,
          4504,
          4780,
          39884,
          5900,
          8549,
          25395,
          5797,
          8279,
          11520,
          10513,
          6772,
          11667,
          21490,
          12258,
          -8425,
          25906,
          44113,
          26071,
          6085,
          6199,
          18140,
          15059,
          5668,
          16325,
          14317,
          37591,
          9849,
          null,
          36362,
          8340,
          17116,
          11521,
          11195,
          15872,
          7685,
          4373,
          9206,
          30534,
          11587,
          13144,
          23268,
          4367,
          18167,
          42997,
          14243,
          3476,
          12664,
          null,
          14450,
          16166,
          17585,
          6956,
          7592,
          10313,
          null,
          5811,
          56355,
          2449,
          4045,
          19684,
          18532,
          12699,
          null,
          19878,
          13360,
          16119,
          1482,
          12170,
          12921,
          null,
          7495,
          13028,
          36190,
          19773,
          13597,
          26202,
          7670,
          null,
          20946,
          4280,
          8746,
          null,
          23319,
          19820,
          9679,
          30953,
          12600,
          83815,
          5769,
          20935,
          10115,
          8317,
          -11835,
          17273,
          13916,
          21469,
          20432,
          36901,
          5762,
          4491,
          12740,
          7665,
          24630,
          6326,
          9093,
          10586,
          45975,
          58415,
          6009,
          2872,
          8939,
          13018,
          12977,
          12595,
          23650,
          null,
          15511,
          20978,
          15577,
          21439,
          4041,
          14474,
          15691,
          11897,
          8792,
          18450,
          14560,
          12876,
          10616,
          10911,
          7818,
          9576,
          6922,
          10188,
          17240,
          23713,
          12889,
          12642,
          14776,
          26591,
          11412,
          18472,
          17316,
          8634,
          21909,
          3132,
          28091,
          5791,
          12120,
          23867,
          9907,
          15739,
          24139,
          48715,
          13219,
          15151,
          13743,
          11442,
          5208,
          6096,
          13226,
          16962,
          32305,
          11535,
          38951,
          5749,
          15476,
          11080,
          5330,
          4084,
          9854,
          10385,
          7174,
          22768,
          10056,
          6696,
          11325,
          8587,
          42314,
          10714,
          7027,
          42259,
          22192,
          14391,
          7651,
          22847,
          4796,
          21704,
          15916,
          26716,
          2559,
          7013,
          6635,
          6108,
          17988,
          10864,
          7259,
          6172,
          6817,
          24490,
          12750,
          23907,
          86272,
          13193,
          4954,
          12137,
          49779,
          28587,
          8499,
          10798,
          22982,
          18689,
          23155,
          11301,
          17536,
          10789,
          35433,
          4589,
          4599,
          8101,
          8309,
          4589,
          4045,
          28224,
          11885,
          11272,
          13896,
          40892,
          14492,
          12358,
          8549,
          20318,
          12771,
          42467,
          11937,
          27047,
          8121,
          8065,
          3719,
          23298,
          13006,
          20903,
          43797,
          7385,
          6643,
          7700,
          3064,
          11669,
          24808,
          13826,
          4448,
          10406,
          null,
          null,
          23330,
          10489,
          10476,
          20249,
          8819,
          24312,
          8422,
          39568,
          15751,
          3388,
          20916,
          15968,
          18775,
          64622,
          11126,
          4506,
          32444,
          3844,
          7922,
          13759,
          7121,
          null,
          12148,
          39146,
          2452,
          14202,
          7012,
          9011,
          21505,
          19199,
          16983,
          5538,
          30648,
          7237,
          35258,
          8479,
          27490,
          14345,
          4138,
          10416,
          43986,
          23775,
          9852,
          33274,
          16273,
          42191,
          12639,
          10891,
          26681,
          15937,
          19737,
          7304,
          30328,
          26571,
          34409,
          5157,
          5920,
          7920,
          11298,
          5255,
          20870,
          9830,
          32182,
          58060,
          8814,
          7807,
          22541,
          14298,
          17305,
          33879,
          11046,
          6335,
          -5645,
          11800,
          10443,
          24475,
          35409,
          35312,
          8178,
          7613,
          3754,
          13388,
          24817,
          8146,
          4740,
          50015,
          8155,
          12349,
          9638,
          5253,
          25117,
          3927,
          29349,
          16117,
          11069,
          11199,
          18361,
          8518,
          15119,
          7174,
          2963,
          20576,
          73571,
          19855,
          12923,
          10121,
          10345,
          10120,
          15356,
          2513,
          2225,
          18321,
          11621,
          6700,
          6573,
          9041,
          9968,
          36182,
          6316,
          22805,
          20194,
          11537,
          22822,
          18199,
          5545,
          8819,
          17526,
          8790,
          20486,
          30144,
          13108,
          8741,
          8072,
          10352,
          9858,
          24460,
          8861,
          11813,
          23058,
          10604,
          9789,
          24586,
          30091,
          13723,
          42722,
          15003,
          24672,
          52496,
          8603,
          9274,
          23378,
          11939,
          6914,
          10462,
          4962,
          13591,
          null,
          28551,
          30526,
          10699,
          58414,
          6299,
          5013,
          5599,
          5884,
          22712,
          43369,
          44634,
          3571,
          24337,
          38907,
          26864,
          8575,
          15031,
          6863,
          22543,
          4795,
          21585,
          8127,
          17227,
          11187,
          10381,
          25919,
          38891,
          7291,
          15224,
          6244,
          9678,
          null,
          5533,
          28042,
          14363,
          9111,
          12826,
          30866,
          27429,
          19748,
          8361,
          14523,
          6224,
          12567,
          26491,
          30159,
          8518,
          23928,
          20723,
          11288,
          22522,
          31520,
          24232,
          6389,
          10996,
          17671,
          7612,
          39757,
          16637,
          9725,
          9309,
          8212,
          21896,
          23798,
          8394,
          37364,
          10189,
          7647,
          18658,
          5769,
          5138,
          6854,
          7710,
          22576,
          5391,
          17294,
          24078,
          36727,
          9468,
          10008,
          55576,
          34447,
          11023,
          29812,
          15886,
          13513,
          75983,
          28349,
          null,
          6351,
          47020,
          11974,
          11867,
          17551,
          19123,
          27961,
          24796,
          8456,
          6650,
          11685,
          13234,
          14219,
          34781,
          15200,
          84624,
          36756,
          10818,
          3855,
          71086,
          10963,
          25595,
          8374,
          40906,
          24183,
          6241,
          3400,
          15246,
          18920,
          22786,
          7750,
          8513,
          3558,
          9077,
          4264,
          8112,
          16809,
          16640,
          8334,
          16162,
          37594,
          10995,
          5457,
          23154,
          28693,
          8204,
          8247,
          3333,
          9676,
          7002,
          4600,
          10349,
          13313,
          11713,
          10649,
          38833,
          16567,
          21067,
          47450,
          26657,
          11031,
          3651,
          10301,
          37005,
          26526,
          10330,
          12640,
          14610,
          8680,
          9051,
          8482,
          18856,
          6379,
          36655,
          13301,
          6160,
          27397,
          38185,
          120424,
          34875,
          7239,
          15476,
          78441,
          7748,
          5491,
          10168,
          6566,
          8731,
          8409,
          22053,
          5390,
          14641,
          7820,
          19633,
          21188,
          24954,
          24951,
          8649,
          13319,
          37374,
          18202,
          24864,
          5699,
          26043,
          3567,
          4581,
          7118,
          17996,
          20286,
          7556,
          3472,
          26041,
          20157,
          18024,
          51465,
          14838,
          -6671,
          33864,
          10044,
          12411,
          9177,
          7460,
          9945,
          38732,
          6332,
          28244,
          3661,
          -40973,
          44091,
          6524,
          14118,
          20966,
          8752,
          49907,
          13563,
          9282,
          14117,
          7979,
          13556,
          9751,
          7744,
          23347,
          4085,
          45887,
          15697,
          48678,
          26197,
          5216,
          14037,
          3802,
          7097,
          12139,
          8155,
          9570,
          8375,
          63598,
          14518,
          20669,
          12884,
          16918,
          3169,
          43023,
          8060,
          29793,
          30616,
          3793,
          13894,
          17742,
          14427,
          13350,
          9847,
          8105,
          28018,
          17648,
          15210,
          4355,
          11162,
          12847,
          24065,
          3942,
          6203,
          47056,
          7645,
          3655,
          8195,
          7664,
          21073,
          20893,
          6778,
          10247,
          19454,
          19916,
          6475,
          6996,
          58772,
          11138,
          38002,
          15678,
          28753,
          20696,
          15058,
          14934,
          5605,
          11888,
          9270,
          10620,
          10314,
          14968,
          20880,
          12133,
          26066,
          9988,
          14195,
          78147,
          5761,
          9946,
          3751,
          15676,
          13515,
          -14588,
          7057,
          7838,
          13874,
          5004,
          24761,
          5046,
          12020,
          9847,
          9414,
          4341,
          12952,
          -5735,
          14737,
          7850,
          12897,
          3759,
          25300,
          28780,
          9077,
          94938,
          22754,
          11150,
          9474,
          7731,
          8835,
          12370,
          12956,
          4999,
          34486,
          23172,
          48682,
          17283,
          27797,
          5568,
          20364,
          3811,
          6767
         ],
         "xaxis": "x",
         "yaxis": "y"
        }
       ],
       "layout": {
        "barmode": "relative",
        "legend": {
         "tracegroupgap": 0
        },
        "template": {
         "data": {
          "bar": [
           {
            "error_x": {
             "color": "#2a3f5f"
            },
            "error_y": {
             "color": "#2a3f5f"
            },
            "marker": {
             "line": {
              "color": "#E5ECF6",
              "width": 0.5
             },
             "pattern": {
              "fillmode": "overlay",
              "size": 10,
              "solidity": 0.2
             }
            },
            "type": "bar"
           }
          ],
          "barpolar": [
           {
            "marker": {
             "line": {
              "color": "#E5ECF6",
              "width": 0.5
             },
             "pattern": {
              "fillmode": "overlay",
              "size": 10,
              "solidity": 0.2
             }
            },
            "type": "barpolar"
           }
          ],
          "carpet": [
           {
            "aaxis": {
             "endlinecolor": "#2a3f5f",
             "gridcolor": "white",
             "linecolor": "white",
             "minorgridcolor": "white",
             "startlinecolor": "#2a3f5f"
            },
            "baxis": {
             "endlinecolor": "#2a3f5f",
             "gridcolor": "white",
             "linecolor": "white",
             "minorgridcolor": "white",
             "startlinecolor": "#2a3f5f"
            },
            "type": "carpet"
           }
          ],
          "choropleth": [
           {
            "colorbar": {
             "outlinewidth": 0,
             "ticks": ""
            },
            "type": "choropleth"
           }
          ],
          "contour": [
           {
            "colorbar": {
             "outlinewidth": 0,
             "ticks": ""
            },
            "colorscale": [
             [
              0,
              "#0d0887"
             ],
             [
              0.1111111111111111,
              "#46039f"
             ],
             [
              0.2222222222222222,
              "#7201a8"
             ],
             [
              0.3333333333333333,
              "#9c179e"
             ],
             [
              0.4444444444444444,
              "#bd3786"
             ],
             [
              0.5555555555555556,
              "#d8576b"
             ],
             [
              0.6666666666666666,
              "#ed7953"
             ],
             [
              0.7777777777777778,
              "#fb9f3a"
             ],
             [
              0.8888888888888888,
              "#fdca26"
             ],
             [
              1,
              "#f0f921"
             ]
            ],
            "type": "contour"
           }
          ],
          "contourcarpet": [
           {
            "colorbar": {
             "outlinewidth": 0,
             "ticks": ""
            },
            "type": "contourcarpet"
           }
          ],
          "heatmap": [
           {
            "colorbar": {
             "outlinewidth": 0,
             "ticks": ""
            },
            "colorscale": [
             [
              0,
              "#0d0887"
             ],
             [
              0.1111111111111111,
              "#46039f"
             ],
             [
              0.2222222222222222,
              "#7201a8"
             ],
             [
              0.3333333333333333,
              "#9c179e"
             ],
             [
              0.4444444444444444,
              "#bd3786"
             ],
             [
              0.5555555555555556,
              "#d8576b"
             ],
             [
              0.6666666666666666,
              "#ed7953"
             ],
             [
              0.7777777777777778,
              "#fb9f3a"
             ],
             [
              0.8888888888888888,
              "#fdca26"
             ],
             [
              1,
              "#f0f921"
             ]
            ],
            "type": "heatmap"
           }
          ],
          "heatmapgl": [
           {
            "colorbar": {
             "outlinewidth": 0,
             "ticks": ""
            },
            "colorscale": [
             [
              0,
              "#0d0887"
             ],
             [
              0.1111111111111111,
              "#46039f"
             ],
             [
              0.2222222222222222,
              "#7201a8"
             ],
             [
              0.3333333333333333,
              "#9c179e"
             ],
             [
              0.4444444444444444,
              "#bd3786"
             ],
             [
              0.5555555555555556,
              "#d8576b"
             ],
             [
              0.6666666666666666,
              "#ed7953"
             ],
             [
              0.7777777777777778,
              "#fb9f3a"
             ],
             [
              0.8888888888888888,
              "#fdca26"
             ],
             [
              1,
              "#f0f921"
             ]
            ],
            "type": "heatmapgl"
           }
          ],
          "histogram": [
           {
            "marker": {
             "pattern": {
              "fillmode": "overlay",
              "size": 10,
              "solidity": 0.2
             }
            },
            "type": "histogram"
           }
          ],
          "histogram2d": [
           {
            "colorbar": {
             "outlinewidth": 0,
             "ticks": ""
            },
            "colorscale": [
             [
              0,
              "#0d0887"
             ],
             [
              0.1111111111111111,
              "#46039f"
             ],
             [
              0.2222222222222222,
              "#7201a8"
             ],
             [
              0.3333333333333333,
              "#9c179e"
             ],
             [
              0.4444444444444444,
              "#bd3786"
             ],
             [
              0.5555555555555556,
              "#d8576b"
             ],
             [
              0.6666666666666666,
              "#ed7953"
             ],
             [
              0.7777777777777778,
              "#fb9f3a"
             ],
             [
              0.8888888888888888,
              "#fdca26"
             ],
             [
              1,
              "#f0f921"
             ]
            ],
            "type": "histogram2d"
           }
          ],
          "histogram2dcontour": [
           {
            "colorbar": {
             "outlinewidth": 0,
             "ticks": ""
            },
            "colorscale": [
             [
              0,
              "#0d0887"
             ],
             [
              0.1111111111111111,
              "#46039f"
             ],
             [
              0.2222222222222222,
              "#7201a8"
             ],
             [
              0.3333333333333333,
              "#9c179e"
             ],
             [
              0.4444444444444444,
              "#bd3786"
             ],
             [
              0.5555555555555556,
              "#d8576b"
             ],
             [
              0.6666666666666666,
              "#ed7953"
             ],
             [
              0.7777777777777778,
              "#fb9f3a"
             ],
             [
              0.8888888888888888,
              "#fdca26"
             ],
             [
              1,
              "#f0f921"
             ]
            ],
            "type": "histogram2dcontour"
           }
          ],
          "mesh3d": [
           {
            "colorbar": {
             "outlinewidth": 0,
             "ticks": ""
            },
            "type": "mesh3d"
           }
          ],
          "parcoords": [
           {
            "line": {
             "colorbar": {
              "outlinewidth": 0,
              "ticks": ""
             }
            },
            "type": "parcoords"
           }
          ],
          "pie": [
           {
            "automargin": true,
            "type": "pie"
           }
          ],
          "scatter": [
           {
            "fillpattern": {
             "fillmode": "overlay",
             "size": 10,
             "solidity": 0.2
            },
            "type": "scatter"
           }
          ],
          "scatter3d": [
           {
            "line": {
             "colorbar": {
              "outlinewidth": 0,
              "ticks": ""
             }
            },
            "marker": {
             "colorbar": {
              "outlinewidth": 0,
              "ticks": ""
             }
            },
            "type": "scatter3d"
           }
          ],
          "scattercarpet": [
           {
            "marker": {
             "colorbar": {
              "outlinewidth": 0,
              "ticks": ""
             }
            },
            "type": "scattercarpet"
           }
          ],
          "scattergeo": [
           {
            "marker": {
             "colorbar": {
              "outlinewidth": 0,
              "ticks": ""
             }
            },
            "type": "scattergeo"
           }
          ],
          "scattergl": [
           {
            "marker": {
             "colorbar": {
              "outlinewidth": 0,
              "ticks": ""
             }
            },
            "type": "scattergl"
           }
          ],
          "scattermapbox": [
           {
            "marker": {
             "colorbar": {
              "outlinewidth": 0,
              "ticks": ""
             }
            },
            "type": "scattermapbox"
           }
          ],
          "scatterpolar": [
           {
            "marker": {
             "colorbar": {
              "outlinewidth": 0,
              "ticks": ""
             }
            },
            "type": "scatterpolar"
           }
          ],
          "scatterpolargl": [
           {
            "marker": {
             "colorbar": {
              "outlinewidth": 0,
              "ticks": ""
             }
            },
            "type": "scatterpolargl"
           }
          ],
          "scatterternary": [
           {
            "marker": {
             "colorbar": {
              "outlinewidth": 0,
              "ticks": ""
             }
            },
            "type": "scatterternary"
           }
          ],
          "surface": [
           {
            "colorbar": {
             "outlinewidth": 0,
             "ticks": ""
            },
            "colorscale": [
             [
              0,
              "#0d0887"
             ],
             [
              0.1111111111111111,
              "#46039f"
             ],
             [
              0.2222222222222222,
              "#7201a8"
             ],
             [
              0.3333333333333333,
              "#9c179e"
             ],
             [
              0.4444444444444444,
              "#bd3786"
             ],
             [
              0.5555555555555556,
              "#d8576b"
             ],
             [
              0.6666666666666666,
              "#ed7953"
             ],
             [
              0.7777777777777778,
              "#fb9f3a"
             ],
             [
              0.8888888888888888,
              "#fdca26"
             ],
             [
              1,
              "#f0f921"
             ]
            ],
            "type": "surface"
           }
          ],
          "table": [
           {
            "cells": {
             "fill": {
              "color": "#EBF0F8"
             },
             "line": {
              "color": "white"
             }
            },
            "header": {
             "fill": {
              "color": "#C8D4E3"
             },
             "line": {
              "color": "white"
             }
            },
            "type": "table"
           }
          ]
         },
         "layout": {
          "annotationdefaults": {
           "arrowcolor": "#2a3f5f",
           "arrowhead": 0,
           "arrowwidth": 1
          },
          "autotypenumbers": "strict",
          "coloraxis": {
           "colorbar": {
            "outlinewidth": 0,
            "ticks": ""
           }
          },
          "colorscale": {
           "diverging": [
            [
             0,
             "#8e0152"
            ],
            [
             0.1,
             "#c51b7d"
            ],
            [
             0.2,
             "#de77ae"
            ],
            [
             0.3,
             "#f1b6da"
            ],
            [
             0.4,
             "#fde0ef"
            ],
            [
             0.5,
             "#f7f7f7"
            ],
            [
             0.6,
             "#e6f5d0"
            ],
            [
             0.7,
             "#b8e186"
            ],
            [
             0.8,
             "#7fbc41"
            ],
            [
             0.9,
             "#4d9221"
            ],
            [
             1,
             "#276419"
            ]
           ],
           "sequential": [
            [
             0,
             "#0d0887"
            ],
            [
             0.1111111111111111,
             "#46039f"
            ],
            [
             0.2222222222222222,
             "#7201a8"
            ],
            [
             0.3333333333333333,
             "#9c179e"
            ],
            [
             0.4444444444444444,
             "#bd3786"
            ],
            [
             0.5555555555555556,
             "#d8576b"
            ],
            [
             0.6666666666666666,
             "#ed7953"
            ],
            [
             0.7777777777777778,
             "#fb9f3a"
            ],
            [
             0.8888888888888888,
             "#fdca26"
            ],
            [
             1,
             "#f0f921"
            ]
           ],
           "sequentialminus": [
            [
             0,
             "#0d0887"
            ],
            [
             0.1111111111111111,
             "#46039f"
            ],
            [
             0.2222222222222222,
             "#7201a8"
            ],
            [
             0.3333333333333333,
             "#9c179e"
            ],
            [
             0.4444444444444444,
             "#bd3786"
            ],
            [
             0.5555555555555556,
             "#d8576b"
            ],
            [
             0.6666666666666666,
             "#ed7953"
            ],
            [
             0.7777777777777778,
             "#fb9f3a"
            ],
            [
             0.8888888888888888,
             "#fdca26"
            ],
            [
             1,
             "#f0f921"
            ]
           ]
          },
          "colorway": [
           "#636efa",
           "#EF553B",
           "#00cc96",
           "#ab63fa",
           "#FFA15A",
           "#19d3f3",
           "#FF6692",
           "#B6E880",
           "#FF97FF",
           "#FECB52"
          ],
          "font": {
           "color": "#2a3f5f"
          },
          "geo": {
           "bgcolor": "white",
           "lakecolor": "white",
           "landcolor": "#E5ECF6",
           "showlakes": true,
           "showland": true,
           "subunitcolor": "white"
          },
          "hoverlabel": {
           "align": "left"
          },
          "hovermode": "closest",
          "mapbox": {
           "style": "light"
          },
          "paper_bgcolor": "white",
          "plot_bgcolor": "#E5ECF6",
          "polar": {
           "angularaxis": {
            "gridcolor": "white",
            "linecolor": "white",
            "ticks": ""
           },
           "bgcolor": "#E5ECF6",
           "radialaxis": {
            "gridcolor": "white",
            "linecolor": "white",
            "ticks": ""
           }
          },
          "scene": {
           "xaxis": {
            "backgroundcolor": "#E5ECF6",
            "gridcolor": "white",
            "gridwidth": 2,
            "linecolor": "white",
            "showbackground": true,
            "ticks": "",
            "zerolinecolor": "white"
           },
           "yaxis": {
            "backgroundcolor": "#E5ECF6",
            "gridcolor": "white",
            "gridwidth": 2,
            "linecolor": "white",
            "showbackground": true,
            "ticks": "",
            "zerolinecolor": "white"
           },
           "zaxis": {
            "backgroundcolor": "#E5ECF6",
            "gridcolor": "white",
            "gridwidth": 2,
            "linecolor": "white",
            "showbackground": true,
            "ticks": "",
            "zerolinecolor": "white"
           }
          },
          "shapedefaults": {
           "line": {
            "color": "#2a3f5f"
           }
          },
          "ternary": {
           "aaxis": {
            "gridcolor": "white",
            "linecolor": "white",
            "ticks": ""
           },
           "baxis": {
            "gridcolor": "white",
            "linecolor": "white",
            "ticks": ""
           },
           "bgcolor": "#E5ECF6",
           "caxis": {
            "gridcolor": "white",
            "linecolor": "white",
            "ticks": ""
           }
          },
          "title": {
           "x": 0.05
          },
          "xaxis": {
           "automargin": true,
           "gridcolor": "white",
           "linecolor": "white",
           "ticks": "",
           "title": {
            "standoff": 15
           },
           "zerolinecolor": "white",
           "zerolinewidth": 2
          },
          "yaxis": {
           "automargin": true,
           "gridcolor": "white",
           "linecolor": "white",
           "ticks": "",
           "title": {
            "standoff": 15
           },
           "zerolinecolor": "white",
           "zerolinewidth": 2
          }
         }
        },
        "title": {
         "text": "Income Distribution"
        },
        "xaxis": {
         "anchor": "y",
         "domain": [
          0,
          1
         ],
         "title": {
          "text": "income"
         }
        },
        "yaxis": {
         "anchor": "x",
         "domain": [
          0,
          1
         ],
         "title": {
          "text": "count"
         }
        }
       }
      }
     },
     "metadata": {},
     "output_type": "display_data"
    }
   ],
   "source": [
    "\n",
    "fig = px.histogram(df, x=\"income\", nbins=30, title=\"Income Distribution\")\n",
    "fig.show()\n"
   ]
  },
  {
   "cell_type": "code",
   "execution_count": null,
   "id": "558060c7",
   "metadata": {},
   "outputs": [
    {
     "data": {
      "application/vnd.plotly.v1+json": {
       "config": {
        "plotlyServerURL": "https://plot.ly"
       },
       "data": [
        {
         "alignmentgroup": "True",
         "bingroup": "x",
         "hovertemplate": "monthly_balance=%{x}<br>count=%{y}<extra></extra>",
         "legendgroup": "",
         "marker": {
          "color": "#636efa",
          "pattern": {
           "shape": ""
          }
         },
         "name": "",
         "nbinsx": 30,
         "offsetgroup": "",
         "orientation": "v",
         "showlegend": false,
         "type": "histogram",
         "x": [
          2541,
          2692,
          2957,
          2398,
          4165,
          1395,
          1827,
          3181,
          2448,
          1336,
          3797,
          2141,
          1732,
          2738,
          1660,
          2948,
          2460,
          2231,
          2240,
          4493,
          3553,
          436,
          4324,
          3774,
          3686,
          4331,
          3022,
          3930,
          2303,
          4271,
          3327,
          934,
          4554,
          2806,
          2597,
          2335,
          2445,
          3344,
          1518,
          647,
          1403,
          3572,
          2757,
          4669,
          2902,
          4263,
          1960,
          2347,
          3014,
          2779,
          2639,
          1691,
          621,
          3946,
          3778,
          2079,
          3568,
          2750,
          4659,
          1031,
          2809,
          2690,
          3241,
          5305,
          2814,
          4114,
          2778,
          4606,
          4129,
          2500,
          2392,
          3730,
          2016,
          3285,
          2466,
          3552,
          2758,
          1961,
          4657,
          3359,
          2919,
          3629,
          493,
          6135,
          3037,
          55,
          4795,
          1872,
          4565,
          3182,
          644,
          3391,
          3281,
          4727,
          3783,
          1140,
          4503,
          2378,
          5580,
          2467,
          2683,
          1767,
          2252,
          1855,
          4764,
          1002,
          4206,
          4242,
          5066,
          3065,
          1459,
          2742,
          3892,
          3127,
          3550,
          5047,
          3873,
          3297,
          233,
          1824,
          2392,
          34,
          1336,
          2597,
          2841,
          3758,
          2692,
          3372,
          2373,
          3063,
          3676,
          5208,
          2228,
          3216,
          4303,
          840,
          5996,
          4768,
          432,
          3557,
          2153,
          2403,
          3525,
          4575,
          2301,
          2321,
          3558,
          3857,
          1489,
          5585,
          2035,
          4447,
          3677,
          3909,
          2064,
          414,
          2967,
          2974,
          1562,
          4376,
          2922,
          1786,
          3877,
          3917,
          1925,
          4850,
          6364,
          1364,
          2724,
          3505,
          6420,
          1899,
          1590,
          1580,
          4832,
          1938,
          1724,
          3346,
          3462,
          4606,
          3137,
          3373,
          2842,
          1043,
          2700,
          3094,
          2334,
          653,
          1297,
          2940,
          4399,
          5523,
          2724,
          1924,
          2441,
          1430,
          4181,
          6206,
          1961,
          1211,
          4509,
          3477,
          3502,
          5382,
          950,
          908,
          2757,
          3095,
          2467,
          6691,
          2534,
          2173,
          3186,
          4456,
          1911,
          2779,
          4498,
          4582,
          3326,
          6627,
          5970,
          890,
          462,
          4193,
          5048,
          2662,
          2246,
          1769,
          1247,
          4704,
          2428,
          3452,
          261,
          4503,
          3881,
          982,
          3388,
          3007,
          2324,
          -1354,
          2009,
          3453,
          2177,
          2667,
          5245,
          2883,
          -145,
          2722,
          3149,
          1761,
          4102,
          806,
          2793,
          789,
          2556,
          4062,
          2757,
          2669,
          3041,
          3116,
          4040,
          4049,
          5132,
          3251,
          508,
          4286,
          5024,
          6692,
          5177,
          2264,
          3280,
          2594,
          2390,
          2829,
          4928,
          616,
          1496,
          4829,
          5180,
          2010,
          5476,
          4463,
          2598,
          -6520,
          497,
          2012,
          4139,
          4144,
          2300,
          2653,
          2951,
          2671,
          3245,
          2954,
          488,
          2688,
          2966,
          4484,
          1753,
          3305,
          3844,
          2777,
          367,
          4515,
          4120,
          3343,
          3060,
          327,
          4161,
          5229,
          1329,
          5017,
          4697,
          1285,
          2408,
          906,
          2902,
          3672,
          1019,
          3578,
          3958,
          3980,
          3681,
          1157,
          2817,
          3528,
          5191,
          3003,
          3638,
          1601,
          1267,
          1075,
          2369,
          6093,
          2396,
          3546,
          3835,
          1362,
          2347,
          3936,
          3642,
          9,
          3891,
          2173,
          2212,
          3607,
          5284,
          2699,
          4768,
          838,
          3196,
          2188,
          3423,
          2555,
          988,
          1668,
          535,
          1039,
          3720,
          2623,
          3346,
          5723,
          2556,
          3951,
          3042,
          7144,
          -1526,
          1923,
          3981,
          1870,
          3849,
          2909,
          4297,
          1301,
          3259,
          3699,
          3197,
          3224,
          4803,
          480,
          3187,
          1186,
          4136,
          1743,
          -708,
          4172,
          2597,
          3534,
          5140,
          3557,
          3254,
          2929,
          1279,
          2677,
          5960,
          2437,
          2765,
          4885,
          688,
          3930,
          616,
          3598,
          2966,
          3918,
          1481,
          2197,
          3996,
          2235,
          4133,
          3313,
          2331,
          2526,
          3005,
          2669,
          4095,
          2443,
          2140,
          4365,
          2366,
          2189,
          -728,
          1440,
          1742,
          2189,
          1916,
          4474,
          1837,
          1949,
          3233,
          13470,
          5345,
          4203,
          1247,
          4520,
          4832,
          1286,
          1252,
          2084,
          877,
          1829,
          2399,
          3756,
          3121,
          2777,
          2275,
          1038,
          3887,
          3854,
          2074,
          1348,
          5334,
          3370,
          3595,
          3660,
          1196,
          5248,
          2394,
          4233,
          5187,
          3122,
          1227,
          -740,
          2942,
          3375,
          2128,
          3203,
          3645,
          4490,
          2657,
          2931,
          2732,
          3050,
          2230,
          2223,
          2317,
          3234,
          1729,
          2323,
          5712,
          4344,
          1564,
          4297,
          3941,
          2844,
          1938,
          1767,
          3335,
          1730,
          4645,
          5071,
          2935,
          4708,
          2382,
          1928,
          4650,
          5369,
          5944,
          3498,
          4293,
          3465,
          5105,
          3649,
          4207,
          1296,
          2653,
          4220,
          4085,
          4348,
          3180,
          2021,
          2911,
          3070,
          3362,
          1548,
          2601,
          2866,
          -363,
          4248,
          3246,
          3397,
          2226,
          3879,
          1752,
          1987,
          3942,
          3535,
          1083,
          5366,
          1862,
          2801,
          5620,
          -89,
          440,
          3662,
          -717,
          -65,
          4762,
          2386,
          6294,
          1447,
          2522,
          3810,
          3707,
          2617,
          2027,
          3347,
          5065,
          4144,
          2051,
          1512,
          1960,
          1089,
          3221,
          4220,
          2892,
          5579,
          5663,
          3461,
          4052,
          1649,
          2458,
          4908,
          2131,
          5231,
          4668,
          4127,
          1240,
          2532,
          3966,
          1521,
          2714,
          4128,
          2147,
          1730,
          298,
          2420,
          4159,
          1690,
          3026,
          2663,
          2000,
          4256,
          5463,
          4506,
          1956,
          5988,
          4502,
          2313,
          1837,
          4681,
          3260,
          1723,
          2777,
          2389,
          1763,
          4521,
          4172,
          4257,
          4237,
          1625,
          2094,
          5187,
          3162,
          794,
          3325,
          3982,
          3786,
          1593,
          5830,
          749,
          3166,
          5604,
          3887,
          4254,
          1420,
          3520,
          2945,
          1304,
          4297,
          1770,
          1948,
          3648,
          2785,
          3253,
          2693,
          5119,
          1612,
          2302,
          3721,
          1518,
          1451,
          3206,
          4301,
          4496,
          3137,
          1991,
          3413,
          3849,
          3392,
          4851,
          1478,
          1954,
          4643,
          790,
          2190,
          1902,
          653,
          2719,
          4119,
          3234,
          4199,
          4787,
          2421,
          6970,
          2481,
          2681,
          1938,
          3818,
          2564,
          2881,
          2692,
          2658,
          3237,
          2324,
          2395,
          4609,
          2559,
          3575,
          1665,
          23320,
          1151,
          5781,
          5063,
          3893,
          6226,
          4155,
          2742,
          3558,
          5041,
          1679,
          1240,
          3609,
          2119,
          -389,
          1135,
          2532,
          3072,
          3116,
          6007,
          2688,
          3417,
          561,
          2953,
          3501,
          937,
          1599,
          3733,
          2180,
          2846,
          3811,
          6055,
          2667,
          5653,
          61,
          3222,
          2498,
          2201,
          3987,
          2678,
          -37,
          617,
          4083,
          544,
          4123,
          3187,
          2744,
          2877,
          3772,
          1233,
          3063,
          1290,
          3245,
          3969,
          3248,
          3912,
          1949,
          2906,
          2643,
          2544,
          1799,
          2352,
          1330,
          458,
          1948,
          3938,
          3351,
          1115,
          2390,
          4038,
          2327,
          873,
          6386,
          2749,
          1254,
          3256,
          2871,
          687,
          3140,
          4475,
          2650,
          -90,
          3512,
          3904,
          2120,
          2131,
          6386,
          2012,
          1317,
          3037,
          3862,
          3798,
          -702,
          2008,
          4729,
          3490,
          1146,
          4863,
          4447,
          2555,
          4319,
          5999,
          1418,
          3833,
          5978,
          3979,
          1868,
          3358,
          5054,
          1476,
          29540,
          2634,
          2052,
          3362,
          2848,
          3965,
          4711,
          1090,
          3101,
          2920,
          3305,
          2976,
          1529,
          5182,
          5821,
          3820,
          3897,
          3196,
          4453,
          -664,
          2994,
          2141,
          3218,
          4638,
          3028,
          2459,
          895,
          2836,
          4008,
          1738,
          -5,
          6411,
          3502,
          2667,
          5086,
          3212,
          4998,
          4869,
          1088,
          3689,
          5587,
          1502,
          1520,
          1774,
          4335,
          3426,
          96,
          3511,
          2622,
          2831,
          1744,
          3522,
          4575,
          2037,
          476,
          2545,
          4134,
          2368,
          753,
          4144,
          5123,
          3030,
          591,
          2523,
          3227,
          1785,
          3875,
          1638,
          3038,
          2657,
          3923,
          2978,
          2705,
          1795,
          3052,
          2609,
          1694,
          3239,
          3545,
          2492,
          4397,
          3395,
          1074,
          5006,
          4150,
          4502,
          3600,
          -506,
          4638,
          3091,
          3529,
          3810,
          5904,
          2180,
          2219,
          1723,
          1395,
          1422,
          222,
          3639,
          5981,
          6077,
          1721,
          2591,
          4850,
          3648,
          3201,
          2614,
          4767,
          1390,
          3721,
          3517,
          3065,
          4181,
          3050,
          2198,
          3138,
          6110,
          3919,
          4302,
          2015,
          1658,
          2070,
          2905,
          3323,
          5423,
          5233,
          4247,
          3181,
          1609,
          5519,
          2628,
          3422,
          3941,
          3092,
          4726,
          3683,
          4482,
          3671,
          2943,
          3111,
          2906,
          1073,
          1498,
          4110,
          1110,
          2393,
          1424,
          2313,
          2767,
          2390,
          857,
          2721,
          1561,
          2045,
          4110,
          4433,
          1033,
          5352,
          2234,
          2098,
          1662,
          3083,
          5972,
          690,
          -85,
          3402,
          3854,
          3079,
          3893,
          1303,
          1582,
          3185,
          5637,
          3841,
          3910,
          1389,
          3633,
          1226,
          5651,
          1482,
          1805,
          790,
          3128,
          3065,
          5269,
          4164,
          1813,
          4310,
          1134,
          1922,
          3177,
          1302,
          4596,
          6418,
          2558,
          2022,
          2805,
          2163,
          3392,
          1016,
          3477,
          5867,
          -3,
          1247,
          2332,
          3812,
          4335,
          4214,
          462,
          1988,
          1649,
          2902,
          3027,
          946,
          2340,
          3870,
          2057,
          2699,
          5545,
          5985,
          -363,
          2390,
          4335,
          3477,
          3893,
          4302,
          3833,
          2131,
          1329,
          1961
         ],
         "xaxis": "x",
         "yaxis": "y"
        }
       ],
       "layout": {
        "barmode": "relative",
        "legend": {
         "tracegroupgap": 0
        },
        "template": {
         "data": {
          "bar": [
           {
            "error_x": {
             "color": "#2a3f5f"
            },
            "error_y": {
             "color": "#2a3f5f"
            },
            "marker": {
             "line": {
              "color": "#E5ECF6",
              "width": 0.5
             },
             "pattern": {
              "fillmode": "overlay",
              "size": 10,
              "solidity": 0.2
             }
            },
            "type": "bar"
           }
          ],
          "barpolar": [
           {
            "marker": {
             "line": {
              "color": "#E5ECF6",
              "width": 0.5
             },
             "pattern": {
              "fillmode": "overlay",
              "size": 10,
              "solidity": 0.2
             }
            },
            "type": "barpolar"
           }
          ],
          "carpet": [
           {
            "aaxis": {
             "endlinecolor": "#2a3f5f",
             "gridcolor": "white",
             "linecolor": "white",
             "minorgridcolor": "white",
             "startlinecolor": "#2a3f5f"
            },
            "baxis": {
             "endlinecolor": "#2a3f5f",
             "gridcolor": "white",
             "linecolor": "white",
             "minorgridcolor": "white",
             "startlinecolor": "#2a3f5f"
            },
            "type": "carpet"
           }
          ],
          "choropleth": [
           {
            "colorbar": {
             "outlinewidth": 0,
             "ticks": ""
            },
            "type": "choropleth"
           }
          ],
          "contour": [
           {
            "colorbar": {
             "outlinewidth": 0,
             "ticks": ""
            },
            "colorscale": [
             [
              0,
              "#0d0887"
             ],
             [
              0.1111111111111111,
              "#46039f"
             ],
             [
              0.2222222222222222,
              "#7201a8"
             ],
             [
              0.3333333333333333,
              "#9c179e"
             ],
             [
              0.4444444444444444,
              "#bd3786"
             ],
             [
              0.5555555555555556,
              "#d8576b"
             ],
             [
              0.6666666666666666,
              "#ed7953"
             ],
             [
              0.7777777777777778,
              "#fb9f3a"
             ],
             [
              0.8888888888888888,
              "#fdca26"
             ],
             [
              1,
              "#f0f921"
             ]
            ],
            "type": "contour"
           }
          ],
          "contourcarpet": [
           {
            "colorbar": {
             "outlinewidth": 0,
             "ticks": ""
            },
            "type": "contourcarpet"
           }
          ],
          "heatmap": [
           {
            "colorbar": {
             "outlinewidth": 0,
             "ticks": ""
            },
            "colorscale": [
             [
              0,
              "#0d0887"
             ],
             [
              0.1111111111111111,
              "#46039f"
             ],
             [
              0.2222222222222222,
              "#7201a8"
             ],
             [
              0.3333333333333333,
              "#9c179e"
             ],
             [
              0.4444444444444444,
              "#bd3786"
             ],
             [
              0.5555555555555556,
              "#d8576b"
             ],
             [
              0.6666666666666666,
              "#ed7953"
             ],
             [
              0.7777777777777778,
              "#fb9f3a"
             ],
             [
              0.8888888888888888,
              "#fdca26"
             ],
             [
              1,
              "#f0f921"
             ]
            ],
            "type": "heatmap"
           }
          ],
          "heatmapgl": [
           {
            "colorbar": {
             "outlinewidth": 0,
             "ticks": ""
            },
            "colorscale": [
             [
              0,
              "#0d0887"
             ],
             [
              0.1111111111111111,
              "#46039f"
             ],
             [
              0.2222222222222222,
              "#7201a8"
             ],
             [
              0.3333333333333333,
              "#9c179e"
             ],
             [
              0.4444444444444444,
              "#bd3786"
             ],
             [
              0.5555555555555556,
              "#d8576b"
             ],
             [
              0.6666666666666666,
              "#ed7953"
             ],
             [
              0.7777777777777778,
              "#fb9f3a"
             ],
             [
              0.8888888888888888,
              "#fdca26"
             ],
             [
              1,
              "#f0f921"
             ]
            ],
            "type": "heatmapgl"
           }
          ],
          "histogram": [
           {
            "marker": {
             "pattern": {
              "fillmode": "overlay",
              "size": 10,
              "solidity": 0.2
             }
            },
            "type": "histogram"
           }
          ],
          "histogram2d": [
           {
            "colorbar": {
             "outlinewidth": 0,
             "ticks": ""
            },
            "colorscale": [
             [
              0,
              "#0d0887"
             ],
             [
              0.1111111111111111,
              "#46039f"
             ],
             [
              0.2222222222222222,
              "#7201a8"
             ],
             [
              0.3333333333333333,
              "#9c179e"
             ],
             [
              0.4444444444444444,
              "#bd3786"
             ],
             [
              0.5555555555555556,
              "#d8576b"
             ],
             [
              0.6666666666666666,
              "#ed7953"
             ],
             [
              0.7777777777777778,
              "#fb9f3a"
             ],
             [
              0.8888888888888888,
              "#fdca26"
             ],
             [
              1,
              "#f0f921"
             ]
            ],
            "type": "histogram2d"
           }
          ],
          "histogram2dcontour": [
           {
            "colorbar": {
             "outlinewidth": 0,
             "ticks": ""
            },
            "colorscale": [
             [
              0,
              "#0d0887"
             ],
             [
              0.1111111111111111,
              "#46039f"
             ],
             [
              0.2222222222222222,
              "#7201a8"
             ],
             [
              0.3333333333333333,
              "#9c179e"
             ],
             [
              0.4444444444444444,
              "#bd3786"
             ],
             [
              0.5555555555555556,
              "#d8576b"
             ],
             [
              0.6666666666666666,
              "#ed7953"
             ],
             [
              0.7777777777777778,
              "#fb9f3a"
             ],
             [
              0.8888888888888888,
              "#fdca26"
             ],
             [
              1,
              "#f0f921"
             ]
            ],
            "type": "histogram2dcontour"
           }
          ],
          "mesh3d": [
           {
            "colorbar": {
             "outlinewidth": 0,
             "ticks": ""
            },
            "type": "mesh3d"
           }
          ],
          "parcoords": [
           {
            "line": {
             "colorbar": {
              "outlinewidth": 0,
              "ticks": ""
             }
            },
            "type": "parcoords"
           }
          ],
          "pie": [
           {
            "automargin": true,
            "type": "pie"
           }
          ],
          "scatter": [
           {
            "fillpattern": {
             "fillmode": "overlay",
             "size": 10,
             "solidity": 0.2
            },
            "type": "scatter"
           }
          ],
          "scatter3d": [
           {
            "line": {
             "colorbar": {
              "outlinewidth": 0,
              "ticks": ""
             }
            },
            "marker": {
             "colorbar": {
              "outlinewidth": 0,
              "ticks": ""
             }
            },
            "type": "scatter3d"
           }
          ],
          "scattercarpet": [
           {
            "marker": {
             "colorbar": {
              "outlinewidth": 0,
              "ticks": ""
             }
            },
            "type": "scattercarpet"
           }
          ],
          "scattergeo": [
           {
            "marker": {
             "colorbar": {
              "outlinewidth": 0,
              "ticks": ""
             }
            },
            "type": "scattergeo"
           }
          ],
          "scattergl": [
           {
            "marker": {
             "colorbar": {
              "outlinewidth": 0,
              "ticks": ""
             }
            },
            "type": "scattergl"
           }
          ],
          "scattermapbox": [
           {
            "marker": {
             "colorbar": {
              "outlinewidth": 0,
              "ticks": ""
             }
            },
            "type": "scattermapbox"
           }
          ],
          "scatterpolar": [
           {
            "marker": {
             "colorbar": {
              "outlinewidth": 0,
              "ticks": ""
             }
            },
            "type": "scatterpolar"
           }
          ],
          "scatterpolargl": [
           {
            "marker": {
             "colorbar": {
              "outlinewidth": 0,
              "ticks": ""
             }
            },
            "type": "scatterpolargl"
           }
          ],
          "scatterternary": [
           {
            "marker": {
             "colorbar": {
              "outlinewidth": 0,
              "ticks": ""
             }
            },
            "type": "scatterternary"
           }
          ],
          "surface": [
           {
            "colorbar": {
             "outlinewidth": 0,
             "ticks": ""
            },
            "colorscale": [
             [
              0,
              "#0d0887"
             ],
             [
              0.1111111111111111,
              "#46039f"
             ],
             [
              0.2222222222222222,
              "#7201a8"
             ],
             [
              0.3333333333333333,
              "#9c179e"
             ],
             [
              0.4444444444444444,
              "#bd3786"
             ],
             [
              0.5555555555555556,
              "#d8576b"
             ],
             [
              0.6666666666666666,
              "#ed7953"
             ],
             [
              0.7777777777777778,
              "#fb9f3a"
             ],
             [
              0.8888888888888888,
              "#fdca26"
             ],
             [
              1,
              "#f0f921"
             ]
            ],
            "type": "surface"
           }
          ],
          "table": [
           {
            "cells": {
             "fill": {
              "color": "#EBF0F8"
             },
             "line": {
              "color": "white"
             }
            },
            "header": {
             "fill": {
              "color": "#C8D4E3"
             },
             "line": {
              "color": "white"
             }
            },
            "type": "table"
           }
          ]
         },
         "layout": {
          "annotationdefaults": {
           "arrowcolor": "#2a3f5f",
           "arrowhead": 0,
           "arrowwidth": 1
          },
          "autotypenumbers": "strict",
          "coloraxis": {
           "colorbar": {
            "outlinewidth": 0,
            "ticks": ""
           }
          },
          "colorscale": {
           "diverging": [
            [
             0,
             "#8e0152"
            ],
            [
             0.1,
             "#c51b7d"
            ],
            [
             0.2,
             "#de77ae"
            ],
            [
             0.3,
             "#f1b6da"
            ],
            [
             0.4,
             "#fde0ef"
            ],
            [
             0.5,
             "#f7f7f7"
            ],
            [
             0.6,
             "#e6f5d0"
            ],
            [
             0.7,
             "#b8e186"
            ],
            [
             0.8,
             "#7fbc41"
            ],
            [
             0.9,
             "#4d9221"
            ],
            [
             1,
             "#276419"
            ]
           ],
           "sequential": [
            [
             0,
             "#0d0887"
            ],
            [
             0.1111111111111111,
             "#46039f"
            ],
            [
             0.2222222222222222,
             "#7201a8"
            ],
            [
             0.3333333333333333,
             "#9c179e"
            ],
            [
             0.4444444444444444,
             "#bd3786"
            ],
            [
             0.5555555555555556,
             "#d8576b"
            ],
            [
             0.6666666666666666,
             "#ed7953"
            ],
            [
             0.7777777777777778,
             "#fb9f3a"
            ],
            [
             0.8888888888888888,
             "#fdca26"
            ],
            [
             1,
             "#f0f921"
            ]
           ],
           "sequentialminus": [
            [
             0,
             "#0d0887"
            ],
            [
             0.1111111111111111,
             "#46039f"
            ],
            [
             0.2222222222222222,
             "#7201a8"
            ],
            [
             0.3333333333333333,
             "#9c179e"
            ],
            [
             0.4444444444444444,
             "#bd3786"
            ],
            [
             0.5555555555555556,
             "#d8576b"
            ],
            [
             0.6666666666666666,
             "#ed7953"
            ],
            [
             0.7777777777777778,
             "#fb9f3a"
            ],
            [
             0.8888888888888888,
             "#fdca26"
            ],
            [
             1,
             "#f0f921"
            ]
           ]
          },
          "colorway": [
           "#636efa",
           "#EF553B",
           "#00cc96",
           "#ab63fa",
           "#FFA15A",
           "#19d3f3",
           "#FF6692",
           "#B6E880",
           "#FF97FF",
           "#FECB52"
          ],
          "font": {
           "color": "#2a3f5f"
          },
          "geo": {
           "bgcolor": "white",
           "lakecolor": "white",
           "landcolor": "#E5ECF6",
           "showlakes": true,
           "showland": true,
           "subunitcolor": "white"
          },
          "hoverlabel": {
           "align": "left"
          },
          "hovermode": "closest",
          "mapbox": {
           "style": "light"
          },
          "paper_bgcolor": "white",
          "plot_bgcolor": "#E5ECF6",
          "polar": {
           "angularaxis": {
            "gridcolor": "white",
            "linecolor": "white",
            "ticks": ""
           },
           "bgcolor": "#E5ECF6",
           "radialaxis": {
            "gridcolor": "white",
            "linecolor": "white",
            "ticks": ""
           }
          },
          "scene": {
           "xaxis": {
            "backgroundcolor": "#E5ECF6",
            "gridcolor": "white",
            "gridwidth": 2,
            "linecolor": "white",
            "showbackground": true,
            "ticks": "",
            "zerolinecolor": "white"
           },
           "yaxis": {
            "backgroundcolor": "#E5ECF6",
            "gridcolor": "white",
            "gridwidth": 2,
            "linecolor": "white",
            "showbackground": true,
            "ticks": "",
            "zerolinecolor": "white"
           },
           "zaxis": {
            "backgroundcolor": "#E5ECF6",
            "gridcolor": "white",
            "gridwidth": 2,
            "linecolor": "white",
            "showbackground": true,
            "ticks": "",
            "zerolinecolor": "white"
           }
          },
          "shapedefaults": {
           "line": {
            "color": "#2a3f5f"
           }
          },
          "ternary": {
           "aaxis": {
            "gridcolor": "white",
            "linecolor": "white",
            "ticks": ""
           },
           "baxis": {
            "gridcolor": "white",
            "linecolor": "white",
            "ticks": ""
           },
           "bgcolor": "#E5ECF6",
           "caxis": {
            "gridcolor": "white",
            "linecolor": "white",
            "ticks": ""
           }
          },
          "title": {
           "x": 0.05
          },
          "xaxis": {
           "automargin": true,
           "gridcolor": "white",
           "linecolor": "white",
           "ticks": "",
           "title": {
            "standoff": 15
           },
           "zerolinecolor": "white",
           "zerolinewidth": 2
          },
          "yaxis": {
           "automargin": true,
           "gridcolor": "white",
           "linecolor": "white",
           "ticks": "",
           "title": {
            "standoff": 15
           },
           "zerolinecolor": "white",
           "zerolinewidth": 2
          }
         }
        },
        "title": {
         "text": "Monthly Balance Distribution"
        },
        "xaxis": {
         "anchor": "y",
         "domain": [
          0,
          1
         ],
         "title": {
          "text": "monthly_balance"
         }
        },
        "yaxis": {
         "anchor": "x",
         "domain": [
          0,
          1
         ],
         "title": {
          "text": "count"
         }
        }
       }
      }
     },
     "metadata": {},
     "output_type": "display_data"
    }
   ],
   "source": [
    "\n",
    "fig = px.histogram(df, x=\"monthly_balance\", nbins=30, title=\"Monthly Balance Distribution\")\n",
    "fig.show()\n"
   ]
  },
  {
   "cell_type": "code",
   "execution_count": null,
   "id": "83a243ed",
   "metadata": {},
   "outputs": [
    {
     "data": {
      "application/vnd.plotly.v1+json": {
       "config": {
        "plotlyServerURL": "https://plot.ly"
       },
       "data": [
        {
         "alignmentgroup": "True",
         "hovertemplate": "monthly_balance=%{y}<extra></extra>",
         "legendgroup": "",
         "marker": {
          "color": "#636efa"
         },
         "name": "",
         "notched": false,
         "offsetgroup": "",
         "orientation": "v",
         "showlegend": false,
         "type": "box",
         "x0": " ",
         "xaxis": "x",
         "y": [
          2541,
          2692,
          2957,
          2398,
          4165,
          1395,
          1827,
          3181,
          2448,
          1336,
          3797,
          2141,
          1732,
          2738,
          1660,
          2948,
          2460,
          2231,
          2240,
          4493,
          3553,
          436,
          4324,
          3774,
          3686,
          4331,
          3022,
          3930,
          2303,
          4271,
          3327,
          934,
          4554,
          2806,
          2597,
          2335,
          2445,
          3344,
          1518,
          647,
          1403,
          3572,
          2757,
          4669,
          2902,
          4263,
          1960,
          2347,
          3014,
          2779,
          2639,
          1691,
          621,
          3946,
          3778,
          2079,
          3568,
          2750,
          4659,
          1031,
          2809,
          2690,
          3241,
          5305,
          2814,
          4114,
          2778,
          4606,
          4129,
          2500,
          2392,
          3730,
          2016,
          3285,
          2466,
          3552,
          2758,
          1961,
          4657,
          3359,
          2919,
          3629,
          493,
          6135,
          3037,
          55,
          4795,
          1872,
          4565,
          3182,
          644,
          3391,
          3281,
          4727,
          3783,
          1140,
          4503,
          2378,
          5580,
          2467,
          2683,
          1767,
          2252,
          1855,
          4764,
          1002,
          4206,
          4242,
          5066,
          3065,
          1459,
          2742,
          3892,
          3127,
          3550,
          5047,
          3873,
          3297,
          233,
          1824,
          2392,
          34,
          1336,
          2597,
          2841,
          3758,
          2692,
          3372,
          2373,
          3063,
          3676,
          5208,
          2228,
          3216,
          4303,
          840,
          5996,
          4768,
          432,
          3557,
          2153,
          2403,
          3525,
          4575,
          2301,
          2321,
          3558,
          3857,
          1489,
          5585,
          2035,
          4447,
          3677,
          3909,
          2064,
          414,
          2967,
          2974,
          1562,
          4376,
          2922,
          1786,
          3877,
          3917,
          1925,
          4850,
          6364,
          1364,
          2724,
          3505,
          6420,
          1899,
          1590,
          1580,
          4832,
          1938,
          1724,
          3346,
          3462,
          4606,
          3137,
          3373,
          2842,
          1043,
          2700,
          3094,
          2334,
          653,
          1297,
          2940,
          4399,
          5523,
          2724,
          1924,
          2441,
          1430,
          4181,
          6206,
          1961,
          1211,
          4509,
          3477,
          3502,
          5382,
          950,
          908,
          2757,
          3095,
          2467,
          6691,
          2534,
          2173,
          3186,
          4456,
          1911,
          2779,
          4498,
          4582,
          3326,
          6627,
          5970,
          890,
          462,
          4193,
          5048,
          2662,
          2246,
          1769,
          1247,
          4704,
          2428,
          3452,
          261,
          4503,
          3881,
          982,
          3388,
          3007,
          2324,
          -1354,
          2009,
          3453,
          2177,
          2667,
          5245,
          2883,
          -145,
          2722,
          3149,
          1761,
          4102,
          806,
          2793,
          789,
          2556,
          4062,
          2757,
          2669,
          3041,
          3116,
          4040,
          4049,
          5132,
          3251,
          508,
          4286,
          5024,
          6692,
          5177,
          2264,
          3280,
          2594,
          2390,
          2829,
          4928,
          616,
          1496,
          4829,
          5180,
          2010,
          5476,
          4463,
          2598,
          -6520,
          497,
          2012,
          4139,
          4144,
          2300,
          2653,
          2951,
          2671,
          3245,
          2954,
          488,
          2688,
          2966,
          4484,
          1753,
          3305,
          3844,
          2777,
          367,
          4515,
          4120,
          3343,
          3060,
          327,
          4161,
          5229,
          1329,
          5017,
          4697,
          1285,
          2408,
          906,
          2902,
          3672,
          1019,
          3578,
          3958,
          3980,
          3681,
          1157,
          2817,
          3528,
          5191,
          3003,
          3638,
          1601,
          1267,
          1075,
          2369,
          6093,
          2396,
          3546,
          3835,
          1362,
          2347,
          3936,
          3642,
          9,
          3891,
          2173,
          2212,
          3607,
          5284,
          2699,
          4768,
          838,
          3196,
          2188,
          3423,
          2555,
          988,
          1668,
          535,
          1039,
          3720,
          2623,
          3346,
          5723,
          2556,
          3951,
          3042,
          7144,
          -1526,
          1923,
          3981,
          1870,
          3849,
          2909,
          4297,
          1301,
          3259,
          3699,
          3197,
          3224,
          4803,
          480,
          3187,
          1186,
          4136,
          1743,
          -708,
          4172,
          2597,
          3534,
          5140,
          3557,
          3254,
          2929,
          1279,
          2677,
          5960,
          2437,
          2765,
          4885,
          688,
          3930,
          616,
          3598,
          2966,
          3918,
          1481,
          2197,
          3996,
          2235,
          4133,
          3313,
          2331,
          2526,
          3005,
          2669,
          4095,
          2443,
          2140,
          4365,
          2366,
          2189,
          -728,
          1440,
          1742,
          2189,
          1916,
          4474,
          1837,
          1949,
          3233,
          13470,
          5345,
          4203,
          1247,
          4520,
          4832,
          1286,
          1252,
          2084,
          877,
          1829,
          2399,
          3756,
          3121,
          2777,
          2275,
          1038,
          3887,
          3854,
          2074,
          1348,
          5334,
          3370,
          3595,
          3660,
          1196,
          5248,
          2394,
          4233,
          5187,
          3122,
          1227,
          -740,
          2942,
          3375,
          2128,
          3203,
          3645,
          4490,
          2657,
          2931,
          2732,
          3050,
          2230,
          2223,
          2317,
          3234,
          1729,
          2323,
          5712,
          4344,
          1564,
          4297,
          3941,
          2844,
          1938,
          1767,
          3335,
          1730,
          4645,
          5071,
          2935,
          4708,
          2382,
          1928,
          4650,
          5369,
          5944,
          3498,
          4293,
          3465,
          5105,
          3649,
          4207,
          1296,
          2653,
          4220,
          4085,
          4348,
          3180,
          2021,
          2911,
          3070,
          3362,
          1548,
          2601,
          2866,
          -363,
          4248,
          3246,
          3397,
          2226,
          3879,
          1752,
          1987,
          3942,
          3535,
          1083,
          5366,
          1862,
          2801,
          5620,
          -89,
          440,
          3662,
          -717,
          -65,
          4762,
          2386,
          6294,
          1447,
          2522,
          3810,
          3707,
          2617,
          2027,
          3347,
          5065,
          4144,
          2051,
          1512,
          1960,
          1089,
          3221,
          4220,
          2892,
          5579,
          5663,
          3461,
          4052,
          1649,
          2458,
          4908,
          2131,
          5231,
          4668,
          4127,
          1240,
          2532,
          3966,
          1521,
          2714,
          4128,
          2147,
          1730,
          298,
          2420,
          4159,
          1690,
          3026,
          2663,
          2000,
          4256,
          5463,
          4506,
          1956,
          5988,
          4502,
          2313,
          1837,
          4681,
          3260,
          1723,
          2777,
          2389,
          1763,
          4521,
          4172,
          4257,
          4237,
          1625,
          2094,
          5187,
          3162,
          794,
          3325,
          3982,
          3786,
          1593,
          5830,
          749,
          3166,
          5604,
          3887,
          4254,
          1420,
          3520,
          2945,
          1304,
          4297,
          1770,
          1948,
          3648,
          2785,
          3253,
          2693,
          5119,
          1612,
          2302,
          3721,
          1518,
          1451,
          3206,
          4301,
          4496,
          3137,
          1991,
          3413,
          3849,
          3392,
          4851,
          1478,
          1954,
          4643,
          790,
          2190,
          1902,
          653,
          2719,
          4119,
          3234,
          4199,
          4787,
          2421,
          6970,
          2481,
          2681,
          1938,
          3818,
          2564,
          2881,
          2692,
          2658,
          3237,
          2324,
          2395,
          4609,
          2559,
          3575,
          1665,
          23320,
          1151,
          5781,
          5063,
          3893,
          6226,
          4155,
          2742,
          3558,
          5041,
          1679,
          1240,
          3609,
          2119,
          -389,
          1135,
          2532,
          3072,
          3116,
          6007,
          2688,
          3417,
          561,
          2953,
          3501,
          937,
          1599,
          3733,
          2180,
          2846,
          3811,
          6055,
          2667,
          5653,
          61,
          3222,
          2498,
          2201,
          3987,
          2678,
          -37,
          617,
          4083,
          544,
          4123,
          3187,
          2744,
          2877,
          3772,
          1233,
          3063,
          1290,
          3245,
          3969,
          3248,
          3912,
          1949,
          2906,
          2643,
          2544,
          1799,
          2352,
          1330,
          458,
          1948,
          3938,
          3351,
          1115,
          2390,
          4038,
          2327,
          873,
          6386,
          2749,
          1254,
          3256,
          2871,
          687,
          3140,
          4475,
          2650,
          -90,
          3512,
          3904,
          2120,
          2131,
          6386,
          2012,
          1317,
          3037,
          3862,
          3798,
          -702,
          2008,
          4729,
          3490,
          1146,
          4863,
          4447,
          2555,
          4319,
          5999,
          1418,
          3833,
          5978,
          3979,
          1868,
          3358,
          5054,
          1476,
          29540,
          2634,
          2052,
          3362,
          2848,
          3965,
          4711,
          1090,
          3101,
          2920,
          3305,
          2976,
          1529,
          5182,
          5821,
          3820,
          3897,
          3196,
          4453,
          -664,
          2994,
          2141,
          3218,
          4638,
          3028,
          2459,
          895,
          2836,
          4008,
          1738,
          -5,
          6411,
          3502,
          2667,
          5086,
          3212,
          4998,
          4869,
          1088,
          3689,
          5587,
          1502,
          1520,
          1774,
          4335,
          3426,
          96,
          3511,
          2622,
          2831,
          1744,
          3522,
          4575,
          2037,
          476,
          2545,
          4134,
          2368,
          753,
          4144,
          5123,
          3030,
          591,
          2523,
          3227,
          1785,
          3875,
          1638,
          3038,
          2657,
          3923,
          2978,
          2705,
          1795,
          3052,
          2609,
          1694,
          3239,
          3545,
          2492,
          4397,
          3395,
          1074,
          5006,
          4150,
          4502,
          3600,
          -506,
          4638,
          3091,
          3529,
          3810,
          5904,
          2180,
          2219,
          1723,
          1395,
          1422,
          222,
          3639,
          5981,
          6077,
          1721,
          2591,
          4850,
          3648,
          3201,
          2614,
          4767,
          1390,
          3721,
          3517,
          3065,
          4181,
          3050,
          2198,
          3138,
          6110,
          3919,
          4302,
          2015,
          1658,
          2070,
          2905,
          3323,
          5423,
          5233,
          4247,
          3181,
          1609,
          5519,
          2628,
          3422,
          3941,
          3092,
          4726,
          3683,
          4482,
          3671,
          2943,
          3111,
          2906,
          1073,
          1498,
          4110,
          1110,
          2393,
          1424,
          2313,
          2767,
          2390,
          857,
          2721,
          1561,
          2045,
          4110,
          4433,
          1033,
          5352,
          2234,
          2098,
          1662,
          3083,
          5972,
          690,
          -85,
          3402,
          3854,
          3079,
          3893,
          1303,
          1582,
          3185,
          5637,
          3841,
          3910,
          1389,
          3633,
          1226,
          5651,
          1482,
          1805,
          790,
          3128,
          3065,
          5269,
          4164,
          1813,
          4310,
          1134,
          1922,
          3177,
          1302,
          4596,
          6418,
          2558,
          2022,
          2805,
          2163,
          3392,
          1016,
          3477,
          5867,
          -3,
          1247,
          2332,
          3812,
          4335,
          4214,
          462,
          1988,
          1649,
          2902,
          3027,
          946,
          2340,
          3870,
          2057,
          2699,
          5545,
          5985,
          -363,
          2390,
          4335,
          3477,
          3893,
          4302,
          3833,
          2131,
          1329,
          1961
         ],
         "y0": " ",
         "yaxis": "y"
        }
       ],
       "layout": {
        "boxmode": "group",
        "legend": {
         "tracegroupgap": 0
        },
        "template": {
         "data": {
          "bar": [
           {
            "error_x": {
             "color": "#2a3f5f"
            },
            "error_y": {
             "color": "#2a3f5f"
            },
            "marker": {
             "line": {
              "color": "#E5ECF6",
              "width": 0.5
             },
             "pattern": {
              "fillmode": "overlay",
              "size": 10,
              "solidity": 0.2
             }
            },
            "type": "bar"
           }
          ],
          "barpolar": [
           {
            "marker": {
             "line": {
              "color": "#E5ECF6",
              "width": 0.5
             },
             "pattern": {
              "fillmode": "overlay",
              "size": 10,
              "solidity": 0.2
             }
            },
            "type": "barpolar"
           }
          ],
          "carpet": [
           {
            "aaxis": {
             "endlinecolor": "#2a3f5f",
             "gridcolor": "white",
             "linecolor": "white",
             "minorgridcolor": "white",
             "startlinecolor": "#2a3f5f"
            },
            "baxis": {
             "endlinecolor": "#2a3f5f",
             "gridcolor": "white",
             "linecolor": "white",
             "minorgridcolor": "white",
             "startlinecolor": "#2a3f5f"
            },
            "type": "carpet"
           }
          ],
          "choropleth": [
           {
            "colorbar": {
             "outlinewidth": 0,
             "ticks": ""
            },
            "type": "choropleth"
           }
          ],
          "contour": [
           {
            "colorbar": {
             "outlinewidth": 0,
             "ticks": ""
            },
            "colorscale": [
             [
              0,
              "#0d0887"
             ],
             [
              0.1111111111111111,
              "#46039f"
             ],
             [
              0.2222222222222222,
              "#7201a8"
             ],
             [
              0.3333333333333333,
              "#9c179e"
             ],
             [
              0.4444444444444444,
              "#bd3786"
             ],
             [
              0.5555555555555556,
              "#d8576b"
             ],
             [
              0.6666666666666666,
              "#ed7953"
             ],
             [
              0.7777777777777778,
              "#fb9f3a"
             ],
             [
              0.8888888888888888,
              "#fdca26"
             ],
             [
              1,
              "#f0f921"
             ]
            ],
            "type": "contour"
           }
          ],
          "contourcarpet": [
           {
            "colorbar": {
             "outlinewidth": 0,
             "ticks": ""
            },
            "type": "contourcarpet"
           }
          ],
          "heatmap": [
           {
            "colorbar": {
             "outlinewidth": 0,
             "ticks": ""
            },
            "colorscale": [
             [
              0,
              "#0d0887"
             ],
             [
              0.1111111111111111,
              "#46039f"
             ],
             [
              0.2222222222222222,
              "#7201a8"
             ],
             [
              0.3333333333333333,
              "#9c179e"
             ],
             [
              0.4444444444444444,
              "#bd3786"
             ],
             [
              0.5555555555555556,
              "#d8576b"
             ],
             [
              0.6666666666666666,
              "#ed7953"
             ],
             [
              0.7777777777777778,
              "#fb9f3a"
             ],
             [
              0.8888888888888888,
              "#fdca26"
             ],
             [
              1,
              "#f0f921"
             ]
            ],
            "type": "heatmap"
           }
          ],
          "heatmapgl": [
           {
            "colorbar": {
             "outlinewidth": 0,
             "ticks": ""
            },
            "colorscale": [
             [
              0,
              "#0d0887"
             ],
             [
              0.1111111111111111,
              "#46039f"
             ],
             [
              0.2222222222222222,
              "#7201a8"
             ],
             [
              0.3333333333333333,
              "#9c179e"
             ],
             [
              0.4444444444444444,
              "#bd3786"
             ],
             [
              0.5555555555555556,
              "#d8576b"
             ],
             [
              0.6666666666666666,
              "#ed7953"
             ],
             [
              0.7777777777777778,
              "#fb9f3a"
             ],
             [
              0.8888888888888888,
              "#fdca26"
             ],
             [
              1,
              "#f0f921"
             ]
            ],
            "type": "heatmapgl"
           }
          ],
          "histogram": [
           {
            "marker": {
             "pattern": {
              "fillmode": "overlay",
              "size": 10,
              "solidity": 0.2
             }
            },
            "type": "histogram"
           }
          ],
          "histogram2d": [
           {
            "colorbar": {
             "outlinewidth": 0,
             "ticks": ""
            },
            "colorscale": [
             [
              0,
              "#0d0887"
             ],
             [
              0.1111111111111111,
              "#46039f"
             ],
             [
              0.2222222222222222,
              "#7201a8"
             ],
             [
              0.3333333333333333,
              "#9c179e"
             ],
             [
              0.4444444444444444,
              "#bd3786"
             ],
             [
              0.5555555555555556,
              "#d8576b"
             ],
             [
              0.6666666666666666,
              "#ed7953"
             ],
             [
              0.7777777777777778,
              "#fb9f3a"
             ],
             [
              0.8888888888888888,
              "#fdca26"
             ],
             [
              1,
              "#f0f921"
             ]
            ],
            "type": "histogram2d"
           }
          ],
          "histogram2dcontour": [
           {
            "colorbar": {
             "outlinewidth": 0,
             "ticks": ""
            },
            "colorscale": [
             [
              0,
              "#0d0887"
             ],
             [
              0.1111111111111111,
              "#46039f"
             ],
             [
              0.2222222222222222,
              "#7201a8"
             ],
             [
              0.3333333333333333,
              "#9c179e"
             ],
             [
              0.4444444444444444,
              "#bd3786"
             ],
             [
              0.5555555555555556,
              "#d8576b"
             ],
             [
              0.6666666666666666,
              "#ed7953"
             ],
             [
              0.7777777777777778,
              "#fb9f3a"
             ],
             [
              0.8888888888888888,
              "#fdca26"
             ],
             [
              1,
              "#f0f921"
             ]
            ],
            "type": "histogram2dcontour"
           }
          ],
          "mesh3d": [
           {
            "colorbar": {
             "outlinewidth": 0,
             "ticks": ""
            },
            "type": "mesh3d"
           }
          ],
          "parcoords": [
           {
            "line": {
             "colorbar": {
              "outlinewidth": 0,
              "ticks": ""
             }
            },
            "type": "parcoords"
           }
          ],
          "pie": [
           {
            "automargin": true,
            "type": "pie"
           }
          ],
          "scatter": [
           {
            "fillpattern": {
             "fillmode": "overlay",
             "size": 10,
             "solidity": 0.2
            },
            "type": "scatter"
           }
          ],
          "scatter3d": [
           {
            "line": {
             "colorbar": {
              "outlinewidth": 0,
              "ticks": ""
             }
            },
            "marker": {
             "colorbar": {
              "outlinewidth": 0,
              "ticks": ""
             }
            },
            "type": "scatter3d"
           }
          ],
          "scattercarpet": [
           {
            "marker": {
             "colorbar": {
              "outlinewidth": 0,
              "ticks": ""
             }
            },
            "type": "scattercarpet"
           }
          ],
          "scattergeo": [
           {
            "marker": {
             "colorbar": {
              "outlinewidth": 0,
              "ticks": ""
             }
            },
            "type": "scattergeo"
           }
          ],
          "scattergl": [
           {
            "marker": {
             "colorbar": {
              "outlinewidth": 0,
              "ticks": ""
             }
            },
            "type": "scattergl"
           }
          ],
          "scattermapbox": [
           {
            "marker": {
             "colorbar": {
              "outlinewidth": 0,
              "ticks": ""
             }
            },
            "type": "scattermapbox"
           }
          ],
          "scatterpolar": [
           {
            "marker": {
             "colorbar": {
              "outlinewidth": 0,
              "ticks": ""
             }
            },
            "type": "scatterpolar"
           }
          ],
          "scatterpolargl": [
           {
            "marker": {
             "colorbar": {
              "outlinewidth": 0,
              "ticks": ""
             }
            },
            "type": "scatterpolargl"
           }
          ],
          "scatterternary": [
           {
            "marker": {
             "colorbar": {
              "outlinewidth": 0,
              "ticks": ""
             }
            },
            "type": "scatterternary"
           }
          ],
          "surface": [
           {
            "colorbar": {
             "outlinewidth": 0,
             "ticks": ""
            },
            "colorscale": [
             [
              0,
              "#0d0887"
             ],
             [
              0.1111111111111111,
              "#46039f"
             ],
             [
              0.2222222222222222,
              "#7201a8"
             ],
             [
              0.3333333333333333,
              "#9c179e"
             ],
             [
              0.4444444444444444,
              "#bd3786"
             ],
             [
              0.5555555555555556,
              "#d8576b"
             ],
             [
              0.6666666666666666,
              "#ed7953"
             ],
             [
              0.7777777777777778,
              "#fb9f3a"
             ],
             [
              0.8888888888888888,
              "#fdca26"
             ],
             [
              1,
              "#f0f921"
             ]
            ],
            "type": "surface"
           }
          ],
          "table": [
           {
            "cells": {
             "fill": {
              "color": "#EBF0F8"
             },
             "line": {
              "color": "white"
             }
            },
            "header": {
             "fill": {
              "color": "#C8D4E3"
             },
             "line": {
              "color": "white"
             }
            },
            "type": "table"
           }
          ]
         },
         "layout": {
          "annotationdefaults": {
           "arrowcolor": "#2a3f5f",
           "arrowhead": 0,
           "arrowwidth": 1
          },
          "autotypenumbers": "strict",
          "coloraxis": {
           "colorbar": {
            "outlinewidth": 0,
            "ticks": ""
           }
          },
          "colorscale": {
           "diverging": [
            [
             0,
             "#8e0152"
            ],
            [
             0.1,
             "#c51b7d"
            ],
            [
             0.2,
             "#de77ae"
            ],
            [
             0.3,
             "#f1b6da"
            ],
            [
             0.4,
             "#fde0ef"
            ],
            [
             0.5,
             "#f7f7f7"
            ],
            [
             0.6,
             "#e6f5d0"
            ],
            [
             0.7,
             "#b8e186"
            ],
            [
             0.8,
             "#7fbc41"
            ],
            [
             0.9,
             "#4d9221"
            ],
            [
             1,
             "#276419"
            ]
           ],
           "sequential": [
            [
             0,
             "#0d0887"
            ],
            [
             0.1111111111111111,
             "#46039f"
            ],
            [
             0.2222222222222222,
             "#7201a8"
            ],
            [
             0.3333333333333333,
             "#9c179e"
            ],
            [
             0.4444444444444444,
             "#bd3786"
            ],
            [
             0.5555555555555556,
             "#d8576b"
            ],
            [
             0.6666666666666666,
             "#ed7953"
            ],
            [
             0.7777777777777778,
             "#fb9f3a"
            ],
            [
             0.8888888888888888,
             "#fdca26"
            ],
            [
             1,
             "#f0f921"
            ]
           ],
           "sequentialminus": [
            [
             0,
             "#0d0887"
            ],
            [
             0.1111111111111111,
             "#46039f"
            ],
            [
             0.2222222222222222,
             "#7201a8"
            ],
            [
             0.3333333333333333,
             "#9c179e"
            ],
            [
             0.4444444444444444,
             "#bd3786"
            ],
            [
             0.5555555555555556,
             "#d8576b"
            ],
            [
             0.6666666666666666,
             "#ed7953"
            ],
            [
             0.7777777777777778,
             "#fb9f3a"
            ],
            [
             0.8888888888888888,
             "#fdca26"
            ],
            [
             1,
             "#f0f921"
            ]
           ]
          },
          "colorway": [
           "#636efa",
           "#EF553B",
           "#00cc96",
           "#ab63fa",
           "#FFA15A",
           "#19d3f3",
           "#FF6692",
           "#B6E880",
           "#FF97FF",
           "#FECB52"
          ],
          "font": {
           "color": "#2a3f5f"
          },
          "geo": {
           "bgcolor": "white",
           "lakecolor": "white",
           "landcolor": "#E5ECF6",
           "showlakes": true,
           "showland": true,
           "subunitcolor": "white"
          },
          "hoverlabel": {
           "align": "left"
          },
          "hovermode": "closest",
          "mapbox": {
           "style": "light"
          },
          "paper_bgcolor": "white",
          "plot_bgcolor": "#E5ECF6",
          "polar": {
           "angularaxis": {
            "gridcolor": "white",
            "linecolor": "white",
            "ticks": ""
           },
           "bgcolor": "#E5ECF6",
           "radialaxis": {
            "gridcolor": "white",
            "linecolor": "white",
            "ticks": ""
           }
          },
          "scene": {
           "xaxis": {
            "backgroundcolor": "#E5ECF6",
            "gridcolor": "white",
            "gridwidth": 2,
            "linecolor": "white",
            "showbackground": true,
            "ticks": "",
            "zerolinecolor": "white"
           },
           "yaxis": {
            "backgroundcolor": "#E5ECF6",
            "gridcolor": "white",
            "gridwidth": 2,
            "linecolor": "white",
            "showbackground": true,
            "ticks": "",
            "zerolinecolor": "white"
           },
           "zaxis": {
            "backgroundcolor": "#E5ECF6",
            "gridcolor": "white",
            "gridwidth": 2,
            "linecolor": "white",
            "showbackground": true,
            "ticks": "",
            "zerolinecolor": "white"
           }
          },
          "shapedefaults": {
           "line": {
            "color": "#2a3f5f"
           }
          },
          "ternary": {
           "aaxis": {
            "gridcolor": "white",
            "linecolor": "white",
            "ticks": ""
           },
           "baxis": {
            "gridcolor": "white",
            "linecolor": "white",
            "ticks": ""
           },
           "bgcolor": "#E5ECF6",
           "caxis": {
            "gridcolor": "white",
            "linecolor": "white",
            "ticks": ""
           }
          },
          "title": {
           "x": 0.05
          },
          "xaxis": {
           "automargin": true,
           "gridcolor": "white",
           "linecolor": "white",
           "ticks": "",
           "title": {
            "standoff": 15
           },
           "zerolinecolor": "white",
           "zerolinewidth": 2
          },
          "yaxis": {
           "automargin": true,
           "gridcolor": "white",
           "linecolor": "white",
           "ticks": "",
           "title": {
            "standoff": 15
           },
           "zerolinecolor": "white",
           "zerolinewidth": 2
          }
         }
        },
        "title": {
         "text": "Monthly Balance (Boxplot)"
        },
        "xaxis": {
         "anchor": "y",
         "domain": [
          0,
          1
         ]
        },
        "yaxis": {
         "anchor": "x",
         "domain": [
          0,
          1
         ],
         "title": {
          "text": "monthly_balance"
         }
        }
       }
      }
     },
     "metadata": {},
     "output_type": "display_data"
    }
   ],
   "source": [
    "\n",
    "# Boxplot for monthly_balance\n",
    "fig = px.box(df, y=\"monthly_balance\", title=\"Monthly Balance\")\n",
    "fig.show()\n"
   ]
  },
  {
   "cell_type": "markdown",
   "id": "492dfd06",
   "metadata": {},
   "source": [
    "**Interpretation:**\n",
    "\n",
    "- Income shows wide variation, with some higher earners but many around lower ranges.\n",
    "- Monthly balance has outliers — some customers go very negative or very high."
   ]
  },
  {
   "cell_type": "markdown",
   "id": "6523559d",
   "metadata": {},
   "source": [
    "### Step 1.5 – Target Variable\n",
    "- Check distribution of the target\n",
    "- See if classes are balanced (default vs non-default)\n",
    "\n",
    "*Explanation*: Checking class balance is critical. If imbalanced, advanced techniques like resampling or weighted models may be needed."
   ]
  },
  {
   "cell_type": "code",
   "execution_count": 28,
   "id": "fbddc497",
   "metadata": {},
   "outputs": [
    {
     "data": {
      "application/vnd.microsoft.datawrangler.viewer.v0+json": {
       "columns": [
        {
         "name": "default",
         "rawType": "int64",
         "type": "integer"
        },
        {
         "name": "count",
         "rawType": "int64",
         "type": "integer"
        }
       ],
       "ref": "d2af5d32-e2ff-4651-a505-a92d75c8c514",
       "rows": [
        [
         "0",
         "789"
        ],
        [
         "1",
         "221"
        ]
       ],
       "shape": {
        "columns": 1,
        "rows": 2
       }
      },
      "text/plain": [
       "default\n",
       "0    789\n",
       "1    221\n",
       "Name: count, dtype: int64"
      ]
     },
     "execution_count": 28,
     "metadata": {},
     "output_type": "execute_result"
    }
   ],
   "source": [
    "df['default'].value_counts()"
   ]
  },
  {
   "cell_type": "code",
   "execution_count": 29,
   "id": "7ff4585e",
   "metadata": {},
   "outputs": [
    {
     "data": {
      "application/vnd.plotly.v1+json": {
       "config": {
        "plotlyServerURL": "https://plot.ly"
       },
       "data": [
        {
         "alignmentgroup": "True",
         "hovertemplate": "Class=%{x}<br>Proportion=%{text}<extra></extra>",
         "legendgroup": "",
         "marker": {
          "color": "#636efa",
          "pattern": {
           "shape": ""
          }
         },
         "name": "",
         "offsetgroup": "",
         "orientation": "v",
         "showlegend": false,
         "text": [
          0.7811881188118812,
          0.2188118811881188
         ],
         "textposition": "outside",
         "texttemplate": "%{text:.2%}",
         "type": "bar",
         "x": [
          0,
          1
         ],
         "xaxis": "x",
         "y": [
          0.7811881188118812,
          0.2188118811881188
         ],
         "yaxis": "y"
        }
       ],
       "layout": {
        "barmode": "relative",
        "legend": {
         "tracegroupgap": 0
        },
        "template": {
         "data": {
          "bar": [
           {
            "error_x": {
             "color": "#2a3f5f"
            },
            "error_y": {
             "color": "#2a3f5f"
            },
            "marker": {
             "line": {
              "color": "#E5ECF6",
              "width": 0.5
             },
             "pattern": {
              "fillmode": "overlay",
              "size": 10,
              "solidity": 0.2
             }
            },
            "type": "bar"
           }
          ],
          "barpolar": [
           {
            "marker": {
             "line": {
              "color": "#E5ECF6",
              "width": 0.5
             },
             "pattern": {
              "fillmode": "overlay",
              "size": 10,
              "solidity": 0.2
             }
            },
            "type": "barpolar"
           }
          ],
          "carpet": [
           {
            "aaxis": {
             "endlinecolor": "#2a3f5f",
             "gridcolor": "white",
             "linecolor": "white",
             "minorgridcolor": "white",
             "startlinecolor": "#2a3f5f"
            },
            "baxis": {
             "endlinecolor": "#2a3f5f",
             "gridcolor": "white",
             "linecolor": "white",
             "minorgridcolor": "white",
             "startlinecolor": "#2a3f5f"
            },
            "type": "carpet"
           }
          ],
          "choropleth": [
           {
            "colorbar": {
             "outlinewidth": 0,
             "ticks": ""
            },
            "type": "choropleth"
           }
          ],
          "contour": [
           {
            "colorbar": {
             "outlinewidth": 0,
             "ticks": ""
            },
            "colorscale": [
             [
              0,
              "#0d0887"
             ],
             [
              0.1111111111111111,
              "#46039f"
             ],
             [
              0.2222222222222222,
              "#7201a8"
             ],
             [
              0.3333333333333333,
              "#9c179e"
             ],
             [
              0.4444444444444444,
              "#bd3786"
             ],
             [
              0.5555555555555556,
              "#d8576b"
             ],
             [
              0.6666666666666666,
              "#ed7953"
             ],
             [
              0.7777777777777778,
              "#fb9f3a"
             ],
             [
              0.8888888888888888,
              "#fdca26"
             ],
             [
              1,
              "#f0f921"
             ]
            ],
            "type": "contour"
           }
          ],
          "contourcarpet": [
           {
            "colorbar": {
             "outlinewidth": 0,
             "ticks": ""
            },
            "type": "contourcarpet"
           }
          ],
          "heatmap": [
           {
            "colorbar": {
             "outlinewidth": 0,
             "ticks": ""
            },
            "colorscale": [
             [
              0,
              "#0d0887"
             ],
             [
              0.1111111111111111,
              "#46039f"
             ],
             [
              0.2222222222222222,
              "#7201a8"
             ],
             [
              0.3333333333333333,
              "#9c179e"
             ],
             [
              0.4444444444444444,
              "#bd3786"
             ],
             [
              0.5555555555555556,
              "#d8576b"
             ],
             [
              0.6666666666666666,
              "#ed7953"
             ],
             [
              0.7777777777777778,
              "#fb9f3a"
             ],
             [
              0.8888888888888888,
              "#fdca26"
             ],
             [
              1,
              "#f0f921"
             ]
            ],
            "type": "heatmap"
           }
          ],
          "heatmapgl": [
           {
            "colorbar": {
             "outlinewidth": 0,
             "ticks": ""
            },
            "colorscale": [
             [
              0,
              "#0d0887"
             ],
             [
              0.1111111111111111,
              "#46039f"
             ],
             [
              0.2222222222222222,
              "#7201a8"
             ],
             [
              0.3333333333333333,
              "#9c179e"
             ],
             [
              0.4444444444444444,
              "#bd3786"
             ],
             [
              0.5555555555555556,
              "#d8576b"
             ],
             [
              0.6666666666666666,
              "#ed7953"
             ],
             [
              0.7777777777777778,
              "#fb9f3a"
             ],
             [
              0.8888888888888888,
              "#fdca26"
             ],
             [
              1,
              "#f0f921"
             ]
            ],
            "type": "heatmapgl"
           }
          ],
          "histogram": [
           {
            "marker": {
             "pattern": {
              "fillmode": "overlay",
              "size": 10,
              "solidity": 0.2
             }
            },
            "type": "histogram"
           }
          ],
          "histogram2d": [
           {
            "colorbar": {
             "outlinewidth": 0,
             "ticks": ""
            },
            "colorscale": [
             [
              0,
              "#0d0887"
             ],
             [
              0.1111111111111111,
              "#46039f"
             ],
             [
              0.2222222222222222,
              "#7201a8"
             ],
             [
              0.3333333333333333,
              "#9c179e"
             ],
             [
              0.4444444444444444,
              "#bd3786"
             ],
             [
              0.5555555555555556,
              "#d8576b"
             ],
             [
              0.6666666666666666,
              "#ed7953"
             ],
             [
              0.7777777777777778,
              "#fb9f3a"
             ],
             [
              0.8888888888888888,
              "#fdca26"
             ],
             [
              1,
              "#f0f921"
             ]
            ],
            "type": "histogram2d"
           }
          ],
          "histogram2dcontour": [
           {
            "colorbar": {
             "outlinewidth": 0,
             "ticks": ""
            },
            "colorscale": [
             [
              0,
              "#0d0887"
             ],
             [
              0.1111111111111111,
              "#46039f"
             ],
             [
              0.2222222222222222,
              "#7201a8"
             ],
             [
              0.3333333333333333,
              "#9c179e"
             ],
             [
              0.4444444444444444,
              "#bd3786"
             ],
             [
              0.5555555555555556,
              "#d8576b"
             ],
             [
              0.6666666666666666,
              "#ed7953"
             ],
             [
              0.7777777777777778,
              "#fb9f3a"
             ],
             [
              0.8888888888888888,
              "#fdca26"
             ],
             [
              1,
              "#f0f921"
             ]
            ],
            "type": "histogram2dcontour"
           }
          ],
          "mesh3d": [
           {
            "colorbar": {
             "outlinewidth": 0,
             "ticks": ""
            },
            "type": "mesh3d"
           }
          ],
          "parcoords": [
           {
            "line": {
             "colorbar": {
              "outlinewidth": 0,
              "ticks": ""
             }
            },
            "type": "parcoords"
           }
          ],
          "pie": [
           {
            "automargin": true,
            "type": "pie"
           }
          ],
          "scatter": [
           {
            "fillpattern": {
             "fillmode": "overlay",
             "size": 10,
             "solidity": 0.2
            },
            "type": "scatter"
           }
          ],
          "scatter3d": [
           {
            "line": {
             "colorbar": {
              "outlinewidth": 0,
              "ticks": ""
             }
            },
            "marker": {
             "colorbar": {
              "outlinewidth": 0,
              "ticks": ""
             }
            },
            "type": "scatter3d"
           }
          ],
          "scattercarpet": [
           {
            "marker": {
             "colorbar": {
              "outlinewidth": 0,
              "ticks": ""
             }
            },
            "type": "scattercarpet"
           }
          ],
          "scattergeo": [
           {
            "marker": {
             "colorbar": {
              "outlinewidth": 0,
              "ticks": ""
             }
            },
            "type": "scattergeo"
           }
          ],
          "scattergl": [
           {
            "marker": {
             "colorbar": {
              "outlinewidth": 0,
              "ticks": ""
             }
            },
            "type": "scattergl"
           }
          ],
          "scattermapbox": [
           {
            "marker": {
             "colorbar": {
              "outlinewidth": 0,
              "ticks": ""
             }
            },
            "type": "scattermapbox"
           }
          ],
          "scatterpolar": [
           {
            "marker": {
             "colorbar": {
              "outlinewidth": 0,
              "ticks": ""
             }
            },
            "type": "scatterpolar"
           }
          ],
          "scatterpolargl": [
           {
            "marker": {
             "colorbar": {
              "outlinewidth": 0,
              "ticks": ""
             }
            },
            "type": "scatterpolargl"
           }
          ],
          "scatterternary": [
           {
            "marker": {
             "colorbar": {
              "outlinewidth": 0,
              "ticks": ""
             }
            },
            "type": "scatterternary"
           }
          ],
          "surface": [
           {
            "colorbar": {
             "outlinewidth": 0,
             "ticks": ""
            },
            "colorscale": [
             [
              0,
              "#0d0887"
             ],
             [
              0.1111111111111111,
              "#46039f"
             ],
             [
              0.2222222222222222,
              "#7201a8"
             ],
             [
              0.3333333333333333,
              "#9c179e"
             ],
             [
              0.4444444444444444,
              "#bd3786"
             ],
             [
              0.5555555555555556,
              "#d8576b"
             ],
             [
              0.6666666666666666,
              "#ed7953"
             ],
             [
              0.7777777777777778,
              "#fb9f3a"
             ],
             [
              0.8888888888888888,
              "#fdca26"
             ],
             [
              1,
              "#f0f921"
             ]
            ],
            "type": "surface"
           }
          ],
          "table": [
           {
            "cells": {
             "fill": {
              "color": "#EBF0F8"
             },
             "line": {
              "color": "white"
             }
            },
            "header": {
             "fill": {
              "color": "#C8D4E3"
             },
             "line": {
              "color": "white"
             }
            },
            "type": "table"
           }
          ]
         },
         "layout": {
          "annotationdefaults": {
           "arrowcolor": "#2a3f5f",
           "arrowhead": 0,
           "arrowwidth": 1
          },
          "autotypenumbers": "strict",
          "coloraxis": {
           "colorbar": {
            "outlinewidth": 0,
            "ticks": ""
           }
          },
          "colorscale": {
           "diverging": [
            [
             0,
             "#8e0152"
            ],
            [
             0.1,
             "#c51b7d"
            ],
            [
             0.2,
             "#de77ae"
            ],
            [
             0.3,
             "#f1b6da"
            ],
            [
             0.4,
             "#fde0ef"
            ],
            [
             0.5,
             "#f7f7f7"
            ],
            [
             0.6,
             "#e6f5d0"
            ],
            [
             0.7,
             "#b8e186"
            ],
            [
             0.8,
             "#7fbc41"
            ],
            [
             0.9,
             "#4d9221"
            ],
            [
             1,
             "#276419"
            ]
           ],
           "sequential": [
            [
             0,
             "#0d0887"
            ],
            [
             0.1111111111111111,
             "#46039f"
            ],
            [
             0.2222222222222222,
             "#7201a8"
            ],
            [
             0.3333333333333333,
             "#9c179e"
            ],
            [
             0.4444444444444444,
             "#bd3786"
            ],
            [
             0.5555555555555556,
             "#d8576b"
            ],
            [
             0.6666666666666666,
             "#ed7953"
            ],
            [
             0.7777777777777778,
             "#fb9f3a"
            ],
            [
             0.8888888888888888,
             "#fdca26"
            ],
            [
             1,
             "#f0f921"
            ]
           ],
           "sequentialminus": [
            [
             0,
             "#0d0887"
            ],
            [
             0.1111111111111111,
             "#46039f"
            ],
            [
             0.2222222222222222,
             "#7201a8"
            ],
            [
             0.3333333333333333,
             "#9c179e"
            ],
            [
             0.4444444444444444,
             "#bd3786"
            ],
            [
             0.5555555555555556,
             "#d8576b"
            ],
            [
             0.6666666666666666,
             "#ed7953"
            ],
            [
             0.7777777777777778,
             "#fb9f3a"
            ],
            [
             0.8888888888888888,
             "#fdca26"
            ],
            [
             1,
             "#f0f921"
            ]
           ]
          },
          "colorway": [
           "#636efa",
           "#EF553B",
           "#00cc96",
           "#ab63fa",
           "#FFA15A",
           "#19d3f3",
           "#FF6692",
           "#B6E880",
           "#FF97FF",
           "#FECB52"
          ],
          "font": {
           "color": "#2a3f5f"
          },
          "geo": {
           "bgcolor": "white",
           "lakecolor": "white",
           "landcolor": "#E5ECF6",
           "showlakes": true,
           "showland": true,
           "subunitcolor": "white"
          },
          "hoverlabel": {
           "align": "left"
          },
          "hovermode": "closest",
          "mapbox": {
           "style": "light"
          },
          "paper_bgcolor": "white",
          "plot_bgcolor": "#E5ECF6",
          "polar": {
           "angularaxis": {
            "gridcolor": "white",
            "linecolor": "white",
            "ticks": ""
           },
           "bgcolor": "#E5ECF6",
           "radialaxis": {
            "gridcolor": "white",
            "linecolor": "white",
            "ticks": ""
           }
          },
          "scene": {
           "xaxis": {
            "backgroundcolor": "#E5ECF6",
            "gridcolor": "white",
            "gridwidth": 2,
            "linecolor": "white",
            "showbackground": true,
            "ticks": "",
            "zerolinecolor": "white"
           },
           "yaxis": {
            "backgroundcolor": "#E5ECF6",
            "gridcolor": "white",
            "gridwidth": 2,
            "linecolor": "white",
            "showbackground": true,
            "ticks": "",
            "zerolinecolor": "white"
           },
           "zaxis": {
            "backgroundcolor": "#E5ECF6",
            "gridcolor": "white",
            "gridwidth": 2,
            "linecolor": "white",
            "showbackground": true,
            "ticks": "",
            "zerolinecolor": "white"
           }
          },
          "shapedefaults": {
           "line": {
            "color": "#2a3f5f"
           }
          },
          "ternary": {
           "aaxis": {
            "gridcolor": "white",
            "linecolor": "white",
            "ticks": ""
           },
           "baxis": {
            "gridcolor": "white",
            "linecolor": "white",
            "ticks": ""
           },
           "bgcolor": "#E5ECF6",
           "caxis": {
            "gridcolor": "white",
            "linecolor": "white",
            "ticks": ""
           }
          },
          "title": {
           "x": 0.05
          },
          "xaxis": {
           "automargin": true,
           "gridcolor": "white",
           "linecolor": "white",
           "ticks": "",
           "title": {
            "standoff": 15
           },
           "zerolinecolor": "white",
           "zerolinewidth": 2
          },
          "yaxis": {
           "automargin": true,
           "gridcolor": "white",
           "linecolor": "white",
           "ticks": "",
           "title": {
            "standoff": 15
           },
           "zerolinecolor": "white",
           "zerolinewidth": 2
          }
         }
        },
        "title": {
         "text": "Default vs Non-default Distribution"
        },
        "xaxis": {
         "anchor": "y",
         "domain": [
          0,
          1
         ],
         "title": {
          "text": "Class"
         }
        },
        "yaxis": {
         "anchor": "x",
         "domain": [
          0,
          1
         ],
         "tickformat": ".0%",
         "title": {
          "text": "Proportion"
         }
        }
       }
      }
     },
     "metadata": {},
     "output_type": "display_data"
    }
   ],
   "source": [
    "\n",
    "# Distribution of default vs non-default\n",
    "default_dist = df['default'].value_counts(normalize=True).reset_index()\n",
    "default_dist.columns = ['default', 'proportion']\n",
    "\n",
    "fig = px.bar(\n",
    "    default_dist,\n",
    "    x='default',\n",
    "    y='proportion',\n",
    "    text='proportion',\n",
    "    title=\"Default vs Non-default Distribution\",\n",
    "    labels={'default': 'Class', 'proportion': 'Proportion'}\n",
    ")\n",
    "fig.update_traces(texttemplate='%{text:.2%}', textposition='outside')\n",
    "fig.update_yaxes(tickformat=\".0%\")\n",
    "fig.show()\n",
    "\n"
   ]
  },
  {
   "cell_type": "markdown",
   "id": "29079027",
   "metadata": {},
   "source": [
    "### Class Imbalance Note\n",
    "\n",
    "In this dataset, about 20% of customers are **defaults** while 80% are **non-defaults**. This reflects a realistic imbalance: most customers repay their loans. However, this imbalance means accuracy alone is misleading — we need to also look at precision, recall, and F1."
   ]
  },
  {
   "cell_type": "markdown",
   "id": "f7596a2d",
   "metadata": {},
   "source": [
    "# Section 2: Data Cleaning\n",
    "Now we fix issues found in EDA.\n",
    "\n",
    "Goals:\n",
    "- Handle missing values, duplicates, and outliers.\n",
    "- Standardize categories and check data consistency."
   ]
  },
  {
   "cell_type": "markdown",
   "id": "d47a1e37",
   "metadata": {},
   "source": [
    "### Step 2.1 – Handle Missing Values\n",
    "Choose a strategy:\n",
    "- Drop rows\n",
    "- Fill with mean/median/mode\n",
    "- Use domain knowledge (e.g., employment type → \"Unknown\")\n",
    "\n",
    "\n",
    "*Explanation*: Imputation choice depends on distribution. Median is safer with skewed data (like income), while mean works for symmetric data."
   ]
  },
  {
   "cell_type": "code",
   "execution_count": 15,
   "id": "6e63b223",
   "metadata": {},
   "outputs": [],
   "source": [
    "df['age'] = df['age'].fillna(df['age'].median())\n",
    "df['employment_type'] = df['employment_type'].fillna(\"Unknown\")"
   ]
  },
  {
   "cell_type": "code",
   "execution_count": 16,
   "id": "03f274e1",
   "metadata": {},
   "outputs": [],
   "source": [
    "df['income'] = df['income'].fillna(df['income'].median())"
   ]
  },
  {
   "cell_type": "markdown",
   "id": "f4cb81b0",
   "metadata": {},
   "source": [
    "### Step 2.2 – Remove Duplicates\n",
    "- Check duplicate rows\n",
    "- Drop if necessary\n",
    "\n",
    "*Explanation*: Duplicates usually arise from repeated entries. Always confirm before dropping, since some repeats may be legitimate."
   ]
  },
  {
   "cell_type": "code",
   "execution_count": 17,
   "id": "6113c392",
   "metadata": {},
   "outputs": [],
   "source": [
    "df = df.drop_duplicates()"
   ]
  },
  {
   "cell_type": "markdown",
   "id": "aa799e2e",
   "metadata": {},
   "source": [
    "### Step 2.3 – Standardize Categories\n",
    "- Fix inconsistent labels\n",
    "- Ensure uniform formatting (e.g., lowercase)\n",
    "\n",
    "\n",
    "*Explanation*: Standardizing categories avoids treating 'Self employed' and 'self-employed' as separate groups."
   ]
  },
  {
   "cell_type": "code",
   "execution_count": 18,
   "id": "b4cd925d",
   "metadata": {},
   "outputs": [
    {
     "data": {
      "text/plain": [
       "array(['salaried', 'self employed', 'unemployed', 'self-employed',\n",
       "       'unknown'], dtype=object)"
      ]
     },
     "execution_count": 18,
     "metadata": {},
     "output_type": "execute_result"
    }
   ],
   "source": [
    "df['employment_type'] = df['employment_type'].str.strip().str.lower()\n",
    "df['employment_type'].unique()"
   ]
  },
  {
   "cell_type": "code",
   "execution_count": 19,
   "id": "b47da08b",
   "metadata": {},
   "outputs": [
    {
     "data": {
      "text/plain": [
       "array(['salaried', 'self-employed', 'unemployed', 'unknown'], dtype=object)"
      ]
     },
     "execution_count": 19,
     "metadata": {},
     "output_type": "execute_result"
    }
   ],
   "source": [
    "df['employment_type'] = df['employment_type'].replace({\n",
    "    'self employed': 'self-employed',\n",
    "    'self-employed': 'self-employed',\n",
    "    'unemployed': 'unemployed',\n",
    "    'salaried': 'salaried',\n",
    "    'unknown': 'unknown'\n",
    "})\n",
    "df['employment_type'].unique()"
   ]
  },
  {
   "cell_type": "markdown",
   "id": "bbc258ad",
   "metadata": {},
   "source": [
    "### Step 2.4 – Treat Outliers\n",
    "- Cap extreme values\n",
    "- Or replace with thresholds\n",
    "\n",
    "*Explanation*: Outliers can heavily influence models. Options include capping, transformation (log), or removal."
   ]
  },
  {
   "cell_type": "code",
   "execution_count": 21,
   "id": "52b53bf5",
   "metadata": {},
   "outputs": [],
   "source": [
    "cap = df['monthly_balance'].quantile(0.99)\n",
    "df['monthly_balance'] = np.where(df['monthly_balance'] > cap, cap, df['monthly_balance'])"
   ]
  },
  {
   "cell_type": "markdown",
   "id": "ede885bc",
   "metadata": {},
   "source": [
    "### Step 2.5 – Validate Logic\n",
    "- Check impossible values (e.g., negative age)\n",
    "\n",
    "*Explanation*: Logical validation ensures business sense (e.g., age cannot be negative, balance should not exceed credit limit drastically)."
   ]
  },
  {
   "cell_type": "code",
   "execution_count": 22,
   "id": "535e896e",
   "metadata": {},
   "outputs": [],
   "source": [
    "df['age'] = np.where(df['age'] < 0, abs(df['age']), df['age'])"
   ]
  },
  {
   "cell_type": "markdown",
   "id": "a0ffc469",
   "metadata": {},
   "source": [
    "# Section 3: Feature Engineering\n",
    "We create new features that add business insight.\n",
    "\n",
    "Goals:\n",
    "- Encode categorical variables.\n",
    "- Build useful ratios (e.g., debt-to-income, credit utilization).\n",
    "- Group variables (e.g., age buckets)."
   ]
  },
  {
   "cell_type": "markdown",
   "id": "bb255114",
   "metadata": {},
   "source": [
    "### Step 3.1 – Encode Categorical Variables\n",
    "- Convert categories into numeric form (e.g., one-hot encoding)\n",
    "- Avoid implying order in non-ordinal categories\n",
    "\n",
    "*Explanation*: Encoding turns categories into numeric form. One-hot encoding avoids implying order in non-ordinal categories.\n"
   ]
  },
  {
   "cell_type": "code",
   "execution_count": 23,
   "id": "c97e36a0",
   "metadata": {},
   "outputs": [],
   "source": [
    "df = pd.get_dummies(df, columns=['education'], drop_first=True)\n",
    "\n",
    "df = pd.get_dummies(df, columns=['employment_type','gender'], drop_first=True)\n"
   ]
  },
  {
   "cell_type": "markdown",
   "id": "0e4d3b53",
   "metadata": {},
   "source": [
    "### Step 3.2 – Create Ratios\n",
    "- Debt-to-Income Ratio\n",
    "- Credit Utilization (%)\n",
    "\n",
    "*Explanation*: Ratios like debt-to-income capture relative financial health better than raw numbers.\n"
   ]
  },
  {
   "cell_type": "code",
   "execution_count": 24,
   "id": "b2c80d22",
   "metadata": {},
   "outputs": [],
   "source": [
    "df['debt_to_income'] = df['total_debt'] / (df['income']+1)\n",
    "\n",
    "df['credit_utilization'] = df['balance'] / (df['credit_limit']+1)\n"
   ]
  },
  {
   "cell_type": "markdown",
   "id": "5b4e02c3",
   "metadata": {},
   "source": [
    "### Step 3.3 – Group Continuous Variables\n",
    "- Age buckets\n",
    "- Income ranges\n",
    "\n",
    "*Explanation*: Bucketing continuous variables can reveal non-linear relationships (e.g., young borrowers may behave differently).  \n",
    "It also makes it easier to compare customers across categories (e.g., low-income vs high-income).\n"
   ]
  },
  {
   "cell_type": "code",
   "execution_count": 25,
   "id": "a2fa2201",
   "metadata": {},
   "outputs": [],
   "source": [
    "df['age_group'] = pd.cut(df['age'], bins=[18,30,50,100], labels=['Young','Mid','Senior'])\n",
    "\n",
    "df['alt_age_group'] = pd.cut(df['age'], bins=[18,25,40,60,100], labels=['18-25','26-40','41-60','60+'])\n",
    "\n",
    "df['income_group'] = pd.cut(df['income'], bins=[0,30000,60000,90000,200000], labels=['Low','Medium','High','Very High'])"
   ]
  },
  {
   "cell_type": "markdown",
   "id": "c9fa2b27",
   "metadata": {},
   "source": [
    "## 🔍 Feature Insights After Engineering\n",
    "\n",
    "Now that we created **debt-to-income ratio, credit utilization, age groups, and income groups**, we can visualize how these engineered features relate to default risk.\n",
    "\n",
    "The goal is to see whether these transformations reveal clearer patterns compared to the raw features."
   ]
  },
  {
   "cell_type": "code",
   "execution_count": 26,
   "id": "fe393d2c",
   "metadata": {},
   "outputs": [
    {
     "data": {
      "application/vnd.plotly.v1+json": {
       "config": {
        "plotlyServerURL": "https://plot.ly"
       },
       "data": [
        {
         "alignmentgroup": "True",
         "hovertemplate": "default=%{x}<br>debt_to_income=%{y}<extra></extra>",
         "legendgroup": "",
         "marker": {
          "color": "#636efa"
         },
         "name": "",
         "notched": false,
         "offsetgroup": "",
         "orientation": "v",
         "showlegend": false,
         "type": "box",
         "x": [
          0,
          1,
          0,
          0,
          0,
          0,
          0,
          1,
          0,
          1,
          0,
          1,
          1,
          0,
          0,
          0,
          0,
          0,
          0,
          0,
          0,
          0,
          0,
          0,
          0,
          1,
          0,
          0,
          0,
          0,
          0,
          0,
          0,
          1,
          1,
          0,
          0,
          0,
          0,
          0,
          0,
          0,
          0,
          1,
          0,
          0,
          0,
          0,
          0,
          0,
          1,
          1,
          1,
          1,
          0,
          1,
          0,
          0,
          0,
          0,
          0,
          0,
          1,
          0,
          0,
          0,
          0,
          1,
          0,
          1,
          0,
          0,
          0,
          1,
          0,
          1,
          0,
          0,
          0,
          0,
          1,
          0,
          0,
          0,
          0,
          0,
          0,
          0,
          1,
          0,
          0,
          0,
          1,
          0,
          1,
          0,
          0,
          0,
          0,
          0,
          0,
          0,
          0,
          0,
          1,
          0,
          0,
          0,
          0,
          0,
          0,
          0,
          1,
          1,
          0,
          1,
          1,
          0,
          1,
          0,
          1,
          1,
          0,
          0,
          0,
          0,
          1,
          1,
          0,
          0,
          0,
          0,
          0,
          0,
          1,
          0,
          0,
          0,
          0,
          1,
          1,
          0,
          0,
          0,
          0,
          0,
          0,
          0,
          0,
          0,
          1,
          0,
          0,
          0,
          1,
          0,
          0,
          0,
          0,
          0,
          0,
          0,
          0,
          0,
          0,
          0,
          0,
          0,
          0,
          0,
          0,
          0,
          0,
          0,
          0,
          0,
          0,
          0,
          1,
          0,
          0,
          0,
          1,
          1,
          0,
          0,
          1,
          0,
          0,
          0,
          0,
          1,
          1,
          0,
          0,
          0,
          1,
          1,
          1,
          0,
          0,
          0,
          0,
          1,
          0,
          0,
          0,
          0,
          0,
          0,
          0,
          0,
          0,
          0,
          0,
          0,
          0,
          0,
          0,
          1,
          0,
          0,
          0,
          0,
          0,
          0,
          1,
          0,
          1,
          0,
          1,
          0,
          0,
          0,
          0,
          1,
          0,
          0,
          0,
          0,
          1,
          1,
          1,
          0,
          0,
          1,
          0,
          1,
          1,
          1,
          0,
          0,
          1,
          0,
          0,
          0,
          1,
          0,
          0,
          0,
          0,
          1,
          0,
          0,
          1,
          0,
          0,
          0,
          0,
          0,
          0,
          1,
          1,
          1,
          0,
          0,
          1,
          0,
          0,
          1,
          0,
          0,
          0,
          0,
          0,
          0,
          0,
          0,
          0,
          0,
          0,
          0,
          1,
          0,
          0,
          0,
          0,
          0,
          0,
          0,
          0,
          0,
          0,
          0,
          0,
          1,
          0,
          0,
          1,
          0,
          0,
          0,
          0,
          1,
          1,
          0,
          0,
          0,
          0,
          0,
          0,
          0,
          0,
          0,
          1,
          0,
          0,
          0,
          0,
          0,
          0,
          1,
          0,
          0,
          0,
          0,
          1,
          0,
          0,
          0,
          0,
          0,
          0,
          0,
          0,
          0,
          0,
          0,
          0,
          0,
          0,
          1,
          0,
          0,
          0,
          0,
          0,
          0,
          1,
          0,
          0,
          0,
          0,
          0,
          1,
          0,
          1,
          1,
          0,
          0,
          0,
          0,
          0,
          0,
          0,
          0,
          1,
          0,
          1,
          0,
          0,
          0,
          0,
          1,
          0,
          1,
          0,
          0,
          0,
          1,
          1,
          0,
          0,
          0,
          0,
          1,
          1,
          0,
          1,
          0,
          0,
          1,
          0,
          1,
          0,
          1,
          0,
          0,
          1,
          0,
          0,
          1,
          1,
          0,
          0,
          0,
          0,
          0,
          0,
          0,
          1,
          1,
          0,
          0,
          0,
          0,
          0,
          1,
          0,
          0,
          0,
          0,
          0,
          0,
          0,
          0,
          0,
          1,
          0,
          0,
          0,
          1,
          0,
          0,
          0,
          1,
          1,
          0,
          0,
          0,
          1,
          0,
          0,
          1,
          0,
          0,
          0,
          0,
          0,
          0,
          0,
          0,
          1,
          0,
          1,
          0,
          0,
          1,
          0,
          1,
          0,
          1,
          0,
          1,
          0,
          1,
          0,
          0,
          1,
          0,
          0,
          0,
          0,
          0,
          0,
          1,
          0,
          0,
          1,
          1,
          0,
          0,
          0,
          0,
          0,
          0,
          0,
          0,
          1,
          1,
          0,
          0,
          0,
          1,
          0,
          0,
          0,
          1,
          1,
          0,
          0,
          0,
          1,
          1,
          0,
          0,
          0,
          1,
          1,
          0,
          0,
          0,
          1,
          0,
          1,
          0,
          0,
          0,
          0,
          1,
          0,
          1,
          1,
          0,
          0,
          1,
          1,
          0,
          0,
          0,
          1,
          0,
          0,
          0,
          0,
          0,
          0,
          0,
          0,
          1,
          0,
          1,
          0,
          0,
          1,
          0,
          0,
          0,
          1,
          0,
          0,
          0,
          0,
          0,
          0,
          0,
          0,
          0,
          1,
          0,
          0,
          1,
          0,
          0,
          1,
          1,
          0,
          1,
          0,
          0,
          0,
          1,
          0,
          0,
          0,
          0,
          0,
          0,
          0,
          0,
          0,
          0,
          0,
          0,
          1,
          0,
          0,
          0,
          0,
          0,
          0,
          0,
          0,
          0,
          0,
          0,
          0,
          0,
          0,
          0,
          0,
          1,
          0,
          0,
          1,
          1,
          0,
          0,
          1,
          1,
          0,
          0,
          0,
          0,
          0,
          0,
          0,
          0,
          0,
          0,
          0,
          1,
          0,
          0,
          0,
          0,
          0,
          0,
          0,
          0,
          0,
          0,
          0,
          0,
          0,
          1,
          0,
          0,
          0,
          0,
          0,
          0,
          0,
          0,
          0,
          0,
          0,
          0,
          0,
          0,
          0,
          1,
          0,
          0,
          0,
          0,
          0,
          0,
          0,
          0,
          0,
          1,
          0,
          0,
          0,
          1,
          0,
          0,
          1,
          1,
          1,
          0,
          0,
          0,
          1,
          0,
          0,
          0,
          0,
          0,
          0,
          0,
          0,
          0,
          0,
          0,
          0,
          0,
          0,
          0,
          0,
          0,
          0,
          0,
          0,
          1,
          0,
          1,
          0,
          0,
          0,
          0,
          0,
          0,
          0,
          1,
          1,
          1,
          0,
          0,
          1,
          0,
          0,
          1,
          0,
          1,
          0,
          0,
          0,
          0,
          0,
          1,
          0,
          0,
          0,
          1,
          0,
          1,
          0,
          0,
          0,
          0,
          1,
          0,
          0,
          1,
          0,
          0,
          1,
          0,
          0,
          1,
          0,
          0,
          0,
          1,
          0,
          0,
          1,
          1,
          0,
          0,
          0,
          0,
          0,
          0,
          0,
          1,
          0,
          0,
          0,
          1,
          0,
          0,
          0,
          0,
          0,
          0,
          0,
          0,
          0,
          0,
          0,
          0,
          0,
          1,
          0,
          0,
          0,
          1,
          0,
          0,
          0,
          0,
          0,
          1,
          1,
          0,
          0,
          1,
          0,
          0,
          0,
          0,
          0,
          0,
          1,
          1,
          0,
          0,
          1,
          0,
          0,
          1,
          1,
          0,
          0,
          0,
          0,
          0,
          0,
          0,
          0,
          0,
          0,
          1,
          0,
          0,
          0,
          0,
          0,
          0,
          0,
          0,
          0,
          0,
          1,
          0,
          0,
          0,
          0,
          0,
          0,
          1,
          0,
          0,
          0,
          1,
          0,
          0,
          0,
          1,
          0,
          1,
          0,
          0,
          0,
          0,
          0,
          0,
          0,
          0,
          0,
          0,
          0,
          0,
          0,
          0,
          1,
          1,
          0,
          0,
          0,
          0,
          0,
          0,
          0,
          0,
          0,
          0,
          0,
          0,
          0,
          0,
          1,
          0,
          0,
          0,
          0,
          0,
          0,
          1,
          1,
          0,
          0,
          0,
          0,
          1,
          0,
          0,
          0,
          0,
          0,
          0,
          0,
          1,
          1,
          0,
          0,
          0,
          0,
          0,
          0,
          0,
          0,
          0,
          0,
          1,
          1,
          0,
          1,
          0,
          1,
          0,
          0,
          0,
          0,
          0,
          0,
          0,
          0,
          0,
          1,
          0,
          0,
          0,
          0,
          1,
          0,
          0,
          0,
          0,
          0,
          1,
          0,
          0,
          0,
          0,
          1,
          0,
          0,
          0,
          0,
          1,
          0,
          0,
          0,
          0,
          0,
          1,
          0,
          0,
          0,
          0,
          0,
          0,
          0,
          0,
          0,
          0,
          0,
          1,
          0,
          0,
          0,
          0,
          0,
          0,
          0,
          0,
          0,
          1,
          0,
          0,
          0,
          0,
          0,
          0,
          0,
          0,
          1,
          0,
          0,
          0,
          0,
          0,
          1,
          0,
          1,
          0,
          0,
          0,
          1,
          0,
          1,
          0,
          0,
          1,
          0,
          0
         ],
         "x0": " ",
         "xaxis": "x",
         "y": [
          0.8439721000958647,
          0.7758952431854623,
          8.596406660823838,
          0.2511735645614251,
          0.06525162184291743,
          0.4693583051888241,
          0.014826021180030256,
          1.9318820224719102,
          -0.03582254064480573,
          3.3756032617740055,
          -0.08527896525265811,
          1.8951822182105382,
          1.782785280876884,
          1.4862431530567273,
          1.6637388376518811,
          4.492697398448197,
          1.1776377217553688,
          3.895085066162571,
          0.49426184713873056,
          0.4472758013871157,
          -0.10466481401673329,
          1.4042226094086296,
          4.054989270386266,
          0.844466536253728,
          1.196521533364884,
          0.25952931930314804,
          1.1847788023812302,
          3.403932497290602,
          1.7000619523851668,
          0.9413011792765337,
          1.897214936930186,
          0.8142119409295443,
          3.743181818181818,
          1.074584082733813,
          2.857074340527578,
          0.1837867142902701,
          0.21693276695473854,
          1.271178700278577,
          0.7082060352682639,
          1.0610094637223975,
          1.6967840735068913,
          2.2374951780892376,
          3.314146251611715,
          2.9819091199318932,
          0.8867889453463874,
          0.3973451327433628,
          0.36424494700253185,
          -1.7341876808598595,
          3.2353260869565217,
          2.5063151648724253,
          4.608862845632668,
          1.2945115737370796,
          2.6706279540850777,
          0.79201401473964,
          2.8543500776799586,
          1.3977864254308385,
          0.5326584384967411,
          6.347226055754899,
          1.2083402010878523,
          2.0315344186642736,
          0.7734406323386219,
          5.646299988272546,
          2.5234291799787005,
          2.1854625148388274,
          1.3982271468144045,
          1.4945868164999314,
          1.3892371110734654,
          1.1145076930889148,
          0.7791289143220473,
          4.721378129681147,
          0.7755426625747631,
          2.373364350101774,
          2.9776817130793205,
          1.404253624342839,
          2.471375932416644,
          5.802443991853361,
          0.525025025025025,
          3.0818822278346403,
          0.9466716740212187,
          0.29863689982087466,
          0.8460081922868846,
          0.5562631668159915,
          -0.9748677248677249,
          1.3712451169682547,
          1.4516311096060504,
          1.0072322886694145,
          0.5853164556962025,
          0.649851112278858,
          1.6670242437245226,
          1.4377764169558414,
          0.6465476378574815,
          -0.010972716488730723,
          2.5843489416292496,
          0.2179107932914909,
          3.5987974856518172,
          0.31422433561032126,
          2.857386981513127,
          0.08904800322710771,
          3.1148635936030105,
          1.38816355249785,
          0.8389813103306634,
          0.916978969181253,
          2.7250238694557765,
          4.455927051671733,
          0.6649697506271212,
          2.33290137771109,
          0.5851426799007444,
          1.7343274260285737,
          3.4200676675829986,
          1.0463733650416172,
          2.0200809464508094,
          0.9903083081677084,
          1.028580868990583,
          5.842120101494221,
          0.3313660477453581,
          0.7695846725909119,
          2.37963357477631,
          2.446262078318359,
          15.87950819672131,
          1.1280362081971336,
          2.523224852071006,
          1.634924500730638,
          0.5614626232372395,
          5.399951609000726,
          1.565407772304324,
          2.173124777817277,
          2.743793369313801,
          0.3837979236491458,
          1.5999294719210087,
          0.795862473712525,
          1.0948227524764813,
          0.2598723102388271,
          6.724107919930375,
          0.3794711671475436,
          0.61800346220427,
          -2.803431667670078,
          1.736045078358866,
          1.912998266897747,
          0.8073330301228002,
          0.6384751147193788,
          0.44603857803283914,
          2.9656491529393394,
          0.7754138565297364,
          3.653277378097522,
          2.0273482575582737,
          7.6536697247706424,
          1.2039920003137132,
          0.7195671776375113,
          3.735614000395491,
          0.742376784891755,
          0.9219387271175188,
          2.508745573559395,
          3.6263639784271917,
          0.6565335604546795,
          0.9235435181266751,
          1.9853214012877878,
          2.5649504523912108,
          0.8070665456322883,
          0.6465922839091276,
          -0.17463657759933546,
          0.5702722063037249,
          1.4873136076196425,
          0.8745215804039334,
          9.988869100623331,
          1.6521850242780476,
          0.6806005875312806,
          0.8103247358607831,
          0.6915011037527594,
          3.6042671166827387,
          0.6514415171556984,
          5.686473103758722,
          1.2843765817445587,
          0.29897249656760705,
          2.739353312302839,
          0.9835328609821646,
          6.3486943164362515,
          2.045728465083304,
          0.10799392699188065,
          0.9158485273492286,
          0.49190083808718926,
          1.8135918193438432,
          0.8658042855732201,
          1.5036000201399728,
          1.4558607437549451,
          0.1752213746310423,
          0.8624279082852722,
          1.3738783649052841,
          0.6751355234798511,
          2.6734065934065936,
          3.466193656093489,
          1.5126899696048632,
          1.0232424040807275,
          3.604688533887891,
          1.9095413689790275,
          2.004134412385644,
          1.1637910843937855,
          2.2244504435017354,
          0.5795617448289986,
          0.7956899257244482,
          4.564519249371251,
          3.8378044475820685,
          0.615690787896226,
          4.5133979475484605,
          2.9921211184921983,
          5.2069115409693545,
          2.5389792484576557,
          2.563822312436568,
          -0.1824836265570823,
          -0.4125173259409319,
          0.5478618780505573,
          1.457141512984569,
          0.13314734195842787,
          -0.8024209604204826,
          1.3195278419296894,
          0.15852245428595654,
          0.8456818815654923,
          0.7946106846310512,
          0.8618035803915007,
          1.6830143540669857,
          0.6956345588980046,
          1.7923104563420769,
          -1.6629694493092042,
          0.8448632668144863,
          0.9454722492697176,
          4.376506024096385,
          0.4909329034857949,
          3.0387748452264582,
          0.08046700623819607,
          13.923757658270933,
          1.3503826867247295,
          3.5948918717375093,
          3.3745276728161815,
          2.5601938539486726,
          0.23729428848015488,
          -0.1734454525337464,
          1.9986650741235157,
          4.332826417553769,
          1.7502753303964758,
          1.9977678571428572,
          4.145254153643691,
          2.866202400355608,
          2.803823870220162,
          0.7398920956838273,
          1.3353500432152117,
          0.20723461798512507,
          1.574908476485497,
          1.4178830254159436,
          3.951404228463238,
          -0.3387084270098457,
          0.3346793930494371,
          3.0258985200845667,
          0.8179163573372927,
          2.6344217271895025,
          4.265704772475027,
          0.3306839573311023,
          0.725084618277548,
          2.3895949839010338,
          3.1562573099415205,
          0.7974484170735548,
          0.7878578820282857,
          2.613768115942029,
          3.642218557416891,
          2.3710291040517406,
          2.8678576701609333,
          2.635670209118958,
          1.0286166302173003,
          1.802349294395954,
          -1.0782288698955365,
          0.8622380051723473,
          0.6880808813528585,
          0.44641761276465175,
          5.626684193230365,
          3.077741935483871,
          0.613086378920677,
          1.9904382470119522,
          3.022049744222967,
          1.6902486830822,
          1.1930437211901104,
          0.5160938497552671,
          2.5314720812182743,
          1.788430010149114,
          0.001210021175370569,
          1.053470806857691,
          1.7113980253549104,
          1.6210727304287451,
          1.3185066095033942,
          0.4040824040824041,
          1.1972417382253449,
          -0.04961133973479653,
          2.062235255783643,
          0.4589814966431963,
          0.8917846047635485,
          1.4696082160517308,
          1.0159009841419915,
          9.370650183150182,
          0.26865918097754293,
          0.7347551048885995,
          2.087264813254704,
          3.5113603681334484,
          1.7395973154362416,
          1.2040752595831057,
          1.5124212857241712,
          2.170532566338838,
          1.4816331172523598,
          3.6058645968089693,
          2.0671671276175423,
          0.5001939111886756,
          1.3986259661175735,
          5.517205781142464,
          0.08389523741926326,
          3.856734693877551,
          5.255066732575383,
          0.5157734315468631,
          0.6514865375276534,
          1.241259842519685,
          0.49519868842220316,
          0.5160219326927914,
          2.0233515455429982,
          0.4296526054590571,
          2.7113958192852325,
          1.1255443266781695,
          2.1141464169633184,
          1.4076040284175189,
          2.0482924226254,
          1.569038299178755,
          0.07023845707496339,
          1.2616061494892283,
          1.7527577584938963,
          0.6070297294202954,
          3.918524312345196,
          0.6811616831915059,
          1.4932448560653078,
          5.03246904928755,
          1.9016805761975535,
          1.5458661878366773,
          0.8116209262435677,
          1.624640532768276,
          0.9538223140495867,
          0.39975447438134004,
          2.409570668994524,
          0.16755750691991983,
          5.02686308492201,
          1.7670042032862057,
          1.5798734677738235,
          3.2234912238518874,
          -0.7151428088558391,
          1.594708810929721,
          1.5803693324710786,
          1.151839776432231,
          0.6628493123868252,
          0.09183784076743808,
          4.343571056741281,
          -0.14113980409617097,
          1.32061847578683,
          3.8365510044351683,
          0.889854248710974,
          6.240398293029872,
          3.3264789971409723,
          1.2714650042504958,
          0.44094745084391856,
          0.3342577376061353,
          0.6951747088186356,
          3.6881308736512355,
          1.6098434004474274,
          -0.027805515016514324,
          1.5775928494375095,
          1.3900444585582725,
          0.1383028201767367,
          1.8769615114372706,
          1.7507735946364105,
          1.061537728204395,
          1.0758120426242137,
          1.2086753731343283,
          6.630875804057397,
          1.5940587219343696,
          0.7489803721641601,
          1.9134308287107076,
          3.6340270669851016,
          0.7605549834697306,
          2.8142984685117782,
          1.144909528616914,
          1.914288405387586,
          1.216550586510264,
          2.8433303491495074,
          0.26908217604677875,
          2.1001011122345803,
          0.8909608401216998,
          1.2385012470274346,
          1.2627140086025133,
          2.0527540729247478,
          -0.2939175828521712,
          2.735331934763484,
          0.8631167268351384,
          1.0720231315166915,
          1.1677042169653007,
          1.2566264364497315,
          1.5438332368268675,
          1.003149246919215,
          4.444621768273221,
          0.5679908870852912,
          2.268128453038674,
          0.4680306905370844,
          0.8990279872632814,
          2.6092046830843763,
          1.597712833545108,
          1.1681441590720796,
          0.47711224238443223,
          1.1098335854765506,
          1.8740760295670538,
          0.46740395809080326,
          0.9606746482565761,
          1.988289498944135,
          5.051664753157291,
          2.224767520979814,
          1.466309025526145,
          0.9508759982665759,
          0.9714805825242718,
          0.6029215444649826,
          3.260521739130435,
          1.8393745557924663,
          1.7008392744337153,
          3.0294503845432375,
          6.220073439412484,
          2.9184170471841706,
          1.2821105334103602,
          2.702299651567944,
          0.4135008125082349,
          -0.4951774883165954,
          3.285650291175153,
          2.3034610630407912,
          2.6339077782952955,
          0.011910669975186104,
          1.5390573961735885,
          -0.31061468412066023,
          0.7973734027449124,
          0.4117965124138242,
          2.2619510839355197,
          3.8497124934657605,
          0.48117997198879553,
          1.8077965395038567,
          1.0828380557475237,
          0.7260162090846265,
          0.7869146985065688,
          5.926171875,
          0.3119475335044197,
          -0.3471971066907776,
          3.6447863807497134,
          0.7995997554060815,
          1.3317073170731708,
          3.7132231404958675,
          5.140774339867163,
          2.5335875623349957,
          0.6775550202115063,
          1.9607089640028232,
          0.26894763259160115,
          0.2576820094351651,
          1.9340609367894497,
          5.409081735620585,
          0.05206788597792058,
          0.24881478505423865,
          0.3923674268924024,
          2.4703529411764706,
          2.2971571441800167,
          1.521428882217291,
          0.8052434456928839,
          0.648816721368112,
          2.7867634047071315,
          1.3095170211552718,
          3.028359592215014,
          0.6459050629339053,
          1.836165577342048,
          1.4495652173913043,
          0.5534435941742779,
          3.203369434416366,
          6.946623093681917,
          9.513840830449826,
          1.0072984942426926,
          2.6609456503449436,
          1.2595582364942783,
          0.6069655321292365,
          0.696940796713374,
          1.6681156420340855,
          1.7051541386843596,
          2.7921637426900583,
          1.1433141394753679,
          2.5710930159724397,
          0.7758547612319865,
          2.1311777517172055,
          1.0521295474711623,
          3.095296724944595,
          1.9077609719811555,
          7.40994623655914,
          0.2598823983861968,
          2.3478127162297224,
          0.3852851128970532,
          0.5218959769852505,
          1.5634985106959112,
          3.843016255267911,
          2.5529152058174263,
          1.3220228384991843,
          2.0742073693230507,
          0.5731790882341086,
          2.0836768641064585,
          4.498314227916386,
          2.301719996156433,
          0.813802794909829,
          1.1012569287219924,
          0.6606232051776606,
          2.7232602478551002,
          3.509878782094111,
          0.5900246913580247,
          3.4884353741496597,
          -0.06975692016616625,
          0.9566662709248487,
          0.2631352826707776,
          0.4109954291518537,
          1.2286810268515787,
          1.1535593058277955,
          1.1183543114784895,
          1.2672560715807413,
          0.41632236200733486,
          2.036128336478835,
          5.896827157754604,
          0.5949761134227154,
          2.1144343302990896,
          3.8593966931717785,
          1.0252906976744185,
          1.4945240101095199,
          1.4224373487391677,
          0.8948061568853404,
          0.4042455360564028,
          9.555646147574398,
          1.6533830880799831,
          1.5715100527591614,
          1.6779849090102086,
          1.4295080442667163,
          1.3002083333333334,
          2.399317004239284,
          5.741289041343203,
          1.0258736010962837,
          0.8456756009947499,
          0.7838566039876343,
          2.295754716981132,
          0.5270815903386563,
          1.5112226404572704,
          7.115728436820488,
          2.4006911778823077,
          0.25496169322754453,
          1.1534320323014804,
          1.3827260732771745,
          0.6661457550713749,
          1.0425218139363401,
          0.42214163822525597,
          2.1884493670886074,
          0.8811972089607051,
          1.4785623266621692,
          0.1122474589032501,
          0.7104569865234573,
          3.244626967830253,
          0.8520887599327377,
          0.7148502182748758,
          0.564545190351642,
          4.673322993408298,
          2.9875021111298765,
          4.2836763034970335,
          2.512877245773962,
          5.465753424657534,
          0.49532844616932586,
          1.9536161122978333,
          0.5280738277972843,
          0.17125092575050377,
          2.6773681225184345,
          1.8728227459016393,
          1.1779788838612368,
          0.6502552626057766,
          2.1489656766439387,
          0.3257378984651712,
          2.0089617090612837,
          4.40625,
          -2.5324238128986534,
          2.417083298025591,
          0.7380314055917273,
          1.4104020264749142,
          0.5687941259531206,
          0.39744569988389544,
          2.079471818070669,
          3.689125295508274,
          3.7696404793608522,
          0.9340503398312047,
          0.7165766782174229,
          1.0101877991898858,
          8.058426492301201,
          0.2866282789507358,
          3.471799901912702,
          1.7889878542510123,
          1.053428778918975,
          3.795203654358584,
          1.1083685006768054,
          4.612270875763747,
          1.08793867120954,
          1.8746122347685816,
          2.63676603432701,
          1.3752678571428572,
          0.5010892059688488,
          1.6274210588097195,
          1.4525132275132275,
          3.54801393728223,
          -0.5786099865047234,
          0.9679739514992467,
          0.2933181101506008,
          0.8674456083803385,
          2.546580006190034,
          2.3925113613910294,
          3.199400734583414,
          1.7626716727596088,
          1.9127433743569708,
          14.459029435163087,
          14.876909254267744,
          0.4954699268638795,
          1.5025813113061435,
          2.46948216684077,
          3.7864313964101,
          2.9709135147091352,
          1.1647106028688936,
          0.57148384600503,
          -0.03150229539338294,
          1.5092081031307552,
          0.7366179747462243,
          1.7817646039174901,
          0.7406125399815975,
          1.7285714285714286,
          -1.510097367472052,
          2.248639455782313,
          1.0806755291835455,
          1.7589580252530999,
          1.8188119295162786,
          0.36908276662796485,
          2.1143489205889083,
          2.695264241592313,
          4.040009909575127,
          1.2873563218390804,
          1.2851201947459174,
          1.2656882384203425,
          2.736741141954412,
          0.3851362789910276,
          0.6334186217962617,
          2.2501650165016502,
          2.8985699693564864,
          0.5371537804530849,
          -0.30380167486375115,
          1.83853104051297,
          0.18247782225031015,
          -0.011530258597707278,
          -0.33733230656993474,
          0.5360115816141875,
          2.4739655973965595,
          1.9129919137466307,
          1.4495915137516575,
          2.2087939698492463,
          5.229645697758496,
          0.5803306890949058,
          3.9601047753374976,
          0.28193054738081225,
          1.3823093137637599,
          0.6133720930232558,
          0.8604186457889736,
          1.9116822429906541,
          0.44909697851579217,
          4.291111111111111,
          8.286597526924611,
          3.0083928571428573,
          1.799320305862362,
          0.9888610047109585,
          0.2761586350011529,
          0.7800828945894478,
          4.805991041433371,
          0.5893664228778043,
          0.39287550118227615,
          1.0118741857435325,
          2.1480876865671643,
          0.903605641298563,
          5.339889277389277,
          0.5073633782824698,
          4.244161801501251,
          1.2287130547577134,
          0.453494094488189,
          1.4396331553285349,
          0.8444762245262781,
          2.718840300520131,
          0.4001929012345679,
          0.6923531831739175,
          4.259188151398793,
          1.879408866995074,
          3.6049639711769417,
          1.8272548817026553,
          1.1113279725193224,
          6.272135887242501,
          0.46375209499696896,
          0.6703564466722362,
          2.9250438981562774,
          0.9384891245030015,
          0.34013671558622477,
          0.2028071454611739,
          0.7681401589953921,
          2.2927529299210714,
          1.5443404020930873,
          4.741044176706827,
          2.0105028644175684,
          0.6828853993658462,
          0.5974137931034482,
          2.946472590679657,
          1.3675874461949935,
          1.026008492569002,
          1.3560102754894146,
          0.4471429205700839,
          0.17597791948224992,
          1.1002352164403912,
          4.034272300469484,
          2.3436391743202694,
          1.0589067451335445,
          4.475108367266518,
          0.381256602444791,
          1.7761750210361822,
          2.0164507505654945,
          1.4947368421052631,
          3.1565810300742725,
          1.1004247157144815,
          0.9903357283919493,
          2.4790946992257297,
          0.5251170881841295,
          4.306476938174681,
          4.1634414225941425,
          1.4592421887560962,
          3.659792027729636,
          5.851527534539794,
          3.67308533916849,
          2.6276747503566336,
          0.7513841520131107,
          3.5589762611275964,
          -0.6767273778548714,
          0.9180613812865983,
          0.4115388804182095,
          3.7940648431724573,
          2.017484264162254,
          0.14592367346204366,
          0.5660996284254528,
          0.8652031930333817,
          0.8296380773488076,
          1.4419966009945238,
          2.1886932070445466,
          0.15912560539060855,
          0.7174603174603175,
          0.4956671090639394,
          4.2528337531486144,
          0.5356755492226878,
          2.0841753653444677,
          1.686552072800809,
          1.3757406563354604,
          1.8846998535871156,
          0.6132966168371361,
          0.8624430374642094,
          1.080525008868393,
          1.7015486393023604,
          1.7951394831422214,
          2.3452210049112203,
          1.2262306610407876,
          0.5071588752803174,
          1.0480231563712914,
          0.17314032496307238,
          0.6243436624316456,
          0.46464553101025974,
          8.508558091286307,
          0.18772771392800372,
          2.48257935060197,
          0.28520081262697294,
          3.186626865671642,
          0.6531644950741927,
          0.9858584187892822,
          1.6108619032361422,
          6.614231108497501,
          0.5357775300059028,
          0.9234184239733629,
          1.3294422258305174,
          3.6081795897303572,
          2.3668076109936576,
          2.880303456026974,
          2.91418814716898,
          4.734583821805392,
          -0.3947984715888081,
          1.6553242117787033,
          1.1872483624782164,
          3.842111577684463,
          0.5597351976736992,
          -0.31299374916877243,
          2.0725718443070207,
          4.198424331256871,
          0.1335780608939754,
          0.3559977695685509,
          5.7954905545399145,
          2.0541949563530553,
          8.191061787642472,
          1.3943370879404775,
          -0.12894473796944167,
          3.9767441860465116,
          1.6756521739130434,
          1.2018176355715788,
          1.6094416936998464,
          2.1260093896713617,
          0.4763351702116702,
          0.44416948334138096,
          1.1800360736662237,
          0.010663631957176877,
          -0.01886863230549929,
          2.4828680203045685,
          6.86473165388828,
          1.8856532712094738,
          0.16335188888288385,
          0.48705092924190446,
          1.6815409931274803,
          0.3196740764180049,
          0.8629799466155637,
          3.055293168989748,
          3.7862350861688023,
          1.8631380407874574,
          1.461738346502625,
          0.13463949843260187,
          0.7255019642077696,
          0.8991129153510751,
          3.74500892712222,
          0.6395357325352216,
          0.8695333368250144,
          0.09346066016192651,
          0.753412088542264,
          2.376243093922652,
          1.1898946824319958,
          0.2315213788531654,
          1.4896115627822946,
          3.61598689002185,
          1.9051037466810896,
          3.412821684178468,
          2.3871965185524506,
          3.326872770511296,
          1.3256098666908498,
          1.7608977926173253,
          1.9592268815735556,
          1.040276179516686,
          1.318019761637975,
          1.2363490490348765,
          0.03550390703265879,
          0.8387704392433473,
          1.7705202312138728,
          0.9318318318318318,
          0.8965351170568562,
          0.7396033620831731,
          0.4800321737381862,
          3.64140350877193,
          1.0311396098909538,
          5.208239910313901,
          6.910301178524661,
          3.5551341480545022,
          -0.09901650275045841,
          0.7248484250998176,
          1.903003837501654,
          7.138784912179672,
          -0.23992012902234852,
          2.2566722889175512,
          1.4041608876560332,
          0.4175183616368088,
          2.144012399757396,
          -6.512143928035982,
          0.8476893547910822,
          2.935589845694375,
          1.7165646148888172,
          2.0248420135105687,
          2.042889693070634,
          1.180172933842751,
          0.33896160896393257,
          1.0254223906521396,
          0.6812179146751638,
          0.861004915346805,
          -0.5347310358293469,
          0.44534155855937585,
          3.2902681992337164,
          1.0466746936751894,
          2.421328754709782,
          3.8387981263566777,
          0.15135849963933637,
          1.6461220878796816,
          1.499407519120974,
          0.6980450488737782,
          0.8269423558897243,
          1.7940547318728333,
          1.3521328958162429,
          3.831891542930923,
          1.282208326194963,
          8.25721977484092,
          0.2500871687587169,
          1.5768250732577398,
          0.5407670658805646,
          0.5824108710588595,
          2.3542265669925246,
          2.5712352186921215,
          5.856955035498291,
          3.7135812905043672,
          0.9702635914332784,
          0.9572094163805788,
          1.4946191620520322,
          2.2396131805157595,
          0.14712495479488671,
          1.3706866864109097,
          0.1506531204644412,
          0.6828870779976717,
          1.5786393994916956,
          8.213564668769717,
          0.37376812941613985,
          1.2184592482322292,
          0.32640800161106265,
          0.5313061371133684,
          6.9702161307327355,
          2.1073767542281394,
          0.8473200698867159,
          0.5867064042140283,
          1.6985993558534942,
          1.194557270511779,
          1.8279052553663953,
          1.1867661229879725,
          1.601847130149017,
          1.418644402077444,
          1.6712580348943986,
          1.9809191077667294,
          2.383717310087173,
          0.6749355937837613,
          8.498858737002282,
          5.307382333978079,
          0.7785664194487536,
          3.014909756735548,
          7.076859956236324,
          4.165568570034163,
          3.192824527071102,
          0.7111606719180033,
          0.7425098114291184,
          3.302109455671928,
          0.692232630757221,
          0.9543562066306862,
          1.554702013355425,
          -0.29524397776405187,
          5.051307703301415,
          0.5312473414663196,
          1.3827093994074873,
          0.6692366392126937,
          1.2775687224950572,
          1.1232871948250678,
          1.4410784171619075,
          0.3983664253934524,
          1.732306662202879,
          3.2006778451658935,
          1.7518714778366558,
          1.3718045518282818,
          3.528952076075699,
          2.947164323800291,
          0.8418732046228873,
          0.31861500885972893,
          1.3303939343992088,
          0.9339394636897227,
          2.2426669336269898,
          2.2915610030994644,
          0.3570020985821774,
          5.153592502603263,
          2.339197748064743,
          1.6276652452025586,
          1.1509217324743255,
          2.263983427049423,
          -1.33570987865908,
          3.5463304052139417,
          2.1446613088404134,
          0.6991711711711712,
          3.7494505494505495,
          0.9324771827800662,
          2.6635625123835944,
          1.4675983695200066,
          1.076868399675061,
          3.313011152416357,
          3.927913403961308,
          2.665560101906894,
          -6.153993721660272,
          1.3020084136246437,
          1.2628964463125716,
          -0.06652194138626144,
          1.4039893617021277,
          0.24746057468084265,
          1.1738299572634725,
          2.3306895792024673,
          0.25169845901052257,
          -0.0968578334431993,
          0.7192180073536005,
          3.0469656992084433,
          2.957449560269012,
          2.09676324128565,
          2.0732357933877616,
          2.805973605001158,
          0.8328,
          0.49189549685388695,
          0.6820437578216028,
          0.2178378489411088,
          0.8911131682480907,
          0.9469746024893877,
          2.3963009516968934,
          1.2368278909894426,
          2.478751311647429,
          3.4256796690307327
         ],
         "y0": " ",
         "yaxis": "y"
        }
       ],
       "layout": {
        "boxmode": "group",
        "legend": {
         "tracegroupgap": 0
        },
        "template": {
         "data": {
          "bar": [
           {
            "error_x": {
             "color": "#2a3f5f"
            },
            "error_y": {
             "color": "#2a3f5f"
            },
            "marker": {
             "line": {
              "color": "#E5ECF6",
              "width": 0.5
             },
             "pattern": {
              "fillmode": "overlay",
              "size": 10,
              "solidity": 0.2
             }
            },
            "type": "bar"
           }
          ],
          "barpolar": [
           {
            "marker": {
             "line": {
              "color": "#E5ECF6",
              "width": 0.5
             },
             "pattern": {
              "fillmode": "overlay",
              "size": 10,
              "solidity": 0.2
             }
            },
            "type": "barpolar"
           }
          ],
          "carpet": [
           {
            "aaxis": {
             "endlinecolor": "#2a3f5f",
             "gridcolor": "white",
             "linecolor": "white",
             "minorgridcolor": "white",
             "startlinecolor": "#2a3f5f"
            },
            "baxis": {
             "endlinecolor": "#2a3f5f",
             "gridcolor": "white",
             "linecolor": "white",
             "minorgridcolor": "white",
             "startlinecolor": "#2a3f5f"
            },
            "type": "carpet"
           }
          ],
          "choropleth": [
           {
            "colorbar": {
             "outlinewidth": 0,
             "ticks": ""
            },
            "type": "choropleth"
           }
          ],
          "contour": [
           {
            "colorbar": {
             "outlinewidth": 0,
             "ticks": ""
            },
            "colorscale": [
             [
              0,
              "#0d0887"
             ],
             [
              0.1111111111111111,
              "#46039f"
             ],
             [
              0.2222222222222222,
              "#7201a8"
             ],
             [
              0.3333333333333333,
              "#9c179e"
             ],
             [
              0.4444444444444444,
              "#bd3786"
             ],
             [
              0.5555555555555556,
              "#d8576b"
             ],
             [
              0.6666666666666666,
              "#ed7953"
             ],
             [
              0.7777777777777778,
              "#fb9f3a"
             ],
             [
              0.8888888888888888,
              "#fdca26"
             ],
             [
              1,
              "#f0f921"
             ]
            ],
            "type": "contour"
           }
          ],
          "contourcarpet": [
           {
            "colorbar": {
             "outlinewidth": 0,
             "ticks": ""
            },
            "type": "contourcarpet"
           }
          ],
          "heatmap": [
           {
            "colorbar": {
             "outlinewidth": 0,
             "ticks": ""
            },
            "colorscale": [
             [
              0,
              "#0d0887"
             ],
             [
              0.1111111111111111,
              "#46039f"
             ],
             [
              0.2222222222222222,
              "#7201a8"
             ],
             [
              0.3333333333333333,
              "#9c179e"
             ],
             [
              0.4444444444444444,
              "#bd3786"
             ],
             [
              0.5555555555555556,
              "#d8576b"
             ],
             [
              0.6666666666666666,
              "#ed7953"
             ],
             [
              0.7777777777777778,
              "#fb9f3a"
             ],
             [
              0.8888888888888888,
              "#fdca26"
             ],
             [
              1,
              "#f0f921"
             ]
            ],
            "type": "heatmap"
           }
          ],
          "heatmapgl": [
           {
            "colorbar": {
             "outlinewidth": 0,
             "ticks": ""
            },
            "colorscale": [
             [
              0,
              "#0d0887"
             ],
             [
              0.1111111111111111,
              "#46039f"
             ],
             [
              0.2222222222222222,
              "#7201a8"
             ],
             [
              0.3333333333333333,
              "#9c179e"
             ],
             [
              0.4444444444444444,
              "#bd3786"
             ],
             [
              0.5555555555555556,
              "#d8576b"
             ],
             [
              0.6666666666666666,
              "#ed7953"
             ],
             [
              0.7777777777777778,
              "#fb9f3a"
             ],
             [
              0.8888888888888888,
              "#fdca26"
             ],
             [
              1,
              "#f0f921"
             ]
            ],
            "type": "heatmapgl"
           }
          ],
          "histogram": [
           {
            "marker": {
             "pattern": {
              "fillmode": "overlay",
              "size": 10,
              "solidity": 0.2
             }
            },
            "type": "histogram"
           }
          ],
          "histogram2d": [
           {
            "colorbar": {
             "outlinewidth": 0,
             "ticks": ""
            },
            "colorscale": [
             [
              0,
              "#0d0887"
             ],
             [
              0.1111111111111111,
              "#46039f"
             ],
             [
              0.2222222222222222,
              "#7201a8"
             ],
             [
              0.3333333333333333,
              "#9c179e"
             ],
             [
              0.4444444444444444,
              "#bd3786"
             ],
             [
              0.5555555555555556,
              "#d8576b"
             ],
             [
              0.6666666666666666,
              "#ed7953"
             ],
             [
              0.7777777777777778,
              "#fb9f3a"
             ],
             [
              0.8888888888888888,
              "#fdca26"
             ],
             [
              1,
              "#f0f921"
             ]
            ],
            "type": "histogram2d"
           }
          ],
          "histogram2dcontour": [
           {
            "colorbar": {
             "outlinewidth": 0,
             "ticks": ""
            },
            "colorscale": [
             [
              0,
              "#0d0887"
             ],
             [
              0.1111111111111111,
              "#46039f"
             ],
             [
              0.2222222222222222,
              "#7201a8"
             ],
             [
              0.3333333333333333,
              "#9c179e"
             ],
             [
              0.4444444444444444,
              "#bd3786"
             ],
             [
              0.5555555555555556,
              "#d8576b"
             ],
             [
              0.6666666666666666,
              "#ed7953"
             ],
             [
              0.7777777777777778,
              "#fb9f3a"
             ],
             [
              0.8888888888888888,
              "#fdca26"
             ],
             [
              1,
              "#f0f921"
             ]
            ],
            "type": "histogram2dcontour"
           }
          ],
          "mesh3d": [
           {
            "colorbar": {
             "outlinewidth": 0,
             "ticks": ""
            },
            "type": "mesh3d"
           }
          ],
          "parcoords": [
           {
            "line": {
             "colorbar": {
              "outlinewidth": 0,
              "ticks": ""
             }
            },
            "type": "parcoords"
           }
          ],
          "pie": [
           {
            "automargin": true,
            "type": "pie"
           }
          ],
          "scatter": [
           {
            "fillpattern": {
             "fillmode": "overlay",
             "size": 10,
             "solidity": 0.2
            },
            "type": "scatter"
           }
          ],
          "scatter3d": [
           {
            "line": {
             "colorbar": {
              "outlinewidth": 0,
              "ticks": ""
             }
            },
            "marker": {
             "colorbar": {
              "outlinewidth": 0,
              "ticks": ""
             }
            },
            "type": "scatter3d"
           }
          ],
          "scattercarpet": [
           {
            "marker": {
             "colorbar": {
              "outlinewidth": 0,
              "ticks": ""
             }
            },
            "type": "scattercarpet"
           }
          ],
          "scattergeo": [
           {
            "marker": {
             "colorbar": {
              "outlinewidth": 0,
              "ticks": ""
             }
            },
            "type": "scattergeo"
           }
          ],
          "scattergl": [
           {
            "marker": {
             "colorbar": {
              "outlinewidth": 0,
              "ticks": ""
             }
            },
            "type": "scattergl"
           }
          ],
          "scattermapbox": [
           {
            "marker": {
             "colorbar": {
              "outlinewidth": 0,
              "ticks": ""
             }
            },
            "type": "scattermapbox"
           }
          ],
          "scatterpolar": [
           {
            "marker": {
             "colorbar": {
              "outlinewidth": 0,
              "ticks": ""
             }
            },
            "type": "scatterpolar"
           }
          ],
          "scatterpolargl": [
           {
            "marker": {
             "colorbar": {
              "outlinewidth": 0,
              "ticks": ""
             }
            },
            "type": "scatterpolargl"
           }
          ],
          "scatterternary": [
           {
            "marker": {
             "colorbar": {
              "outlinewidth": 0,
              "ticks": ""
             }
            },
            "type": "scatterternary"
           }
          ],
          "surface": [
           {
            "colorbar": {
             "outlinewidth": 0,
             "ticks": ""
            },
            "colorscale": [
             [
              0,
              "#0d0887"
             ],
             [
              0.1111111111111111,
              "#46039f"
             ],
             [
              0.2222222222222222,
              "#7201a8"
             ],
             [
              0.3333333333333333,
              "#9c179e"
             ],
             [
              0.4444444444444444,
              "#bd3786"
             ],
             [
              0.5555555555555556,
              "#d8576b"
             ],
             [
              0.6666666666666666,
              "#ed7953"
             ],
             [
              0.7777777777777778,
              "#fb9f3a"
             ],
             [
              0.8888888888888888,
              "#fdca26"
             ],
             [
              1,
              "#f0f921"
             ]
            ],
            "type": "surface"
           }
          ],
          "table": [
           {
            "cells": {
             "fill": {
              "color": "#EBF0F8"
             },
             "line": {
              "color": "white"
             }
            },
            "header": {
             "fill": {
              "color": "#C8D4E3"
             },
             "line": {
              "color": "white"
             }
            },
            "type": "table"
           }
          ]
         },
         "layout": {
          "annotationdefaults": {
           "arrowcolor": "#2a3f5f",
           "arrowhead": 0,
           "arrowwidth": 1
          },
          "autotypenumbers": "strict",
          "coloraxis": {
           "colorbar": {
            "outlinewidth": 0,
            "ticks": ""
           }
          },
          "colorscale": {
           "diverging": [
            [
             0,
             "#8e0152"
            ],
            [
             0.1,
             "#c51b7d"
            ],
            [
             0.2,
             "#de77ae"
            ],
            [
             0.3,
             "#f1b6da"
            ],
            [
             0.4,
             "#fde0ef"
            ],
            [
             0.5,
             "#f7f7f7"
            ],
            [
             0.6,
             "#e6f5d0"
            ],
            [
             0.7,
             "#b8e186"
            ],
            [
             0.8,
             "#7fbc41"
            ],
            [
             0.9,
             "#4d9221"
            ],
            [
             1,
             "#276419"
            ]
           ],
           "sequential": [
            [
             0,
             "#0d0887"
            ],
            [
             0.1111111111111111,
             "#46039f"
            ],
            [
             0.2222222222222222,
             "#7201a8"
            ],
            [
             0.3333333333333333,
             "#9c179e"
            ],
            [
             0.4444444444444444,
             "#bd3786"
            ],
            [
             0.5555555555555556,
             "#d8576b"
            ],
            [
             0.6666666666666666,
             "#ed7953"
            ],
            [
             0.7777777777777778,
             "#fb9f3a"
            ],
            [
             0.8888888888888888,
             "#fdca26"
            ],
            [
             1,
             "#f0f921"
            ]
           ],
           "sequentialminus": [
            [
             0,
             "#0d0887"
            ],
            [
             0.1111111111111111,
             "#46039f"
            ],
            [
             0.2222222222222222,
             "#7201a8"
            ],
            [
             0.3333333333333333,
             "#9c179e"
            ],
            [
             0.4444444444444444,
             "#bd3786"
            ],
            [
             0.5555555555555556,
             "#d8576b"
            ],
            [
             0.6666666666666666,
             "#ed7953"
            ],
            [
             0.7777777777777778,
             "#fb9f3a"
            ],
            [
             0.8888888888888888,
             "#fdca26"
            ],
            [
             1,
             "#f0f921"
            ]
           ]
          },
          "colorway": [
           "#636efa",
           "#EF553B",
           "#00cc96",
           "#ab63fa",
           "#FFA15A",
           "#19d3f3",
           "#FF6692",
           "#B6E880",
           "#FF97FF",
           "#FECB52"
          ],
          "font": {
           "color": "#2a3f5f"
          },
          "geo": {
           "bgcolor": "white",
           "lakecolor": "white",
           "landcolor": "#E5ECF6",
           "showlakes": true,
           "showland": true,
           "subunitcolor": "white"
          },
          "hoverlabel": {
           "align": "left"
          },
          "hovermode": "closest",
          "mapbox": {
           "style": "light"
          },
          "paper_bgcolor": "white",
          "plot_bgcolor": "#E5ECF6",
          "polar": {
           "angularaxis": {
            "gridcolor": "white",
            "linecolor": "white",
            "ticks": ""
           },
           "bgcolor": "#E5ECF6",
           "radialaxis": {
            "gridcolor": "white",
            "linecolor": "white",
            "ticks": ""
           }
          },
          "scene": {
           "xaxis": {
            "backgroundcolor": "#E5ECF6",
            "gridcolor": "white",
            "gridwidth": 2,
            "linecolor": "white",
            "showbackground": true,
            "ticks": "",
            "zerolinecolor": "white"
           },
           "yaxis": {
            "backgroundcolor": "#E5ECF6",
            "gridcolor": "white",
            "gridwidth": 2,
            "linecolor": "white",
            "showbackground": true,
            "ticks": "",
            "zerolinecolor": "white"
           },
           "zaxis": {
            "backgroundcolor": "#E5ECF6",
            "gridcolor": "white",
            "gridwidth": 2,
            "linecolor": "white",
            "showbackground": true,
            "ticks": "",
            "zerolinecolor": "white"
           }
          },
          "shapedefaults": {
           "line": {
            "color": "#2a3f5f"
           }
          },
          "ternary": {
           "aaxis": {
            "gridcolor": "white",
            "linecolor": "white",
            "ticks": ""
           },
           "baxis": {
            "gridcolor": "white",
            "linecolor": "white",
            "ticks": ""
           },
           "bgcolor": "#E5ECF6",
           "caxis": {
            "gridcolor": "white",
            "linecolor": "white",
            "ticks": ""
           }
          },
          "title": {
           "x": 0.05
          },
          "xaxis": {
           "automargin": true,
           "gridcolor": "white",
           "linecolor": "white",
           "ticks": "",
           "title": {
            "standoff": 15
           },
           "zerolinecolor": "white",
           "zerolinewidth": 2
          },
          "yaxis": {
           "automargin": true,
           "gridcolor": "white",
           "linecolor": "white",
           "ticks": "",
           "title": {
            "standoff": 15
           },
           "zerolinecolor": "white",
           "zerolinewidth": 2
          }
         }
        },
        "title": {
         "text": "Debt-to-Income Ratio vs Default"
        },
        "xaxis": {
         "anchor": "y",
         "domain": [
          0,
          1
         ],
         "title": {
          "text": "default"
         }
        },
        "yaxis": {
         "anchor": "x",
         "domain": [
          0,
          1
         ],
         "title": {
          "text": "debt_to_income"
         }
        }
       }
      }
     },
     "metadata": {},
     "output_type": "display_data"
    },
    {
     "data": {
      "application/vnd.plotly.v1+json": {
       "config": {
        "plotlyServerURL": "https://plot.ly"
       },
       "data": [
        {
         "alignmentgroup": "True",
         "hovertemplate": "default=%{x}<br>credit_utilization=%{y}<extra></extra>",
         "legendgroup": "",
         "marker": {
          "color": "#636efa"
         },
         "name": "",
         "notched": false,
         "offsetgroup": "",
         "orientation": "v",
         "showlegend": false,
         "type": "box",
         "x": [
          0,
          1,
          0,
          0,
          0,
          0,
          0,
          1,
          0,
          1,
          0,
          1,
          1,
          0,
          0,
          0,
          0,
          0,
          0,
          0,
          0,
          0,
          0,
          0,
          0,
          1,
          0,
          0,
          0,
          0,
          0,
          0,
          0,
          1,
          1,
          0,
          0,
          0,
          0,
          0,
          0,
          0,
          0,
          1,
          0,
          0,
          0,
          0,
          0,
          0,
          1,
          1,
          1,
          1,
          0,
          1,
          0,
          0,
          0,
          0,
          0,
          0,
          1,
          0,
          0,
          0,
          0,
          1,
          0,
          1,
          0,
          0,
          0,
          1,
          0,
          1,
          0,
          0,
          0,
          0,
          1,
          0,
          0,
          0,
          0,
          0,
          0,
          0,
          1,
          0,
          0,
          0,
          1,
          0,
          1,
          0,
          0,
          0,
          0,
          0,
          0,
          0,
          0,
          0,
          1,
          0,
          0,
          0,
          0,
          0,
          0,
          0,
          1,
          1,
          0,
          1,
          1,
          0,
          1,
          0,
          1,
          1,
          0,
          0,
          0,
          0,
          1,
          1,
          0,
          0,
          0,
          0,
          0,
          0,
          1,
          0,
          0,
          0,
          0,
          1,
          1,
          0,
          0,
          0,
          0,
          0,
          0,
          0,
          0,
          0,
          1,
          0,
          0,
          0,
          1,
          0,
          0,
          0,
          0,
          0,
          0,
          0,
          0,
          0,
          0,
          0,
          0,
          0,
          0,
          0,
          0,
          0,
          0,
          0,
          0,
          0,
          0,
          0,
          1,
          0,
          0,
          0,
          1,
          1,
          0,
          0,
          1,
          0,
          0,
          0,
          0,
          1,
          1,
          0,
          0,
          0,
          1,
          1,
          1,
          0,
          0,
          0,
          0,
          1,
          0,
          0,
          0,
          0,
          0,
          0,
          0,
          0,
          0,
          0,
          0,
          0,
          0,
          0,
          0,
          1,
          0,
          0,
          0,
          0,
          0,
          0,
          1,
          0,
          1,
          0,
          1,
          0,
          0,
          0,
          0,
          1,
          0,
          0,
          0,
          0,
          1,
          1,
          1,
          0,
          0,
          1,
          0,
          1,
          1,
          1,
          0,
          0,
          1,
          0,
          0,
          0,
          1,
          0,
          0,
          0,
          0,
          1,
          0,
          0,
          1,
          0,
          0,
          0,
          0,
          0,
          0,
          1,
          1,
          1,
          0,
          0,
          1,
          0,
          0,
          1,
          0,
          0,
          0,
          0,
          0,
          0,
          0,
          0,
          0,
          0,
          0,
          0,
          1,
          0,
          0,
          0,
          0,
          0,
          0,
          0,
          0,
          0,
          0,
          0,
          0,
          1,
          0,
          0,
          1,
          0,
          0,
          0,
          0,
          1,
          1,
          0,
          0,
          0,
          0,
          0,
          0,
          0,
          0,
          0,
          1,
          0,
          0,
          0,
          0,
          0,
          0,
          1,
          0,
          0,
          0,
          0,
          1,
          0,
          0,
          0,
          0,
          0,
          0,
          0,
          0,
          0,
          0,
          0,
          0,
          0,
          0,
          1,
          0,
          0,
          0,
          0,
          0,
          0,
          1,
          0,
          0,
          0,
          0,
          0,
          1,
          0,
          1,
          1,
          0,
          0,
          0,
          0,
          0,
          0,
          0,
          0,
          1,
          0,
          1,
          0,
          0,
          0,
          0,
          1,
          0,
          1,
          0,
          0,
          0,
          1,
          1,
          0,
          0,
          0,
          0,
          1,
          1,
          0,
          1,
          0,
          0,
          1,
          0,
          1,
          0,
          1,
          0,
          0,
          1,
          0,
          0,
          1,
          1,
          0,
          0,
          0,
          0,
          0,
          0,
          0,
          1,
          1,
          0,
          0,
          0,
          0,
          0,
          1,
          0,
          0,
          0,
          0,
          0,
          0,
          0,
          0,
          0,
          1,
          0,
          0,
          0,
          1,
          0,
          0,
          0,
          1,
          1,
          0,
          0,
          0,
          1,
          0,
          0,
          1,
          0,
          0,
          0,
          0,
          0,
          0,
          0,
          0,
          1,
          0,
          1,
          0,
          0,
          1,
          0,
          1,
          0,
          1,
          0,
          1,
          0,
          1,
          0,
          0,
          1,
          0,
          0,
          0,
          0,
          0,
          0,
          1,
          0,
          0,
          1,
          1,
          0,
          0,
          0,
          0,
          0,
          0,
          0,
          0,
          1,
          1,
          0,
          0,
          0,
          1,
          0,
          0,
          0,
          1,
          1,
          0,
          0,
          0,
          1,
          1,
          0,
          0,
          0,
          1,
          1,
          0,
          0,
          0,
          1,
          0,
          1,
          0,
          0,
          0,
          0,
          1,
          0,
          1,
          1,
          0,
          0,
          1,
          1,
          0,
          0,
          0,
          1,
          0,
          0,
          0,
          0,
          0,
          0,
          0,
          0,
          1,
          0,
          1,
          0,
          0,
          1,
          0,
          0,
          0,
          1,
          0,
          0,
          0,
          0,
          0,
          0,
          0,
          0,
          0,
          1,
          0,
          0,
          1,
          0,
          0,
          1,
          1,
          0,
          1,
          0,
          0,
          0,
          1,
          0,
          0,
          0,
          0,
          0,
          0,
          0,
          0,
          0,
          0,
          0,
          0,
          1,
          0,
          0,
          0,
          0,
          0,
          0,
          0,
          0,
          0,
          0,
          0,
          0,
          0,
          0,
          0,
          0,
          1,
          0,
          0,
          1,
          1,
          0,
          0,
          1,
          1,
          0,
          0,
          0,
          0,
          0,
          0,
          0,
          0,
          0,
          0,
          0,
          1,
          0,
          0,
          0,
          0,
          0,
          0,
          0,
          0,
          0,
          0,
          0,
          0,
          0,
          1,
          0,
          0,
          0,
          0,
          0,
          0,
          0,
          0,
          0,
          0,
          0,
          0,
          0,
          0,
          0,
          1,
          0,
          0,
          0,
          0,
          0,
          0,
          0,
          0,
          0,
          1,
          0,
          0,
          0,
          1,
          0,
          0,
          1,
          1,
          1,
          0,
          0,
          0,
          1,
          0,
          0,
          0,
          0,
          0,
          0,
          0,
          0,
          0,
          0,
          0,
          0,
          0,
          0,
          0,
          0,
          0,
          0,
          0,
          0,
          1,
          0,
          1,
          0,
          0,
          0,
          0,
          0,
          0,
          0,
          1,
          1,
          1,
          0,
          0,
          1,
          0,
          0,
          1,
          0,
          1,
          0,
          0,
          0,
          0,
          0,
          1,
          0,
          0,
          0,
          1,
          0,
          1,
          0,
          0,
          0,
          0,
          1,
          0,
          0,
          1,
          0,
          0,
          1,
          0,
          0,
          1,
          0,
          0,
          0,
          1,
          0,
          0,
          1,
          1,
          0,
          0,
          0,
          0,
          0,
          0,
          0,
          1,
          0,
          0,
          0,
          1,
          0,
          0,
          0,
          0,
          0,
          0,
          0,
          0,
          0,
          0,
          0,
          0,
          0,
          1,
          0,
          0,
          0,
          1,
          0,
          0,
          0,
          0,
          0,
          1,
          1,
          0,
          0,
          1,
          0,
          0,
          0,
          0,
          0,
          0,
          1,
          1,
          0,
          0,
          1,
          0,
          0,
          1,
          1,
          0,
          0,
          0,
          0,
          0,
          0,
          0,
          0,
          0,
          0,
          1,
          0,
          0,
          0,
          0,
          0,
          0,
          0,
          0,
          0,
          0,
          1,
          0,
          0,
          0,
          0,
          0,
          0,
          1,
          0,
          0,
          0,
          1,
          0,
          0,
          0,
          1,
          0,
          1,
          0,
          0,
          0,
          0,
          0,
          0,
          0,
          0,
          0,
          0,
          0,
          0,
          0,
          0,
          1,
          1,
          0,
          0,
          0,
          0,
          0,
          0,
          0,
          0,
          0,
          0,
          0,
          0,
          0,
          0,
          1,
          0,
          0,
          0,
          0,
          0,
          0,
          1,
          1,
          0,
          0,
          0,
          0,
          1,
          0,
          0,
          0,
          0,
          0,
          0,
          0,
          1,
          1,
          0,
          0,
          0,
          0,
          0,
          0,
          0,
          0,
          0,
          0,
          1,
          1,
          0,
          1,
          0,
          1,
          0,
          0,
          0,
          0,
          0,
          0,
          0,
          0,
          0,
          1,
          0,
          0,
          0,
          0,
          1,
          0,
          0,
          0,
          0,
          0,
          1,
          0,
          0,
          0,
          0,
          1,
          0,
          0,
          0,
          0,
          1,
          0,
          0,
          0,
          0,
          0,
          1,
          0,
          0,
          0,
          0,
          0,
          0,
          0,
          0,
          0,
          0,
          0,
          1,
          0,
          0,
          0,
          0,
          0,
          0,
          0,
          0,
          0,
          1,
          0,
          0,
          0,
          0,
          0,
          0,
          0,
          0,
          1,
          0,
          0,
          0,
          0,
          0,
          1,
          0,
          1,
          0,
          0,
          0,
          1,
          0,
          1,
          0,
          0,
          1,
          0,
          0
         ],
         "x0": " ",
         "xaxis": "x",
         "y": [
          0.8704247406537483,
          0.6786042240587695,
          0.6224872231686541,
          1.7377542138165705,
          -0.02721237724255226,
          0.7967218955995011,
          1.0459438464099433,
          0.7084966598575608,
          0.33262312952135564,
          0.608584440701229,
          0.6185891586055849,
          3.3217255717255716,
          0.7884097035040432,
          0.7217696453189623,
          0.9476911976911977,
          0.6894337940258582,
          0.10922122379118528,
          0.7127977460940835,
          0.9962088072324293,
          0.1811916296259302,
          1.1658253021263576,
          2.2668124658283215,
          0.2897303237031271,
          0.9312487472439367,
          1.228222282905516,
          0.7730203619909503,
          0.6200148166440301,
          0.4085597700083465,
          0.5808671328671329,
          0.756737516525984,
          -0.018630664006839555,
          1.2500773179934435,
          0.76338906205724,
          0.5768860662047729,
          0.5885918651876099,
          0.3635318464014716,
          0.302797623021967,
          0.1500374531835206,
          1.6331907744004888,
          0.2437579617834395,
          0.22585160989267383,
          1.30816977017279,
          5.126286248830683,
          0.8775047917755706,
          0.7348470271310371,
          1.306697719241889,
          0.7579794615598112,
          1.3144159072079535,
          2.1083850931677017,
          1.4251151326457807,
          1.0371233148295005,
          1.3591388946387912,
          0.9094970384499548,
          0.5986233922829582,
          0.6028950542822678,
          0.06893460624803908,
          0.32424768723638037,
          0.46136504975124376,
          0.9030527525865373,
          1.2282034874420094,
          -0.02478017585931255,
          0.40867013802793617,
          2.2523809523809524,
          0.9219035997559487,
          0.5865285419532325,
          0.5565550873538184,
          0.9131180783029169,
          0.42942316291548666,
          0.22976302205537305,
          0.18298475127072744,
          0.8768772656654583,
          0.47730925593268414,
          0.3016562408841928,
          0.42390661143687125,
          0.5540010460251046,
          0.7878975950349107,
          0.6497775001951752,
          0.11231587561374795,
          0.853056401965052,
          0.6716306218663474,
          1.0170238333667134,
          0.8356653076352853,
          0.48985349435755293,
          0.9524800266311585,
          0.22238474456904492,
          1.4962178517397882,
          0.8098696461824954,
          0.1254727098267201,
          0.4359055617176359,
          1.0122397841171935,
          1.3923601637107776,
          1.5771707519734108,
          1.671966766938834,
          0.7554300608166812,
          0.20714638564136342,
          0.6310719773076469,
          0.46676818344679327,
          0.29441913439635536,
          1.0243243243243243,
          1.6630518381787418,
          0.7546049627036079,
          2.1919845992299614,
          0.6283612685397323,
          0.43583141347065996,
          0.04601242746366764,
          0.4158205886132888,
          0.21677124928693667,
          1.8950168832497698,
          0.6106395386509428,
          0.42563046834791557,
          1.7745700245700247,
          0.2828341384863124,
          0.37593755716812,
          0.9670781893004116,
          1.319881460821058,
          0.763427734375,
          1.3708536585365854,
          0.6076023391812866,
          1.2464686331533028,
          0.5149218823089157,
          0.16708581665346056,
          1.0400569337128913,
          0.254366692299242,
          0.9779135338345865,
          0.3575261225642474,
          3.0633013902011066,
          0.5479758443301275,
          0.3050291918467684,
          0.6780289265208227,
          1.4290900839573406,
          0.9212942061700526,
          0.7066840364766008,
          0.11396898208824814,
          1.0887445887445888,
          0.21636160402403243,
          0.49216340404103986,
          0.8351869606903164,
          0.5934329459509315,
          0.5559690691808296,
          0.6369531552458382,
          0.3917661477009668,
          0.4138563508274626,
          1.0636381631037213,
          1.6728867623604466,
          0.7244825124910778,
          1.2136394673950153,
          0.4563940180070197,
          0.8065619041357092,
          0.20496711495042702,
          1.262749445676275,
          0.5755338904363974,
          1.1789510066534175,
          0.42835615540850425,
          0.32331806124909573,
          0.5894171145101281,
          0.8612563667232598,
          1.0179853701093886,
          0.4168586387434555,
          0.7839849015907253,
          0.7760964912280702,
          0.6096736445195683,
          0.7003132341425216,
          2.2384678076609617,
          0.7027076030460534,
          0.8112241026030205,
          0.5916683852340688,
          1.2150164060992086,
          0.7521481178396072,
          0.29217490179863553,
          0.5621502458877395,
          0.7606235319239804,
          2.5906026127265065,
          0.5836708453873353,
          0.7748084803135578,
          0.7165374188260514,
          -0.01843796342066238,
          1.2731883090884826,
          1.7364341085271318,
          0.5708624422927646,
          1.3122683142100617,
          0.34295929592959296,
          0.6568160829722242,
          0.4397319837479507,
          0.2472349838352901,
          1.1909869031659277,
          0.22994618550174106,
          0.6235053492762744,
          0.7098050296693982,
          0.7487812041116005,
          1.416213396915282,
          0.24839948783610755,
          0.09483204134366925,
          0.38188928265917144,
          0.4974088149647105,
          0.5337021890786625,
          0.5899149453219927,
          1.945081081081081,
          0.4430346582828056,
          1.038813721470548,
          0.02131709173962695,
          0.46597337295011715,
          0.5030677634867973,
          0.36401561028125423,
          0.8228211009174312,
          0.3173318448227742,
          1.146452821353313,
          1.1662712173754335,
          0.3394871300491661,
          -0.6020408163265306,
          0.5570051049347703,
          2.3608167082294265,
          0.6848694506218598,
          0.43662931556632345,
          1.138277176873395,
          0.71412680756396,
          0.8848895224518888,
          0.37378269337785197,
          0.5286395726006488,
          2.7289486796213254,
          0.577144490262524,
          1.2534909552523008,
          0.47350405679513186,
          0.3330825524929895,
          0.9337982249592465,
          0.5039705319556066,
          0.2923965473470424,
          0.7514208055349642,
          1.672382545657326,
          1.2242971262579105,
          2.4303183229813663,
          0.7598513997611782,
          0.9543536632144227,
          0.5541881106884463,
          0.17247319236897635,
          0.8525409983780862,
          0.6798811372999257,
          0.6129990330156099,
          0.20380517503805176,
          1.361544827586207,
          0.3554549639404634,
          1.2189633767846058,
          0.6956346463948399,
          0.650830997196636,
          1.3191508340023193,
          1.1367327442082638,
          0.9774553397300881,
          0.33959412780656306,
          117.77027027027027,
          0.8441111923920995,
          0.9771340731133208,
          0.2684623617552622,
          1.0454426743275007,
          1.0414715719063545,
          0.8267202703490066,
          0.6926501715203269,
          0.6179391350774159,
          0.5981040180901026,
          0.6450860309128026,
          1.3068331721044764,
          0.5522321676766554,
          0.3840877914951989,
          0.11700434920971677,
          2.91540847983454,
          0.5759980988593156,
          0.4464686582628216,
          0.5684611793994088,
          0.24867004022317374,
          0.15375921960504402,
          0.46605692659465425,
          2.4477105709440363,
          0.3400745533227645,
          0.9100880357916005,
          0.20757238307349665,
          1.5456501690747002,
          0.6920294480616196,
          0.31079429735234215,
          0.8085106382978723,
          0.7173293768545994,
          1.3998069836813476,
          0.3729006187649956,
          1.0012304902532219,
          0.3488204487579878,
          0.1595846952509133,
          0.758183032732131,
          1.2827849680336816,
          1.1793223998766131,
          0.2769049761229151,
          1.5858502761781643,
          0.6319052539543757,
          0.8973433066804231,
          0.12936174372006645,
          0.26519893517519244,
          0.790187217559716,
          0.6775307998174825,
          0.4332631847458708,
          0.8249565649044428,
          0.7375243664717349,
          0.6155631334659467,
          1.5822474857892435,
          1.0685598018400566,
          0.44696883205845417,
          0.876152764028552,
          0.29434854176339004,
          1.1099923722349352,
          1.3184769775678866,
          0.516070753329692,
          0.1396806033048686,
          0.30695879214439775,
          2.1149586250795673,
          0.4799454726576836,
          1.1030129429238278,
          1.6830161054172768,
          1.043421052631579,
          0.9919031864878983,
          0.655109355570185,
          1.327458693941778,
          0.6885269599575965,
          0.5865300684522442,
          2.6275633293124248,
          0.7383450721096257,
          0.922758212488902,
          0.2850263131764472,
          0.4252912954078136,
          0.3365188163184604,
          0.6218142548596113,
          0.725901315494096,
          0.7898981885495174,
          0.5867653367653368,
          0.3108108108108108,
          0.4506969273019327,
          0.08459704998445543,
          0.7522617739071615,
          0.43535480138835325,
          0.8842244500139237,
          0.4962278469711174,
          0.2680219339307209,
          1.2167600410321155,
          0.4839076936550335,
          0.9120404945647664,
          1.5257510729613735,
          0.6228254475165981,
          0.5925193694897142,
          0.5299961461054254,
          0.08074296291568264,
          0.31890004364906155,
          1.2735367099693475,
          0.9140264160116685,
          1.2032557087949356,
          0.4290505135191784,
          0.48435988390841667,
          0.38843622688812285,
          0.48589036652611095,
          0.5218819071676666,
          0.9405295315682282,
          0.5007940709370037,
          0.8478139404944824,
          0.1053822759742556,
          0.5134189864382583,
          0.5497992232242775,
          1.188870915561307,
          0.6951720802772628,
          -0.04444051773644918,
          0.00062625250501002,
          0.9526932084309133,
          0.4125,
          1.3538128348341503,
          1.575603373073568,
          0.814706033905292,
          2.8770685579196216,
          1.065126205018765,
          0.06597309417040359,
          0.9553306578258594,
          0.31006754583467355,
          1.4363030807660284,
          0.4790348683242607,
          0.48599935629224333,
          0.8644863731656185,
          0.2807329842931937,
          0.3876274526604404,
          0.09764820213799806,
          1.2436030173051325,
          7.114932885906041,
          0.7498759305210918,
          1.442443729903537,
          0.281698520116011,
          0.3151445253369855,
          0.20806852721746338,
          0.4265465624586038,
          0.8702934860415176,
          0.6344310129220508,
          1.333197247171352,
          -0.08103717182219912,
          0.6381115459882584,
          0.4674096151354153,
          0.25841957070245364,
          1.0833594976452119,
          0.45814090183894535,
          1.2935889333614212,
          0.8057492770879401,
          0.44740799716914365,
          1.1279789955567523,
          0.37683624555435286,
          0.16683286796968488,
          -0.04551971326164875,
          1.941475067184234,
          0.7215916677794098,
          1.9256410256410257,
          0.9757559248161264,
          0.3071786310517529,
          0.7058319903303787,
          0.7132029807018662,
          1.8752573075339647,
          0.026428677086928653,
          1.8063457330415755,
          0.23914963783051646,
          0.7921115065243179,
          0.9894580665313134,
          0.5799955619660491,
          0.3167301009432401,
          0.4357136651898184,
          0.16143930516302474,
          0.9353880871785736,
          0.7251495070308712,
          0.968928660203828,
          0.4177014231445257,
          0.5122475886475609,
          1.4789372905696505,
          0.84643004296898,
          0.375378170816849,
          1.2109167506181884,
          1.1087194954757336,
          0.005030181086519115,
          0.39823945623711626,
          0.3011889035667107,
          1.2434580582049402,
          0.4018867924528302,
          0.6411728611500701,
          0.6030582585618602,
          0.7790031632042405,
          0.7353120327814386,
          1.465196756970536,
          0.4123552445222028,
          0.26573517324912405,
          0.09261535939677076,
          0.5850552190951194,
          -9.777934936350778,
          1.7239404352806416,
          1.188110281447444,
          0.8499241082721983,
          0.5317028291037338,
          1.4021362586605082,
          1.1956587051224274,
          0.6493095990683746,
          0.5338507265521797,
          1.94058856191005,
          0.4801489705572342,
          0.8576119402985075,
          0.3573563274704816,
          0.6992133976148186,
          0.9248855597170204,
          0.31247597078046907,
          1.5400964603940162,
          7.816037735849057,
          0.1742477668077104,
          0.5829529297313477,
          0.5068677360484103,
          2.2023781212841853,
          0.39509126351231616,
          2.4962254655259186,
          1.893816155988858,
          0.8668605386268807,
          0.41056445461479785,
          0.44565720099898254,
          0.5704305855455354,
          0.7720195029883611,
          1.8009209100758397,
          1.1042813237080982,
          0.3365958591019091,
          0.021021408305390767,
          0.49826240241752706,
          1.1580488790143406,
          0.929273733785012,
          0.4600494913390157,
          0.9639745916515426,
          1.1544069355050572,
          0.9081757169005491,
          0.5154972428218293,
          10.473463687150838,
          2.2749875683739433,
          0.9725609756097561,
          0.427958914436487,
          1.0380582931432165,
          0.5605791962174941,
          0.9239668435804163,
          1.0333507306889353,
          4.323570924488355,
          1.075278810408922,
          0.7830065359477124,
          -0.09995317134086061,
          0.4576372911873562,
          0.7827171361502347,
          1.8510443665192864,
          0.36993223842885037,
          0.3523074238855448,
          0.5076362706882229,
          1.5801694383432696,
          0.39068825910931176,
          1.0753872089347802,
          1.3742650384441428,
          0.20943952802359883,
          0.4459111704155547,
          0.3051330798479088,
          -0.06649774003561155,
          1.4003267973856208,
          0.6043194419602933,
          1.636434108527132,
          0.6140539927404719,
          0.4556047197640118,
          0.35436825129715327,
          1.056199821587868,
          0.20975588183265523,
          -0.1480862443590172,
          1.157029108471479,
          0.3945558009172754,
          0.4392381109099885,
          0.6722183896718242,
          1.264308311763014,
          0.8578699483439683,
          1.0065520065520066,
          0.22313972907775098,
          0.497793679189028,
          0.8276818353712341,
          -3.118949958982773,
          0.1458590127369842,
          0.48559479553903345,
          0.45989966325338466,
          1.0764719680975838,
          0.34909035932066723,
          0.26327178967724113,
          0.41565363195400923,
          1.2026995757809487,
          0.6822803687635575,
          0.602129911363937,
          0.927645788336933,
          0.8909819205369709,
          0.3521198130735882,
          0.68378501010601,
          0.4904806284116629,
          0.8448465919529671,
          1.1296054612990662,
          0.5079074771382464,
          0.42923445974134333,
          0.3224098815225611,
          1.6659519241620584,
          1.1057490558120018,
          -17.54206500956023,
          3.585984427141268,
          0.6465987370838117,
          0.5274604711197161,
          0.12858818928431756,
          3.6529688631426502,
          1.2230258595065888,
          0.43463223426331565,
          0.8998972473095019,
          0.34462859826880493,
          0.5484003281378179,
          0.5255104975553638,
          1.25456447318372,
          0.7270406247653375,
          0.41698313838675377,
          0.7230351170568562,
          0.7033636321690583,
          0.5155399748848891,
          0.5926194849015505,
          0.3619813396040355,
          0.4276119079603068,
          0.4968571634997471,
          0.5763323541754092,
          0.6830990651691439,
          0.6989191436291832,
          0.647268458345562,
          0.9723988439306358,
          0.6967690515602968,
          0.22028679510864785,
          0.7031404027601746,
          1.0366077738515902,
          0.29717506012419687,
          0.667131833853226,
          0.31968908669215823,
          0.009709623011350687,
          0.5866960352422907,
          1.2248408354741427,
          0.19724021061550565,
          2.375766148043376,
          1.469223235139004,
          0.9176734867342602,
          1.361407966519692,
          2.082752613240418,
          0.64467149719124,
          0.4083984124951991,
          0.28736168228261333,
          -0.27492559523809523,
          1.6388888888888888,
          1.0652985074626866,
          0.5277980446519772,
          1.100327703554323,
          0.2615559007515009,
          1.0573355817875212,
          3.9464511240212174,
          0.05598850624755105,
          1.0060125260960333,
          0.7588515060771535,
          2.397005444646098,
          0.48314076868663053,
          1.2469713656387664,
          0.6176796299915315,
          0.4361203360031256,
          0.8471279447835264,
          0.8258553575087072,
          2.3172615320392405,
          0.3593965687241175,
          0.502697339864823,
          1.4102364503259706,
          0.6280747179582024,
          0.6965062071132995,
          0.9064304967269927,
          1.9878320031401282,
          0.37136266855926187,
          0.3797500637592451,
          -0.18458972648432287,
          0.42520196861361315,
          0.2866783132942829,
          1.8767273869346734,
          0.6762400175837058,
          11.504109589041096,
          0.06827184946769002,
          0.30826499156633513,
          0.8386157388595422,
          1.677865077214847,
          3.51905290418054,
          0.6750376986428489,
          0.6220031180213206,
          0.5190326523485246,
          0.6708236494529789,
          1.1260729613733906,
          0.8072587917042381,
          0.8510284810126583,
          1.1022443890274314,
          0.5831576930446446,
          1.070891684468708,
          1.180861520670714,
          0.6958473625140292,
          0.6578697099381835,
          0.7563720173535792,
          1.657387580299786,
          0.27936384794414276,
          -0.4215587044534413,
          1.5290422432629278,
          1.5115540466542547,
          0.04982358186964445,
          0.38006332569057755,
          1.90171623494297,
          0.7966540345688141,
          0.906695464362851,
          0.5511968085106383,
          0.8051646822328746,
          0.8896610814927647,
          0.9185998707934457,
          0.47911338448422847,
          0.23053163970503068,
          2.038050101557211,
          0.4037659495395796,
          1.17853903579153,
          0.3954748437034832,
          0.4863243162158108,
          0.480167572867457,
          0.49717626077479443,
          -2.0956591639871385,
          0.7078925194270199,
          0.2980118443316413,
          1.800909212461559,
          0.990591495879221,
          0.07785157377995958,
          0.8674542048293089,
          1.3673233613036604,
          0.9294930038161003,
          0.39465582340981703,
          1.5318811126635337,
          0.1651549692001746,
          0.5136812124910995,
          0.7177764605150497,
          1.7391078298845795,
          1.06451321844266,
          0.6414288155870791,
          0.40003051338774887,
          0.499126979348546,
          0.25736056396433754,
          0.6968150265414454,
          0.47552493872954893,
          0.15945775535939472,
          1.3670726585468291,
          0.7949830651989839,
          0.8189346463742166,
          0.8456140350877193,
          0.5796849599192779,
          0.11749976815357507,
          0.8588477972594666,
          0.26765548626327323,
          1.0237241379310345,
          1.4805819547107826,
          0.38126102082638325,
          0.2882609694463588,
          1.1525361878117018,
          1.298896291140499,
          0.4457488598907301,
          0.6313478291663716,
          6.118311533888228,
          1.0572553771584368,
          0.6133738151658767,
          -0.053353278484168536,
          1.1875399361022365,
          0.7563672260612043,
          0.2579288298140826,
          1.4702820938301402,
          0.4867979100578466,
          0.20442879565604719,
          0.6050580360925188,
          0.717577353522054,
          3.716858118596709,
          0.4430622009569378,
          0.5754544173594477,
          0.5988011575031005,
          0.5017669231977383,
          0.023561507936507936,
          0.425312330255296,
          0.8648171383428598,
          0.36256690782895123,
          158.63636363636363,
          0.6463434949192071,
          0.17692931842769563,
          -0.10251107828655835,
          0.6476573938506589,
          1.2231130454701638,
          0.37881263616557737,
          0.36968392522619475,
          1.0534185830669278,
          0.9515235457063712,
          0.8286316175123649,
          0.38143392188336006,
          0.47588460047621683,
          0.6489859594383776,
          1.0040018832391713,
          0.21031490509919357,
          1.1880448318804484,
          2.468017732742242,
          0.39843379212149976,
          1.8061863043089577,
          0.441779689050612,
          0.12832202824418992,
          1.2499207774374141,
          0.8713469211689853,
          0.6080066261733849,
          0.8283875282119869,
          0.36752136752136755,
          0.4798684081311991,
          0.36854753436508697,
          1.2639976142548275,
          0.1872637394591451,
          2.692032229185318,
          6.929088277858177,
          0.7525912045441236,
          0.464657717373141,
          0.27043014679033084,
          0.8944761427048717,
          0.5094131231487524,
          0.9099652878218109,
          0.3034437559580553,
          0.11898096304591266,
          4.668143553389455,
          0.4807802310948404,
          0.47213633422017687,
          0.5750913556580602,
          0.44269996787664634,
          0.16775055679287304,
          1.3129389519178822,
          0.6037363504802,
          7.95693215339233,
          0.7281942184958078,
          1.3707091103456468,
          0.17483569959363868,
          0.6059407897988435,
          0.4850988492180584,
          0.5086487841564302,
          0.9624001141552512,
          0.17274446245272826,
          0.4369228725171062,
          0.8004951785248893,
          1.5283806966510032,
          0.48720364264405713,
          1.0386434698949731,
          0.4537609664892852,
          2.4014376218323585,
          0.150231949565838,
          0.5476078431372549,
          0.1293800539083558,
          -0.2062393092775108,
          0.5647214984514035,
          0.9418860614598926,
          0.6214218421624755,
          0.40472730381261757,
          1.0518258716731999,
          0.35641497851442605,
          0.9430417793808236,
          0.30167522894795623,
          1.2330503921779306,
          0.92143529657914,
          8.849665924276168,
          0.7626008467129962,
          1.6181114393399205,
          0.7501579945228566,
          -0.15945067617150643,
          0.42741641020291066,
          1.8447477837922648,
          1.2334076965978806,
          0.8790934844192635,
          2.6897467958737105,
          1.1120689655172413,
          2.454429843153879,
          -0.3369986061638532,
          0.8349925335988054,
          1.8443821973233738,
          1.7795224075891396,
          0.25023355131456027,
          0.738819320214669,
          0.3772492857937892,
          0.43616366712813415,
          0.4518533646482181,
          0.8713950825928147,
          0.35981739844070576,
          0.14251927119831814,
          1.568607930977269,
          0.6813827292825082,
          0.7736159851034878,
          1.3571774584207976,
          0.49943355613458706,
          0.8956745426829268,
          0.5543330448757572,
          0.9007984669434685,
          0.6306883806883807,
          0.994710993577635,
          0.02314162088579902,
          3.9337597076290542,
          0.33480749219562955,
          0.5235652691049658,
          1.0543682375033534,
          0.3459948320413437,
          0.09654173180310367,
          -0.06255684689236989,
          0.45885051268213706,
          0.412756057424956,
          1.5840030862213077,
          0.2815544853847015,
          0.17866136514247846,
          0.7935612346498506,
          1.3547958444068615,
          0.730398242765734,
          0.859672217468571,
          1.0992251399052948,
          0.20429468120251074,
          0.04006040855257929,
          -0.07021182978188446,
          0.5594231350045303,
          0.7523025150549061,
          0.33552373479796,
          1.614274338044993,
          0.618888761072127,
          0.3129581594676892,
          0.06226951212139532,
          0.47994106221954325,
          0.3304380664652568,
          0.31128007788956374,
          0.6405312346286276,
          0.568533063085888,
          1.1416643079535804,
          0.3908335720423947,
          0.5811052631578948,
          1.7100420228952327,
          0.44388295704621406,
          2.364464363163221,
          0.5307035803497085,
          0.1043316764079314,
          1.1229245283018867,
          0.448014549863595,
          2.216154286805423,
          -0.1251705743704255,
          1.1511367492365117,
          1.257269219911546,
          0.180080773114092,
          0.16204452182564358,
          1.8159430323410148,
          1.0276737750284877,
          0.22563288689324146,
          -0.11873939826801179,
          0.5718446601941748,
          0.4206303996961929,
          0.37531444367657224,
          0.39872577647995755,
          0.13548788067122436,
          1.1393770339377034,
          1.2774473147518695,
          0.20076786215937822,
          1.868194494967867,
          0.690503626381075,
          2.5124329595319357,
          0.4665151588414487,
          -0.1703085252103581,
          0.5269461077844312,
          1.2537900516266491,
          0.43221067437680705,
          0.4818844912112878,
          1.1375998003992016,
          -0.3498794055862445,
          1.8648785939246164,
          0.5688101894998446,
          5.351559162750961,
          0.4152630665046015,
          1.4969212388567228,
          0.5472908420908967,
          0.412132816513333,
          0.7593685655456417,
          1.6515938606847698,
          0.020814121986563034,
          0.5186622755430095,
          0.30409830531361826,
          0.9828346932608039,
          0.9635309852875613,
          0.7513498152884343,
          0.973076563522483,
          0.44119743406985035,
          0.805543770329515,
          0.8832551067627421,
          1.318845872899927,
          1.089538946358841,
          1.4048871740909623,
          0.501261401125558,
          0.29916993886376064,
          0.637791932059448,
          -0.10506591715184367,
          0.9059386406234586,
          0.6826213375083874,
          0.6813766891891891,
          0.17122784086267462,
          1.305803751106818,
          2.940922991381707,
          0.2731954614951316,
          0.666554427822406,
          0.4388157894736842,
          0.10967151526827859,
          2.9430932703659978,
          0.659007395692823,
          1.7621567145376669,
          0.7763499926430919,
          0.13021728935438487,
          0.13145295587010825,
          1.5246931201827005,
          0.45968767023787904,
          1.0331669618418935,
          1.278161965423112,
          1.404127829560586,
          3.1932960893854747,
          0.6027749229188079,
          0.5036188411967334,
          0.2506612476614412,
          1.3007123147019188,
          0.27358186258697753,
          1.2521198072347954,
          0.5654106924530399,
          0.24111831943157244,
          1.0413703543380124,
          0.5832098765432099,
          1.2363399826539463,
          1.1089020363236104,
          0.7978839590443686,
          0.35262287689764016,
          1.7291957229195722,
          0.6808930637805459,
          0.5072715597023383,
          -0.03493290880145554,
          0.5297021129199861,
          0.4493959199841553,
          1.0791681436842726,
          0.6241077376986771,
          0.4596913225515147,
          3.7772713460954117,
          0.7044175576814856,
          0.7925799536247101,
          1.496064172726591,
          1.0906107566089334,
          2.4012841091492776,
          0.6130248500428449,
          0.6140539927404719,
          158.63636363636363,
          1.2334076965978806,
          1.2363399826539463,
          0.9059386406234586,
          0.16204452182564358,
          0.27043014679033084,
          2.468017732742242,
          1.1030129429238278,
          0.11231587561374795
         ],
         "y0": " ",
         "yaxis": "y"
        }
       ],
       "layout": {
        "boxmode": "group",
        "legend": {
         "tracegroupgap": 0
        },
        "template": {
         "data": {
          "bar": [
           {
            "error_x": {
             "color": "#2a3f5f"
            },
            "error_y": {
             "color": "#2a3f5f"
            },
            "marker": {
             "line": {
              "color": "#E5ECF6",
              "width": 0.5
             },
             "pattern": {
              "fillmode": "overlay",
              "size": 10,
              "solidity": 0.2
             }
            },
            "type": "bar"
           }
          ],
          "barpolar": [
           {
            "marker": {
             "line": {
              "color": "#E5ECF6",
              "width": 0.5
             },
             "pattern": {
              "fillmode": "overlay",
              "size": 10,
              "solidity": 0.2
             }
            },
            "type": "barpolar"
           }
          ],
          "carpet": [
           {
            "aaxis": {
             "endlinecolor": "#2a3f5f",
             "gridcolor": "white",
             "linecolor": "white",
             "minorgridcolor": "white",
             "startlinecolor": "#2a3f5f"
            },
            "baxis": {
             "endlinecolor": "#2a3f5f",
             "gridcolor": "white",
             "linecolor": "white",
             "minorgridcolor": "white",
             "startlinecolor": "#2a3f5f"
            },
            "type": "carpet"
           }
          ],
          "choropleth": [
           {
            "colorbar": {
             "outlinewidth": 0,
             "ticks": ""
            },
            "type": "choropleth"
           }
          ],
          "contour": [
           {
            "colorbar": {
             "outlinewidth": 0,
             "ticks": ""
            },
            "colorscale": [
             [
              0,
              "#0d0887"
             ],
             [
              0.1111111111111111,
              "#46039f"
             ],
             [
              0.2222222222222222,
              "#7201a8"
             ],
             [
              0.3333333333333333,
              "#9c179e"
             ],
             [
              0.4444444444444444,
              "#bd3786"
             ],
             [
              0.5555555555555556,
              "#d8576b"
             ],
             [
              0.6666666666666666,
              "#ed7953"
             ],
             [
              0.7777777777777778,
              "#fb9f3a"
             ],
             [
              0.8888888888888888,
              "#fdca26"
             ],
             [
              1,
              "#f0f921"
             ]
            ],
            "type": "contour"
           }
          ],
          "contourcarpet": [
           {
            "colorbar": {
             "outlinewidth": 0,
             "ticks": ""
            },
            "type": "contourcarpet"
           }
          ],
          "heatmap": [
           {
            "colorbar": {
             "outlinewidth": 0,
             "ticks": ""
            },
            "colorscale": [
             [
              0,
              "#0d0887"
             ],
             [
              0.1111111111111111,
              "#46039f"
             ],
             [
              0.2222222222222222,
              "#7201a8"
             ],
             [
              0.3333333333333333,
              "#9c179e"
             ],
             [
              0.4444444444444444,
              "#bd3786"
             ],
             [
              0.5555555555555556,
              "#d8576b"
             ],
             [
              0.6666666666666666,
              "#ed7953"
             ],
             [
              0.7777777777777778,
              "#fb9f3a"
             ],
             [
              0.8888888888888888,
              "#fdca26"
             ],
             [
              1,
              "#f0f921"
             ]
            ],
            "type": "heatmap"
           }
          ],
          "heatmapgl": [
           {
            "colorbar": {
             "outlinewidth": 0,
             "ticks": ""
            },
            "colorscale": [
             [
              0,
              "#0d0887"
             ],
             [
              0.1111111111111111,
              "#46039f"
             ],
             [
              0.2222222222222222,
              "#7201a8"
             ],
             [
              0.3333333333333333,
              "#9c179e"
             ],
             [
              0.4444444444444444,
              "#bd3786"
             ],
             [
              0.5555555555555556,
              "#d8576b"
             ],
             [
              0.6666666666666666,
              "#ed7953"
             ],
             [
              0.7777777777777778,
              "#fb9f3a"
             ],
             [
              0.8888888888888888,
              "#fdca26"
             ],
             [
              1,
              "#f0f921"
             ]
            ],
            "type": "heatmapgl"
           }
          ],
          "histogram": [
           {
            "marker": {
             "pattern": {
              "fillmode": "overlay",
              "size": 10,
              "solidity": 0.2
             }
            },
            "type": "histogram"
           }
          ],
          "histogram2d": [
           {
            "colorbar": {
             "outlinewidth": 0,
             "ticks": ""
            },
            "colorscale": [
             [
              0,
              "#0d0887"
             ],
             [
              0.1111111111111111,
              "#46039f"
             ],
             [
              0.2222222222222222,
              "#7201a8"
             ],
             [
              0.3333333333333333,
              "#9c179e"
             ],
             [
              0.4444444444444444,
              "#bd3786"
             ],
             [
              0.5555555555555556,
              "#d8576b"
             ],
             [
              0.6666666666666666,
              "#ed7953"
             ],
             [
              0.7777777777777778,
              "#fb9f3a"
             ],
             [
              0.8888888888888888,
              "#fdca26"
             ],
             [
              1,
              "#f0f921"
             ]
            ],
            "type": "histogram2d"
           }
          ],
          "histogram2dcontour": [
           {
            "colorbar": {
             "outlinewidth": 0,
             "ticks": ""
            },
            "colorscale": [
             [
              0,
              "#0d0887"
             ],
             [
              0.1111111111111111,
              "#46039f"
             ],
             [
              0.2222222222222222,
              "#7201a8"
             ],
             [
              0.3333333333333333,
              "#9c179e"
             ],
             [
              0.4444444444444444,
              "#bd3786"
             ],
             [
              0.5555555555555556,
              "#d8576b"
             ],
             [
              0.6666666666666666,
              "#ed7953"
             ],
             [
              0.7777777777777778,
              "#fb9f3a"
             ],
             [
              0.8888888888888888,
              "#fdca26"
             ],
             [
              1,
              "#f0f921"
             ]
            ],
            "type": "histogram2dcontour"
           }
          ],
          "mesh3d": [
           {
            "colorbar": {
             "outlinewidth": 0,
             "ticks": ""
            },
            "type": "mesh3d"
           }
          ],
          "parcoords": [
           {
            "line": {
             "colorbar": {
              "outlinewidth": 0,
              "ticks": ""
             }
            },
            "type": "parcoords"
           }
          ],
          "pie": [
           {
            "automargin": true,
            "type": "pie"
           }
          ],
          "scatter": [
           {
            "fillpattern": {
             "fillmode": "overlay",
             "size": 10,
             "solidity": 0.2
            },
            "type": "scatter"
           }
          ],
          "scatter3d": [
           {
            "line": {
             "colorbar": {
              "outlinewidth": 0,
              "ticks": ""
             }
            },
            "marker": {
             "colorbar": {
              "outlinewidth": 0,
              "ticks": ""
             }
            },
            "type": "scatter3d"
           }
          ],
          "scattercarpet": [
           {
            "marker": {
             "colorbar": {
              "outlinewidth": 0,
              "ticks": ""
             }
            },
            "type": "scattercarpet"
           }
          ],
          "scattergeo": [
           {
            "marker": {
             "colorbar": {
              "outlinewidth": 0,
              "ticks": ""
             }
            },
            "type": "scattergeo"
           }
          ],
          "scattergl": [
           {
            "marker": {
             "colorbar": {
              "outlinewidth": 0,
              "ticks": ""
             }
            },
            "type": "scattergl"
           }
          ],
          "scattermapbox": [
           {
            "marker": {
             "colorbar": {
              "outlinewidth": 0,
              "ticks": ""
             }
            },
            "type": "scattermapbox"
           }
          ],
          "scatterpolar": [
           {
            "marker": {
             "colorbar": {
              "outlinewidth": 0,
              "ticks": ""
             }
            },
            "type": "scatterpolar"
           }
          ],
          "scatterpolargl": [
           {
            "marker": {
             "colorbar": {
              "outlinewidth": 0,
              "ticks": ""
             }
            },
            "type": "scatterpolargl"
           }
          ],
          "scatterternary": [
           {
            "marker": {
             "colorbar": {
              "outlinewidth": 0,
              "ticks": ""
             }
            },
            "type": "scatterternary"
           }
          ],
          "surface": [
           {
            "colorbar": {
             "outlinewidth": 0,
             "ticks": ""
            },
            "colorscale": [
             [
              0,
              "#0d0887"
             ],
             [
              0.1111111111111111,
              "#46039f"
             ],
             [
              0.2222222222222222,
              "#7201a8"
             ],
             [
              0.3333333333333333,
              "#9c179e"
             ],
             [
              0.4444444444444444,
              "#bd3786"
             ],
             [
              0.5555555555555556,
              "#d8576b"
             ],
             [
              0.6666666666666666,
              "#ed7953"
             ],
             [
              0.7777777777777778,
              "#fb9f3a"
             ],
             [
              0.8888888888888888,
              "#fdca26"
             ],
             [
              1,
              "#f0f921"
             ]
            ],
            "type": "surface"
           }
          ],
          "table": [
           {
            "cells": {
             "fill": {
              "color": "#EBF0F8"
             },
             "line": {
              "color": "white"
             }
            },
            "header": {
             "fill": {
              "color": "#C8D4E3"
             },
             "line": {
              "color": "white"
             }
            },
            "type": "table"
           }
          ]
         },
         "layout": {
          "annotationdefaults": {
           "arrowcolor": "#2a3f5f",
           "arrowhead": 0,
           "arrowwidth": 1
          },
          "autotypenumbers": "strict",
          "coloraxis": {
           "colorbar": {
            "outlinewidth": 0,
            "ticks": ""
           }
          },
          "colorscale": {
           "diverging": [
            [
             0,
             "#8e0152"
            ],
            [
             0.1,
             "#c51b7d"
            ],
            [
             0.2,
             "#de77ae"
            ],
            [
             0.3,
             "#f1b6da"
            ],
            [
             0.4,
             "#fde0ef"
            ],
            [
             0.5,
             "#f7f7f7"
            ],
            [
             0.6,
             "#e6f5d0"
            ],
            [
             0.7,
             "#b8e186"
            ],
            [
             0.8,
             "#7fbc41"
            ],
            [
             0.9,
             "#4d9221"
            ],
            [
             1,
             "#276419"
            ]
           ],
           "sequential": [
            [
             0,
             "#0d0887"
            ],
            [
             0.1111111111111111,
             "#46039f"
            ],
            [
             0.2222222222222222,
             "#7201a8"
            ],
            [
             0.3333333333333333,
             "#9c179e"
            ],
            [
             0.4444444444444444,
             "#bd3786"
            ],
            [
             0.5555555555555556,
             "#d8576b"
            ],
            [
             0.6666666666666666,
             "#ed7953"
            ],
            [
             0.7777777777777778,
             "#fb9f3a"
            ],
            [
             0.8888888888888888,
             "#fdca26"
            ],
            [
             1,
             "#f0f921"
            ]
           ],
           "sequentialminus": [
            [
             0,
             "#0d0887"
            ],
            [
             0.1111111111111111,
             "#46039f"
            ],
            [
             0.2222222222222222,
             "#7201a8"
            ],
            [
             0.3333333333333333,
             "#9c179e"
            ],
            [
             0.4444444444444444,
             "#bd3786"
            ],
            [
             0.5555555555555556,
             "#d8576b"
            ],
            [
             0.6666666666666666,
             "#ed7953"
            ],
            [
             0.7777777777777778,
             "#fb9f3a"
            ],
            [
             0.8888888888888888,
             "#fdca26"
            ],
            [
             1,
             "#f0f921"
            ]
           ]
          },
          "colorway": [
           "#636efa",
           "#EF553B",
           "#00cc96",
           "#ab63fa",
           "#FFA15A",
           "#19d3f3",
           "#FF6692",
           "#B6E880",
           "#FF97FF",
           "#FECB52"
          ],
          "font": {
           "color": "#2a3f5f"
          },
          "geo": {
           "bgcolor": "white",
           "lakecolor": "white",
           "landcolor": "#E5ECF6",
           "showlakes": true,
           "showland": true,
           "subunitcolor": "white"
          },
          "hoverlabel": {
           "align": "left"
          },
          "hovermode": "closest",
          "mapbox": {
           "style": "light"
          },
          "paper_bgcolor": "white",
          "plot_bgcolor": "#E5ECF6",
          "polar": {
           "angularaxis": {
            "gridcolor": "white",
            "linecolor": "white",
            "ticks": ""
           },
           "bgcolor": "#E5ECF6",
           "radialaxis": {
            "gridcolor": "white",
            "linecolor": "white",
            "ticks": ""
           }
          },
          "scene": {
           "xaxis": {
            "backgroundcolor": "#E5ECF6",
            "gridcolor": "white",
            "gridwidth": 2,
            "linecolor": "white",
            "showbackground": true,
            "ticks": "",
            "zerolinecolor": "white"
           },
           "yaxis": {
            "backgroundcolor": "#E5ECF6",
            "gridcolor": "white",
            "gridwidth": 2,
            "linecolor": "white",
            "showbackground": true,
            "ticks": "",
            "zerolinecolor": "white"
           },
           "zaxis": {
            "backgroundcolor": "#E5ECF6",
            "gridcolor": "white",
            "gridwidth": 2,
            "linecolor": "white",
            "showbackground": true,
            "ticks": "",
            "zerolinecolor": "white"
           }
          },
          "shapedefaults": {
           "line": {
            "color": "#2a3f5f"
           }
          },
          "ternary": {
           "aaxis": {
            "gridcolor": "white",
            "linecolor": "white",
            "ticks": ""
           },
           "baxis": {
            "gridcolor": "white",
            "linecolor": "white",
            "ticks": ""
           },
           "bgcolor": "#E5ECF6",
           "caxis": {
            "gridcolor": "white",
            "linecolor": "white",
            "ticks": ""
           }
          },
          "title": {
           "x": 0.05
          },
          "xaxis": {
           "automargin": true,
           "gridcolor": "white",
           "linecolor": "white",
           "ticks": "",
           "title": {
            "standoff": 15
           },
           "zerolinecolor": "white",
           "zerolinewidth": 2
          },
          "yaxis": {
           "automargin": true,
           "gridcolor": "white",
           "linecolor": "white",
           "ticks": "",
           "title": {
            "standoff": 15
           },
           "zerolinecolor": "white",
           "zerolinewidth": 2
          }
         }
        },
        "title": {
         "text": "Credit Utilization vs Default"
        },
        "xaxis": {
         "anchor": "y",
         "domain": [
          0,
          1
         ],
         "title": {
          "text": "default"
         }
        },
        "yaxis": {
         "anchor": "x",
         "domain": [
          0,
          1
         ],
         "title": {
          "text": "credit_utilization"
         }
        }
       }
      }
     },
     "metadata": {},
     "output_type": "display_data"
    },
    {
     "name": "stderr",
     "output_type": "stream",
     "text": [
      "C:\\Users\\kelkess\\AppData\\Local\\Temp\\ipykernel_19744\\2326404953.py:20: FutureWarning:\n",
      "\n",
      "The default of observed=False is deprecated and will be changed to True in a future version of pandas. Pass observed=False to retain current behavior or observed=True to adopt the future default and silence this warning.\n",
      "\n"
     ]
    },
    {
     "data": {
      "application/vnd.plotly.v1+json": {
       "config": {
        "plotlyServerURL": "https://plot.ly"
       },
       "data": [
        {
         "alignmentgroup": "True",
         "hovertemplate": "income_group=%{x}<br>default=%{y}<extra></extra>",
         "legendgroup": "",
         "marker": {
          "color": "#636efa",
          "pattern": {
           "shape": ""
          }
         },
         "name": "",
         "offsetgroup": "",
         "orientation": "v",
         "showlegend": false,
         "textposition": "auto",
         "type": "bar",
         "x": [
          "Low",
          "Medium",
          "High",
          "Very High"
         ],
         "xaxis": "x",
         "y": [
          0.24429223744292236,
          0.045871559633027525,
          0,
          0
         ],
         "yaxis": "y"
        }
       ],
       "layout": {
        "barmode": "relative",
        "legend": {
         "tracegroupgap": 0
        },
        "template": {
         "data": {
          "bar": [
           {
            "error_x": {
             "color": "#2a3f5f"
            },
            "error_y": {
             "color": "#2a3f5f"
            },
            "marker": {
             "line": {
              "color": "#E5ECF6",
              "width": 0.5
             },
             "pattern": {
              "fillmode": "overlay",
              "size": 10,
              "solidity": 0.2
             }
            },
            "type": "bar"
           }
          ],
          "barpolar": [
           {
            "marker": {
             "line": {
              "color": "#E5ECF6",
              "width": 0.5
             },
             "pattern": {
              "fillmode": "overlay",
              "size": 10,
              "solidity": 0.2
             }
            },
            "type": "barpolar"
           }
          ],
          "carpet": [
           {
            "aaxis": {
             "endlinecolor": "#2a3f5f",
             "gridcolor": "white",
             "linecolor": "white",
             "minorgridcolor": "white",
             "startlinecolor": "#2a3f5f"
            },
            "baxis": {
             "endlinecolor": "#2a3f5f",
             "gridcolor": "white",
             "linecolor": "white",
             "minorgridcolor": "white",
             "startlinecolor": "#2a3f5f"
            },
            "type": "carpet"
           }
          ],
          "choropleth": [
           {
            "colorbar": {
             "outlinewidth": 0,
             "ticks": ""
            },
            "type": "choropleth"
           }
          ],
          "contour": [
           {
            "colorbar": {
             "outlinewidth": 0,
             "ticks": ""
            },
            "colorscale": [
             [
              0,
              "#0d0887"
             ],
             [
              0.1111111111111111,
              "#46039f"
             ],
             [
              0.2222222222222222,
              "#7201a8"
             ],
             [
              0.3333333333333333,
              "#9c179e"
             ],
             [
              0.4444444444444444,
              "#bd3786"
             ],
             [
              0.5555555555555556,
              "#d8576b"
             ],
             [
              0.6666666666666666,
              "#ed7953"
             ],
             [
              0.7777777777777778,
              "#fb9f3a"
             ],
             [
              0.8888888888888888,
              "#fdca26"
             ],
             [
              1,
              "#f0f921"
             ]
            ],
            "type": "contour"
           }
          ],
          "contourcarpet": [
           {
            "colorbar": {
             "outlinewidth": 0,
             "ticks": ""
            },
            "type": "contourcarpet"
           }
          ],
          "heatmap": [
           {
            "colorbar": {
             "outlinewidth": 0,
             "ticks": ""
            },
            "colorscale": [
             [
              0,
              "#0d0887"
             ],
             [
              0.1111111111111111,
              "#46039f"
             ],
             [
              0.2222222222222222,
              "#7201a8"
             ],
             [
              0.3333333333333333,
              "#9c179e"
             ],
             [
              0.4444444444444444,
              "#bd3786"
             ],
             [
              0.5555555555555556,
              "#d8576b"
             ],
             [
              0.6666666666666666,
              "#ed7953"
             ],
             [
              0.7777777777777778,
              "#fb9f3a"
             ],
             [
              0.8888888888888888,
              "#fdca26"
             ],
             [
              1,
              "#f0f921"
             ]
            ],
            "type": "heatmap"
           }
          ],
          "heatmapgl": [
           {
            "colorbar": {
             "outlinewidth": 0,
             "ticks": ""
            },
            "colorscale": [
             [
              0,
              "#0d0887"
             ],
             [
              0.1111111111111111,
              "#46039f"
             ],
             [
              0.2222222222222222,
              "#7201a8"
             ],
             [
              0.3333333333333333,
              "#9c179e"
             ],
             [
              0.4444444444444444,
              "#bd3786"
             ],
             [
              0.5555555555555556,
              "#d8576b"
             ],
             [
              0.6666666666666666,
              "#ed7953"
             ],
             [
              0.7777777777777778,
              "#fb9f3a"
             ],
             [
              0.8888888888888888,
              "#fdca26"
             ],
             [
              1,
              "#f0f921"
             ]
            ],
            "type": "heatmapgl"
           }
          ],
          "histogram": [
           {
            "marker": {
             "pattern": {
              "fillmode": "overlay",
              "size": 10,
              "solidity": 0.2
             }
            },
            "type": "histogram"
           }
          ],
          "histogram2d": [
           {
            "colorbar": {
             "outlinewidth": 0,
             "ticks": ""
            },
            "colorscale": [
             [
              0,
              "#0d0887"
             ],
             [
              0.1111111111111111,
              "#46039f"
             ],
             [
              0.2222222222222222,
              "#7201a8"
             ],
             [
              0.3333333333333333,
              "#9c179e"
             ],
             [
              0.4444444444444444,
              "#bd3786"
             ],
             [
              0.5555555555555556,
              "#d8576b"
             ],
             [
              0.6666666666666666,
              "#ed7953"
             ],
             [
              0.7777777777777778,
              "#fb9f3a"
             ],
             [
              0.8888888888888888,
              "#fdca26"
             ],
             [
              1,
              "#f0f921"
             ]
            ],
            "type": "histogram2d"
           }
          ],
          "histogram2dcontour": [
           {
            "colorbar": {
             "outlinewidth": 0,
             "ticks": ""
            },
            "colorscale": [
             [
              0,
              "#0d0887"
             ],
             [
              0.1111111111111111,
              "#46039f"
             ],
             [
              0.2222222222222222,
              "#7201a8"
             ],
             [
              0.3333333333333333,
              "#9c179e"
             ],
             [
              0.4444444444444444,
              "#bd3786"
             ],
             [
              0.5555555555555556,
              "#d8576b"
             ],
             [
              0.6666666666666666,
              "#ed7953"
             ],
             [
              0.7777777777777778,
              "#fb9f3a"
             ],
             [
              0.8888888888888888,
              "#fdca26"
             ],
             [
              1,
              "#f0f921"
             ]
            ],
            "type": "histogram2dcontour"
           }
          ],
          "mesh3d": [
           {
            "colorbar": {
             "outlinewidth": 0,
             "ticks": ""
            },
            "type": "mesh3d"
           }
          ],
          "parcoords": [
           {
            "line": {
             "colorbar": {
              "outlinewidth": 0,
              "ticks": ""
             }
            },
            "type": "parcoords"
           }
          ],
          "pie": [
           {
            "automargin": true,
            "type": "pie"
           }
          ],
          "scatter": [
           {
            "fillpattern": {
             "fillmode": "overlay",
             "size": 10,
             "solidity": 0.2
            },
            "type": "scatter"
           }
          ],
          "scatter3d": [
           {
            "line": {
             "colorbar": {
              "outlinewidth": 0,
              "ticks": ""
             }
            },
            "marker": {
             "colorbar": {
              "outlinewidth": 0,
              "ticks": ""
             }
            },
            "type": "scatter3d"
           }
          ],
          "scattercarpet": [
           {
            "marker": {
             "colorbar": {
              "outlinewidth": 0,
              "ticks": ""
             }
            },
            "type": "scattercarpet"
           }
          ],
          "scattergeo": [
           {
            "marker": {
             "colorbar": {
              "outlinewidth": 0,
              "ticks": ""
             }
            },
            "type": "scattergeo"
           }
          ],
          "scattergl": [
           {
            "marker": {
             "colorbar": {
              "outlinewidth": 0,
              "ticks": ""
             }
            },
            "type": "scattergl"
           }
          ],
          "scattermapbox": [
           {
            "marker": {
             "colorbar": {
              "outlinewidth": 0,
              "ticks": ""
             }
            },
            "type": "scattermapbox"
           }
          ],
          "scatterpolar": [
           {
            "marker": {
             "colorbar": {
              "outlinewidth": 0,
              "ticks": ""
             }
            },
            "type": "scatterpolar"
           }
          ],
          "scatterpolargl": [
           {
            "marker": {
             "colorbar": {
              "outlinewidth": 0,
              "ticks": ""
             }
            },
            "type": "scatterpolargl"
           }
          ],
          "scatterternary": [
           {
            "marker": {
             "colorbar": {
              "outlinewidth": 0,
              "ticks": ""
             }
            },
            "type": "scatterternary"
           }
          ],
          "surface": [
           {
            "colorbar": {
             "outlinewidth": 0,
             "ticks": ""
            },
            "colorscale": [
             [
              0,
              "#0d0887"
             ],
             [
              0.1111111111111111,
              "#46039f"
             ],
             [
              0.2222222222222222,
              "#7201a8"
             ],
             [
              0.3333333333333333,
              "#9c179e"
             ],
             [
              0.4444444444444444,
              "#bd3786"
             ],
             [
              0.5555555555555556,
              "#d8576b"
             ],
             [
              0.6666666666666666,
              "#ed7953"
             ],
             [
              0.7777777777777778,
              "#fb9f3a"
             ],
             [
              0.8888888888888888,
              "#fdca26"
             ],
             [
              1,
              "#f0f921"
             ]
            ],
            "type": "surface"
           }
          ],
          "table": [
           {
            "cells": {
             "fill": {
              "color": "#EBF0F8"
             },
             "line": {
              "color": "white"
             }
            },
            "header": {
             "fill": {
              "color": "#C8D4E3"
             },
             "line": {
              "color": "white"
             }
            },
            "type": "table"
           }
          ]
         },
         "layout": {
          "annotationdefaults": {
           "arrowcolor": "#2a3f5f",
           "arrowhead": 0,
           "arrowwidth": 1
          },
          "autotypenumbers": "strict",
          "coloraxis": {
           "colorbar": {
            "outlinewidth": 0,
            "ticks": ""
           }
          },
          "colorscale": {
           "diverging": [
            [
             0,
             "#8e0152"
            ],
            [
             0.1,
             "#c51b7d"
            ],
            [
             0.2,
             "#de77ae"
            ],
            [
             0.3,
             "#f1b6da"
            ],
            [
             0.4,
             "#fde0ef"
            ],
            [
             0.5,
             "#f7f7f7"
            ],
            [
             0.6,
             "#e6f5d0"
            ],
            [
             0.7,
             "#b8e186"
            ],
            [
             0.8,
             "#7fbc41"
            ],
            [
             0.9,
             "#4d9221"
            ],
            [
             1,
             "#276419"
            ]
           ],
           "sequential": [
            [
             0,
             "#0d0887"
            ],
            [
             0.1111111111111111,
             "#46039f"
            ],
            [
             0.2222222222222222,
             "#7201a8"
            ],
            [
             0.3333333333333333,
             "#9c179e"
            ],
            [
             0.4444444444444444,
             "#bd3786"
            ],
            [
             0.5555555555555556,
             "#d8576b"
            ],
            [
             0.6666666666666666,
             "#ed7953"
            ],
            [
             0.7777777777777778,
             "#fb9f3a"
            ],
            [
             0.8888888888888888,
             "#fdca26"
            ],
            [
             1,
             "#f0f921"
            ]
           ],
           "sequentialminus": [
            [
             0,
             "#0d0887"
            ],
            [
             0.1111111111111111,
             "#46039f"
            ],
            [
             0.2222222222222222,
             "#7201a8"
            ],
            [
             0.3333333333333333,
             "#9c179e"
            ],
            [
             0.4444444444444444,
             "#bd3786"
            ],
            [
             0.5555555555555556,
             "#d8576b"
            ],
            [
             0.6666666666666666,
             "#ed7953"
            ],
            [
             0.7777777777777778,
             "#fb9f3a"
            ],
            [
             0.8888888888888888,
             "#fdca26"
            ],
            [
             1,
             "#f0f921"
            ]
           ]
          },
          "colorway": [
           "#636efa",
           "#EF553B",
           "#00cc96",
           "#ab63fa",
           "#FFA15A",
           "#19d3f3",
           "#FF6692",
           "#B6E880",
           "#FF97FF",
           "#FECB52"
          ],
          "font": {
           "color": "#2a3f5f"
          },
          "geo": {
           "bgcolor": "white",
           "lakecolor": "white",
           "landcolor": "#E5ECF6",
           "showlakes": true,
           "showland": true,
           "subunitcolor": "white"
          },
          "hoverlabel": {
           "align": "left"
          },
          "hovermode": "closest",
          "mapbox": {
           "style": "light"
          },
          "paper_bgcolor": "white",
          "plot_bgcolor": "#E5ECF6",
          "polar": {
           "angularaxis": {
            "gridcolor": "white",
            "linecolor": "white",
            "ticks": ""
           },
           "bgcolor": "#E5ECF6",
           "radialaxis": {
            "gridcolor": "white",
            "linecolor": "white",
            "ticks": ""
           }
          },
          "scene": {
           "xaxis": {
            "backgroundcolor": "#E5ECF6",
            "gridcolor": "white",
            "gridwidth": 2,
            "linecolor": "white",
            "showbackground": true,
            "ticks": "",
            "zerolinecolor": "white"
           },
           "yaxis": {
            "backgroundcolor": "#E5ECF6",
            "gridcolor": "white",
            "gridwidth": 2,
            "linecolor": "white",
            "showbackground": true,
            "ticks": "",
            "zerolinecolor": "white"
           },
           "zaxis": {
            "backgroundcolor": "#E5ECF6",
            "gridcolor": "white",
            "gridwidth": 2,
            "linecolor": "white",
            "showbackground": true,
            "ticks": "",
            "zerolinecolor": "white"
           }
          },
          "shapedefaults": {
           "line": {
            "color": "#2a3f5f"
           }
          },
          "ternary": {
           "aaxis": {
            "gridcolor": "white",
            "linecolor": "white",
            "ticks": ""
           },
           "baxis": {
            "gridcolor": "white",
            "linecolor": "white",
            "ticks": ""
           },
           "bgcolor": "#E5ECF6",
           "caxis": {
            "gridcolor": "white",
            "linecolor": "white",
            "ticks": ""
           }
          },
          "title": {
           "x": 0.05
          },
          "xaxis": {
           "automargin": true,
           "gridcolor": "white",
           "linecolor": "white",
           "ticks": "",
           "title": {
            "standoff": 15
           },
           "zerolinecolor": "white",
           "zerolinewidth": 2
          },
          "yaxis": {
           "automargin": true,
           "gridcolor": "white",
           "linecolor": "white",
           "ticks": "",
           "title": {
            "standoff": 15
           },
           "zerolinecolor": "white",
           "zerolinewidth": 2
          }
         }
        },
        "title": {
         "text": "Default Rate by Income Group"
        },
        "xaxis": {
         "anchor": "y",
         "domain": [
          0,
          1
         ],
         "title": {
          "text": "income_group"
         }
        },
        "yaxis": {
         "anchor": "x",
         "domain": [
          0,
          1
         ],
         "title": {
          "text": "default"
         }
        }
       }
      }
     },
     "metadata": {},
     "output_type": "display_data"
    },
    {
     "name": "stderr",
     "output_type": "stream",
     "text": [
      "C:\\Users\\kelkess\\AppData\\Local\\Temp\\ipykernel_19744\\2326404953.py:25: FutureWarning:\n",
      "\n",
      "The default of observed=False is deprecated and will be changed to True in a future version of pandas. Pass observed=False to retain current behavior or observed=True to adopt the future default and silence this warning.\n",
      "\n"
     ]
    },
    {
     "data": {
      "application/vnd.plotly.v1+json": {
       "config": {
        "plotlyServerURL": "https://plot.ly"
       },
       "data": [
        {
         "alignmentgroup": "True",
         "hovertemplate": "age_group=%{x}<br>default=%{y}<extra></extra>",
         "legendgroup": "",
         "marker": {
          "color": "#636efa",
          "pattern": {
           "shape": ""
          }
         },
         "name": "",
         "offsetgroup": "",
         "orientation": "v",
         "showlegend": false,
         "textposition": "auto",
         "type": "bar",
         "x": [
          "Young",
          "Mid",
          "Senior"
         ],
         "xaxis": "x",
         "y": [
          0.16822429906542055,
          0.22976878612716764,
          0.21794871794871795
         ],
         "yaxis": "y"
        }
       ],
       "layout": {
        "barmode": "relative",
        "legend": {
         "tracegroupgap": 0
        },
        "template": {
         "data": {
          "bar": [
           {
            "error_x": {
             "color": "#2a3f5f"
            },
            "error_y": {
             "color": "#2a3f5f"
            },
            "marker": {
             "line": {
              "color": "#E5ECF6",
              "width": 0.5
             },
             "pattern": {
              "fillmode": "overlay",
              "size": 10,
              "solidity": 0.2
             }
            },
            "type": "bar"
           }
          ],
          "barpolar": [
           {
            "marker": {
             "line": {
              "color": "#E5ECF6",
              "width": 0.5
             },
             "pattern": {
              "fillmode": "overlay",
              "size": 10,
              "solidity": 0.2
             }
            },
            "type": "barpolar"
           }
          ],
          "carpet": [
           {
            "aaxis": {
             "endlinecolor": "#2a3f5f",
             "gridcolor": "white",
             "linecolor": "white",
             "minorgridcolor": "white",
             "startlinecolor": "#2a3f5f"
            },
            "baxis": {
             "endlinecolor": "#2a3f5f",
             "gridcolor": "white",
             "linecolor": "white",
             "minorgridcolor": "white",
             "startlinecolor": "#2a3f5f"
            },
            "type": "carpet"
           }
          ],
          "choropleth": [
           {
            "colorbar": {
             "outlinewidth": 0,
             "ticks": ""
            },
            "type": "choropleth"
           }
          ],
          "contour": [
           {
            "colorbar": {
             "outlinewidth": 0,
             "ticks": ""
            },
            "colorscale": [
             [
              0,
              "#0d0887"
             ],
             [
              0.1111111111111111,
              "#46039f"
             ],
             [
              0.2222222222222222,
              "#7201a8"
             ],
             [
              0.3333333333333333,
              "#9c179e"
             ],
             [
              0.4444444444444444,
              "#bd3786"
             ],
             [
              0.5555555555555556,
              "#d8576b"
             ],
             [
              0.6666666666666666,
              "#ed7953"
             ],
             [
              0.7777777777777778,
              "#fb9f3a"
             ],
             [
              0.8888888888888888,
              "#fdca26"
             ],
             [
              1,
              "#f0f921"
             ]
            ],
            "type": "contour"
           }
          ],
          "contourcarpet": [
           {
            "colorbar": {
             "outlinewidth": 0,
             "ticks": ""
            },
            "type": "contourcarpet"
           }
          ],
          "heatmap": [
           {
            "colorbar": {
             "outlinewidth": 0,
             "ticks": ""
            },
            "colorscale": [
             [
              0,
              "#0d0887"
             ],
             [
              0.1111111111111111,
              "#46039f"
             ],
             [
              0.2222222222222222,
              "#7201a8"
             ],
             [
              0.3333333333333333,
              "#9c179e"
             ],
             [
              0.4444444444444444,
              "#bd3786"
             ],
             [
              0.5555555555555556,
              "#d8576b"
             ],
             [
              0.6666666666666666,
              "#ed7953"
             ],
             [
              0.7777777777777778,
              "#fb9f3a"
             ],
             [
              0.8888888888888888,
              "#fdca26"
             ],
             [
              1,
              "#f0f921"
             ]
            ],
            "type": "heatmap"
           }
          ],
          "heatmapgl": [
           {
            "colorbar": {
             "outlinewidth": 0,
             "ticks": ""
            },
            "colorscale": [
             [
              0,
              "#0d0887"
             ],
             [
              0.1111111111111111,
              "#46039f"
             ],
             [
              0.2222222222222222,
              "#7201a8"
             ],
             [
              0.3333333333333333,
              "#9c179e"
             ],
             [
              0.4444444444444444,
              "#bd3786"
             ],
             [
              0.5555555555555556,
              "#d8576b"
             ],
             [
              0.6666666666666666,
              "#ed7953"
             ],
             [
              0.7777777777777778,
              "#fb9f3a"
             ],
             [
              0.8888888888888888,
              "#fdca26"
             ],
             [
              1,
              "#f0f921"
             ]
            ],
            "type": "heatmapgl"
           }
          ],
          "histogram": [
           {
            "marker": {
             "pattern": {
              "fillmode": "overlay",
              "size": 10,
              "solidity": 0.2
             }
            },
            "type": "histogram"
           }
          ],
          "histogram2d": [
           {
            "colorbar": {
             "outlinewidth": 0,
             "ticks": ""
            },
            "colorscale": [
             [
              0,
              "#0d0887"
             ],
             [
              0.1111111111111111,
              "#46039f"
             ],
             [
              0.2222222222222222,
              "#7201a8"
             ],
             [
              0.3333333333333333,
              "#9c179e"
             ],
             [
              0.4444444444444444,
              "#bd3786"
             ],
             [
              0.5555555555555556,
              "#d8576b"
             ],
             [
              0.6666666666666666,
              "#ed7953"
             ],
             [
              0.7777777777777778,
              "#fb9f3a"
             ],
             [
              0.8888888888888888,
              "#fdca26"
             ],
             [
              1,
              "#f0f921"
             ]
            ],
            "type": "histogram2d"
           }
          ],
          "histogram2dcontour": [
           {
            "colorbar": {
             "outlinewidth": 0,
             "ticks": ""
            },
            "colorscale": [
             [
              0,
              "#0d0887"
             ],
             [
              0.1111111111111111,
              "#46039f"
             ],
             [
              0.2222222222222222,
              "#7201a8"
             ],
             [
              0.3333333333333333,
              "#9c179e"
             ],
             [
              0.4444444444444444,
              "#bd3786"
             ],
             [
              0.5555555555555556,
              "#d8576b"
             ],
             [
              0.6666666666666666,
              "#ed7953"
             ],
             [
              0.7777777777777778,
              "#fb9f3a"
             ],
             [
              0.8888888888888888,
              "#fdca26"
             ],
             [
              1,
              "#f0f921"
             ]
            ],
            "type": "histogram2dcontour"
           }
          ],
          "mesh3d": [
           {
            "colorbar": {
             "outlinewidth": 0,
             "ticks": ""
            },
            "type": "mesh3d"
           }
          ],
          "parcoords": [
           {
            "line": {
             "colorbar": {
              "outlinewidth": 0,
              "ticks": ""
             }
            },
            "type": "parcoords"
           }
          ],
          "pie": [
           {
            "automargin": true,
            "type": "pie"
           }
          ],
          "scatter": [
           {
            "fillpattern": {
             "fillmode": "overlay",
             "size": 10,
             "solidity": 0.2
            },
            "type": "scatter"
           }
          ],
          "scatter3d": [
           {
            "line": {
             "colorbar": {
              "outlinewidth": 0,
              "ticks": ""
             }
            },
            "marker": {
             "colorbar": {
              "outlinewidth": 0,
              "ticks": ""
             }
            },
            "type": "scatter3d"
           }
          ],
          "scattercarpet": [
           {
            "marker": {
             "colorbar": {
              "outlinewidth": 0,
              "ticks": ""
             }
            },
            "type": "scattercarpet"
           }
          ],
          "scattergeo": [
           {
            "marker": {
             "colorbar": {
              "outlinewidth": 0,
              "ticks": ""
             }
            },
            "type": "scattergeo"
           }
          ],
          "scattergl": [
           {
            "marker": {
             "colorbar": {
              "outlinewidth": 0,
              "ticks": ""
             }
            },
            "type": "scattergl"
           }
          ],
          "scattermapbox": [
           {
            "marker": {
             "colorbar": {
              "outlinewidth": 0,
              "ticks": ""
             }
            },
            "type": "scattermapbox"
           }
          ],
          "scatterpolar": [
           {
            "marker": {
             "colorbar": {
              "outlinewidth": 0,
              "ticks": ""
             }
            },
            "type": "scatterpolar"
           }
          ],
          "scatterpolargl": [
           {
            "marker": {
             "colorbar": {
              "outlinewidth": 0,
              "ticks": ""
             }
            },
            "type": "scatterpolargl"
           }
          ],
          "scatterternary": [
           {
            "marker": {
             "colorbar": {
              "outlinewidth": 0,
              "ticks": ""
             }
            },
            "type": "scatterternary"
           }
          ],
          "surface": [
           {
            "colorbar": {
             "outlinewidth": 0,
             "ticks": ""
            },
            "colorscale": [
             [
              0,
              "#0d0887"
             ],
             [
              0.1111111111111111,
              "#46039f"
             ],
             [
              0.2222222222222222,
              "#7201a8"
             ],
             [
              0.3333333333333333,
              "#9c179e"
             ],
             [
              0.4444444444444444,
              "#bd3786"
             ],
             [
              0.5555555555555556,
              "#d8576b"
             ],
             [
              0.6666666666666666,
              "#ed7953"
             ],
             [
              0.7777777777777778,
              "#fb9f3a"
             ],
             [
              0.8888888888888888,
              "#fdca26"
             ],
             [
              1,
              "#f0f921"
             ]
            ],
            "type": "surface"
           }
          ],
          "table": [
           {
            "cells": {
             "fill": {
              "color": "#EBF0F8"
             },
             "line": {
              "color": "white"
             }
            },
            "header": {
             "fill": {
              "color": "#C8D4E3"
             },
             "line": {
              "color": "white"
             }
            },
            "type": "table"
           }
          ]
         },
         "layout": {
          "annotationdefaults": {
           "arrowcolor": "#2a3f5f",
           "arrowhead": 0,
           "arrowwidth": 1
          },
          "autotypenumbers": "strict",
          "coloraxis": {
           "colorbar": {
            "outlinewidth": 0,
            "ticks": ""
           }
          },
          "colorscale": {
           "diverging": [
            [
             0,
             "#8e0152"
            ],
            [
             0.1,
             "#c51b7d"
            ],
            [
             0.2,
             "#de77ae"
            ],
            [
             0.3,
             "#f1b6da"
            ],
            [
             0.4,
             "#fde0ef"
            ],
            [
             0.5,
             "#f7f7f7"
            ],
            [
             0.6,
             "#e6f5d0"
            ],
            [
             0.7,
             "#b8e186"
            ],
            [
             0.8,
             "#7fbc41"
            ],
            [
             0.9,
             "#4d9221"
            ],
            [
             1,
             "#276419"
            ]
           ],
           "sequential": [
            [
             0,
             "#0d0887"
            ],
            [
             0.1111111111111111,
             "#46039f"
            ],
            [
             0.2222222222222222,
             "#7201a8"
            ],
            [
             0.3333333333333333,
             "#9c179e"
            ],
            [
             0.4444444444444444,
             "#bd3786"
            ],
            [
             0.5555555555555556,
             "#d8576b"
            ],
            [
             0.6666666666666666,
             "#ed7953"
            ],
            [
             0.7777777777777778,
             "#fb9f3a"
            ],
            [
             0.8888888888888888,
             "#fdca26"
            ],
            [
             1,
             "#f0f921"
            ]
           ],
           "sequentialminus": [
            [
             0,
             "#0d0887"
            ],
            [
             0.1111111111111111,
             "#46039f"
            ],
            [
             0.2222222222222222,
             "#7201a8"
            ],
            [
             0.3333333333333333,
             "#9c179e"
            ],
            [
             0.4444444444444444,
             "#bd3786"
            ],
            [
             0.5555555555555556,
             "#d8576b"
            ],
            [
             0.6666666666666666,
             "#ed7953"
            ],
            [
             0.7777777777777778,
             "#fb9f3a"
            ],
            [
             0.8888888888888888,
             "#fdca26"
            ],
            [
             1,
             "#f0f921"
            ]
           ]
          },
          "colorway": [
           "#636efa",
           "#EF553B",
           "#00cc96",
           "#ab63fa",
           "#FFA15A",
           "#19d3f3",
           "#FF6692",
           "#B6E880",
           "#FF97FF",
           "#FECB52"
          ],
          "font": {
           "color": "#2a3f5f"
          },
          "geo": {
           "bgcolor": "white",
           "lakecolor": "white",
           "landcolor": "#E5ECF6",
           "showlakes": true,
           "showland": true,
           "subunitcolor": "white"
          },
          "hoverlabel": {
           "align": "left"
          },
          "hovermode": "closest",
          "mapbox": {
           "style": "light"
          },
          "paper_bgcolor": "white",
          "plot_bgcolor": "#E5ECF6",
          "polar": {
           "angularaxis": {
            "gridcolor": "white",
            "linecolor": "white",
            "ticks": ""
           },
           "bgcolor": "#E5ECF6",
           "radialaxis": {
            "gridcolor": "white",
            "linecolor": "white",
            "ticks": ""
           }
          },
          "scene": {
           "xaxis": {
            "backgroundcolor": "#E5ECF6",
            "gridcolor": "white",
            "gridwidth": 2,
            "linecolor": "white",
            "showbackground": true,
            "ticks": "",
            "zerolinecolor": "white"
           },
           "yaxis": {
            "backgroundcolor": "#E5ECF6",
            "gridcolor": "white",
            "gridwidth": 2,
            "linecolor": "white",
            "showbackground": true,
            "ticks": "",
            "zerolinecolor": "white"
           },
           "zaxis": {
            "backgroundcolor": "#E5ECF6",
            "gridcolor": "white",
            "gridwidth": 2,
            "linecolor": "white",
            "showbackground": true,
            "ticks": "",
            "zerolinecolor": "white"
           }
          },
          "shapedefaults": {
           "line": {
            "color": "#2a3f5f"
           }
          },
          "ternary": {
           "aaxis": {
            "gridcolor": "white",
            "linecolor": "white",
            "ticks": ""
           },
           "baxis": {
            "gridcolor": "white",
            "linecolor": "white",
            "ticks": ""
           },
           "bgcolor": "#E5ECF6",
           "caxis": {
            "gridcolor": "white",
            "linecolor": "white",
            "ticks": ""
           }
          },
          "title": {
           "x": 0.05
          },
          "xaxis": {
           "automargin": true,
           "gridcolor": "white",
           "linecolor": "white",
           "ticks": "",
           "title": {
            "standoff": 15
           },
           "zerolinecolor": "white",
           "zerolinewidth": 2
          },
          "yaxis": {
           "automargin": true,
           "gridcolor": "white",
           "linecolor": "white",
           "ticks": "",
           "title": {
            "standoff": 15
           },
           "zerolinecolor": "white",
           "zerolinewidth": 2
          }
         }
        },
        "title": {
         "text": "Default Rate by Age Group"
        },
        "xaxis": {
         "anchor": "y",
         "domain": [
          0,
          1
         ],
         "title": {
          "text": "age_group"
         }
        },
        "yaxis": {
         "anchor": "x",
         "domain": [
          0,
          1
         ],
         "title": {
          "text": "default"
         }
        }
       }
      }
     },
     "metadata": {},
     "output_type": "display_data"
    }
   ],
   "source": [
    "# Debt-to-Income vs Default\n",
    "fig1 = px.box(\n",
    "    df,\n",
    "    x='default',\n",
    "    y='debt_to_income',\n",
    "    title='Debt-to-Income Ratio vs Default',\n",
    ")\n",
    "fig1.show()\n",
    "\n",
    "# Credit Utilization vs Default\n",
    "fig2 = px.box(\n",
    "    df,\n",
    "    x='default',\n",
    "    y='credit_utilization',\n",
    "    title='Credit Utilization vs Default',\n",
    ")\n",
    "fig2.show()\n",
    "\n",
    "# Default rate by Income Group\n",
    "income_group_default = df.groupby('income_group')['default'].mean().reset_index()\n",
    "fig3 = px.bar(income_group_default, x='income_group', y='default', title='Default Rate by Income Group')\n",
    "fig3.show()\n",
    "\n",
    "# Default rate by Age Group\n",
    "age_group_default = df.groupby('age_group')['default'].mean().reset_index()\n",
    "fig4 = px.bar(age_group_default, x='age_group', y='default', title='Default Rate by Age Group')\n",
    "fig4.show()"
   ]
  },
  {
   "cell_type": "markdown",
   "id": "1db9870c",
   "metadata": {},
   "source": [
    "**Interpretation:**\n",
    "\n",
    "- Customers with high **debt-to-income ratios** are clearly riskier.\n",
    "- **Credit utilization** close to 1.0 (maxing out their credit limit) signals much higher default probability."
   ]
  },
  {
   "cell_type": "markdown",
   "id": "2f00449a",
   "metadata": {},
   "source": [
    "**Interpretation:**\n",
    "\n",
    "- Lower income groups show a much higher proportion of defaults."
   ]
  },
  {
   "cell_type": "markdown",
   "id": "9933d507",
   "metadata": {},
   "source": [
    "**Observations:**\n",
    "- Customers with **higher debt-to-income ratios** are more likely to default.\n",
    "- **Credit utilization above 0.8** signals higher default risk.\n",
    "- Lower income groups have visibly higher default rates."
   ]
  },
  {
   "cell_type": "markdown",
   "id": "b0c2a6de",
   "metadata": {},
   "source": [
    "## Section 4: Simple Modelling\n",
    "\n",
    "Now that the dataset is cleaned and features engineered, we can try a simple model.\n",
    "- Split data into train/test sets\n",
    "- Fit a Logistic Regression model\n",
    "- Evaluate using accuracy, precision, recall, and F1-score\n",
    "\n",
    "⚠️ Note: The goal is not to achieve the best model here, but to connect the data preparation steps with prediction."
   ]
  },
  {
   "cell_type": "code",
   "execution_count": 27,
   "id": "5303dde6",
   "metadata": {},
   "outputs": [
    {
     "name": "stdout",
     "output_type": "stream",
     "text": [
      "Accuracy: 0.8118811881188119\n",
      "              precision    recall  f1-score   support\n",
      "\n",
      "           0       0.81      1.00      0.90       246\n",
      "           1       0.50      0.02      0.03        57\n",
      "\n",
      "    accuracy                           0.81       303\n",
      "   macro avg       0.66      0.51      0.46       303\n",
      "weighted avg       0.75      0.81      0.73       303\n",
      "\n"
     ]
    },
    {
     "data": {
      "image/png": "[encoded data removed]",
      "text/plain": [
       "<Figure size 640x480 with 2 Axes>"
      ]
     },
     "metadata": {},
     "output_type": "display_data"
    }
   ],
   "source": [
    "\n",
    "# Define target and features\n",
    "y = df['default']\n",
    "X = df.drop(columns=['default','customer_id'])\n",
    "\n",
    "# One-hot encode categorical variables if any remain\n",
    "X = pd.get_dummies(X, drop_first=True)\n",
    "\n",
    "# Split into train and test\n",
    "X_train, X_test, y_train, y_test = train_test_split(X, y, test_size=0.3, random_state=42)\n",
    "\n",
    "# Train Logistic Regression\n",
    "model = LogisticRegression(max_iter=500)\n",
    "model.fit(X_train, y_train)\n",
    "\n",
    "# Predictions\n",
    "y_pred = model.predict(X_test)\n",
    "\n",
    "# Evaluation\n",
    "print('Accuracy:', accuracy_score(y_test, y_pred))\n",
    "print(classification_report(y_test, y_pred))\n",
    "\n",
    "# Confusion matrix\n",
    "cm = confusion_matrix(y_test, y_pred)\n",
    "sns.heatmap(cm, annot=True, fmt='d', cmap='Blues', xticklabels=['Non-Default','Default'], yticklabels=['Non-Default','Default'])\n",
    "plt.ylabel('True label')\n",
    "plt.xlabel('Predicted label')\n",
    "plt.show()"
   ]
  },
  {
   "cell_type": "code",
   "execution_count": null,
   "id": "2766356b",
   "metadata": {},
   "outputs": [],
   "source": []
  }
 ],
 "metadata": {
  "kernelspec": {
   "display_name": "cash",
   "language": "python",
   "name": "python3"
  },
  "language_info": {
   "codemirror_mode": {
    "name": "ipython",
    "version": 3
   },
   "file_extension": ".py",
   "mimetype": "text/x-python",
   "name": "python",
   "nbconvert_exporter": "python",
   "pygments_lexer": "ipython3",
   "version": "3.11.5"
  }
 },
 "nbformat": 4,
 "nbformat_minor": 5
}
