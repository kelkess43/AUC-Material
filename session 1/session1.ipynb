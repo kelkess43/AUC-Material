{
 "cells": [
  {
   "cell_type": "markdown",
   "id": "f47a8670",
   "metadata": {},
   "source": [
    "# Credit Scoring Dataset – First Look\n",
    "In this session, you will:\n",
    "- Explore a raw dataset for credit scoring.\n",
    "- Identify and fix common data quality issues.\n",
    "- Engineer new features useful for predicting credit risk.\n",
    "\n",
    "The dataset mimics real-world bank data, with deliberate issues (missing values, outliers, duplicates).\n",
    "\n",
    "> **Note for Students**  \n",
    "> This dataset is **synthetic** and created for **academic purposes only**.  \n",
    "> It is not real customer data, but it mimics some of the real issues (like missing values, inconsistent categories, and outliers) that we often face in actual credit scoring use cases.\n"
   ]
  },
  {
   "cell_type": "code",
   "execution_count": null,
   "id": "fff5b2c1",
   "metadata": {},
   "outputs": [
    {
     "name": "stderr",
     "output_type": "stream",
     "text": [
      "c:\\Users\\kelkess\\AppData\\Local\\anaconda3\\envs\\cash\\Lib\\site-packages\\pandas\\core\\arrays\\masked.py:60: UserWarning: Pandas requires version '1.3.6' or newer of 'bottleneck' (version '1.3.5' currently installed).\n",
      "  from pandas.core import (\n"
     ]
    }
   ],
   "source": [
    "import pandas as pd\n",
    "import numpy as np\n",
    "import matplotlib.pyplot as plt\n",
    "import seaborn as sns\n",
    "\n",
    "# For scaling and model later\n",
    "from sklearn.preprocessing import MinMaxScaler\n",
    "from sklearn.model_selection import train_test_split\n",
    "from sklearn.linear_model import LogisticRegression\n",
    "from sklearn.metrics import accuracy_score, classification_report\n",
    "\n",
    "# Display settings\n",
    "pd.set_option('display.max_columns', None)"
   ]
  },
  {
   "cell_type": "markdown",
   "id": "48915f25",
   "metadata": {},
   "source": [
    "# Section 1: Quick EDA (Exploratory Data Analysis)\n",
    "Before cleaning and feature engineering, let's understand the dataset.\n",
    "\n",
    "Goals:\n",
    "- Check dataset shape and column types\n",
    "- Inspect distributions of numeric variables\n",
    "- Explore categorical variables\n",
    "- Identify issues: missing values, outliers, inconsistencies"
   ]
  },
  {
   "cell_type": "markdown",
   "id": "8076f792",
   "metadata": {},
   "source": [
    "### Step 1.1 – Dataset Overview\n",
    "- Check shape and column types\n",
    "- Preview first rows"
   ]
  },
  {
   "cell_type": "code",
   "execution_count": 2,
   "id": "51f4ff74",
   "metadata": {},
   "outputs": [],
   "source": [
    "# TODO: Read the CSV file into a DataFrame"
   ]
  },
  {
   "cell_type": "code",
   "execution_count": null,
   "id": "6c19ef55",
   "metadata": {},
   "outputs": [],
   "source": [
    "# TODO: Preview the first 10 rows of the dataset\n",
    "# Hint: use df.head(10)"
   ]
  },
  {
   "cell_type": "code",
   "execution_count": null,
   "id": "2e756aad",
   "metadata": {},
   "outputs": [],
   "source": [
    "# Solved example: dataset shape and info\n",
    "print(\"Shape:\", df.shape)\n",
    "df.info()\n"
   ]
  },
  {
   "cell_type": "markdown",
   "id": "8066a4d8",
   "metadata": {},
   "source": [
    "### Step 1.2 – Summary Statistics\n",
    "- Describe numeric variables\n",
    "- Count categorical values"
   ]
  },
  {
   "cell_type": "code",
   "execution_count": null,
   "id": "288caa4e",
   "metadata": {},
   "outputs": [],
   "source": [
    "# TODO: Use df.info() to check data types and non-null counts"
   ]
  },
  {
   "cell_type": "code",
   "execution_count": null,
   "id": "57d01245",
   "metadata": {},
   "outputs": [],
   "source": [
    "# TODO: Check value counts for 'employment_type'"
   ]
  },
  {
   "cell_type": "markdown",
   "id": "95e07667",
   "metadata": {},
   "source": [
    "### Step 1.3 – Missing Values\n",
    "- Identify columns with NaN\n",
    "- Check proportions of missing\n",
    "\n",
    "\n",
    "*Explanation*: Missing values can bias results. Small amounts may be dropped, but important fields are often imputed with logical strategies."
   ]
  },
  {
   "cell_type": "code",
   "execution_count": 6,
   "id": "6aafdb58",
   "metadata": {},
   "outputs": [],
   "source": [
    "\n",
    "# TODO: Find missing values in each column\n",
    "# Hint: use df.isnull().sum()\n"
   ]
  },
  {
   "cell_type": "markdown",
   "id": "2ac3db16",
   "metadata": {},
   "source": [
    "### Step 1.4 – Distributions & Outliers\n",
    "- Plot histograms for numeric columns\n",
    "- Use boxplots to detect outliers\n",
    "\n",
    "\n",
    "*Explanation*: Visualizing distributions helps detect skewness, outliers, or unrealistic values (e.g., negative income)."
   ]
  },
  {
   "cell_type": "code",
   "execution_count": null,
   "id": "c36f7451",
   "metadata": {},
   "outputs": [],
   "source": [
    "# Solved example: histogram of numeric features\n",
    "df[['age','income','monthly_balance']].hist(bins=30, figsize=(10,6))\n",
    "plt.show()\n"
   ]
  },
  {
   "cell_type": "code",
   "execution_count": null,
   "id": "0ee5860b",
   "metadata": {},
   "outputs": [],
   "source": [
    "# TODO: Create a boxplot to check for outliers in monthly_balance"
   ]
  },
  {
   "cell_type": "markdown",
   "id": "6523559d",
   "metadata": {},
   "source": [
    "### Step 1.5 – Target Variable\n",
    "- Check distribution of the target\n",
    "- See if classes are balanced (default vs non-default)\n",
    "\n",
    "*Explanation*: Checking class balance is critical. If imbalanced, advanced techniques like resampling or weighted models may be needed."
   ]
  },
  {
   "cell_type": "code",
   "execution_count": null,
   "id": "fbddc497",
   "metadata": {},
   "outputs": [],
   "source": [
    "\n",
    "# TODO: Print raw counts of default vs non-default instead of percentages\n"
   ]
  },
  {
   "cell_type": "code",
   "execution_count": null,
   "id": "7ff4585e",
   "metadata": {},
   "outputs": [],
   "source": [
    "\n",
    "# Solved example: target variable distribution\n",
    "df['default'].value_counts(normalize=True).plot(kind='bar')\n",
    "plt.title(\"Default vs Non-default Distribution\")\n",
    "plt.show()\n"
   ]
  },
  {
   "cell_type": "markdown",
   "id": "35dcbeb0",
   "metadata": {},
   "source": [
    "# Section 2: Data Cleaning\n",
    "Now we fix issues found in EDA.\n",
    "\n",
    "Goals:\n",
    "- Handle missing values, duplicates, and outliers.\n",
    "- Standardize categories and check data consistency.\n"
   ]
  },
  {
   "cell_type": "markdown",
   "id": "d47a1e37",
   "metadata": {},
   "source": [
    "### Step 2.1 – Handle Missing Values\n",
    "Choose a strategy:\n",
    "- Drop rows\n",
    "- Fill with mean/median/mode\n",
    "- Use domain knowledge (e.g., income → \"Unknown\")\n",
    "\n",
    "\n",
    "*Explanation*: Imputation choice depends on distribution. Median is safer with skewed data (like income), while mean works for symmetric data."
   ]
  },
  {
   "cell_type": "code",
   "execution_count": null,
   "id": "6e63b223",
   "metadata": {},
   "outputs": [],
   "source": [
    "\n",
    "# TODO: Fill missing values for 'age' and 'employment_type'\n"
   ]
  },
  {
   "cell_type": "code",
   "execution_count": null,
   "id": "03f274e1",
   "metadata": {},
   "outputs": [],
   "source": [
    "# Solved example: Fill missing income with median\n",
    "df['income'] = df['income'].fillna(df['income'].median())"
   ]
  },
  {
   "cell_type": "markdown",
   "id": "00cb2791",
   "metadata": {},
   "source": [
    "### Step 2.2 – Remove Duplicates\n",
    "- Check duplicate rows\n",
    "- Drop if necessary\n",
    "\n",
    "*Explanation*: Duplicates usually arise from repeated entries. Always confirm before dropping, since some repeats may be legitimate."
   ]
  },
  {
   "cell_type": "code",
   "execution_count": null,
   "id": "ae1b1e72",
   "metadata": {},
   "outputs": [],
   "source": [
    "\n",
    "# TODO: Remove duplicate rows from the dataset\n"
   ]
  },
  {
   "cell_type": "markdown",
   "id": "aa799e2e",
   "metadata": {},
   "source": [
    "### Step 2.3 – Standardize Categories\n",
    "- Fix inconsistent labels\n",
    "- Ensure uniform formatting (e.g., lowercase)\n",
    "\n",
    "\n",
    "*Explanation*: Standardizing categories avoids treating 'Self employed' and 'self-employed' as separate groups."
   ]
  },
  {
   "cell_type": "code",
   "execution_count": null,
   "id": "b4cd925d",
   "metadata": {},
   "outputs": [],
   "source": [
    "\n",
    "# TODO: Standardize categories in 'employment_type'\n",
    "# Hint: lowercase and strip spaces\n"
   ]
  },
  {
   "cell_type": "markdown",
   "id": "bbc258ad",
   "metadata": {},
   "source": [
    "### Step 2.4 – Treat Outliers\n",
    "- Cap extreme values\n",
    "- Or replace with thresholds\n",
    "\n",
    "*Explanation*: Outliers can heavily influence models. Options include capping, transformation (log), or removal."
   ]
  },
  {
   "cell_type": "code",
   "execution_count": null,
   "id": "469a74d0",
   "metadata": {},
   "outputs": [],
   "source": [
    "\n",
    "# TODO: Experiment with removing rows instead of capping outliers\n"
   ]
  },
  {
   "cell_type": "code",
   "execution_count": null,
   "id": "52b53bf5",
   "metadata": {},
   "outputs": [],
   "source": [
    "\n",
    "# Solved example: cap outliers at 99th percentile\n",
    "cap = df['monthly_balance'].quantile(0.99)\n",
    "df['monthly_balance'] = np.where(df['monthly_balance'] > cap, cap, df['monthly_balance'])\n"
   ]
  },
  {
   "cell_type": "markdown",
   "id": "ede885bc",
   "metadata": {},
   "source": [
    "### Step 2.5 – Validate Logic\n",
    "- Check impossible values (e.g., negative age)"
   ]
  },
  {
   "cell_type": "code",
   "execution_count": null,
   "id": "535e896e",
   "metadata": {},
   "outputs": [],
   "source": [
    "\n",
    "# Solved example: fix negative ages\n",
    "df['age'] = np.where(df['age'] < 0, abs(df['age']), df['age'])\n"
   ]
  },
  {
   "cell_type": "markdown",
   "id": "a0ffc469",
   "metadata": {},
   "source": [
    "# Section 3: Feature Engineering\n",
    "We create new features that add business insight.\n",
    "\n",
    "Goals:\n",
    "- Encode categorical variables.\n",
    "- Build useful ratios (e.g., debt-to-income, credit utilization).\n",
    "- Group variables (e.g., age buckets)."
   ]
  },
  {
   "cell_type": "markdown",
   "id": "bb255114",
   "metadata": {},
   "source": [
    "### Step 3.1 – Encode Categorical Variables\n",
    "- Convert categories into numeric form (e.g., one-hot encoding)\n",
    "- Avoid implying order in non-ordinal categories\n",
    "\n",
    "*Explanation*: Encoding turns categories into numeric form. One-hot encoding avoids implying order in non-ordinal categories.\n"
   ]
  },
  {
   "cell_type": "code",
   "execution_count": null,
   "id": "c97e36a0",
   "metadata": {},
   "outputs": [],
   "source": [
    "\n",
    "# TODO: Encode other categorical variables like 'employment_type' and 'gender'\n"
   ]
  },
  {
   "cell_type": "code",
   "execution_count": null,
   "id": "741354fa",
   "metadata": {},
   "outputs": [],
   "source": [
    "# Solved example: encode 'education'\n",
    "df = pd.get_dummies(df, columns=['education'], drop_first=True)\n"
   ]
  },
  {
   "cell_type": "markdown",
   "id": "0e4d3b53",
   "metadata": {},
   "source": [
    "### Step 3.2 – Create Ratios\n",
    "- Debt-to-Income Ratio\n",
    "- Credit Utilization (%)\n",
    "\n",
    "*Explanation*: Ratios like debt-to-income capture relative financial health better than raw numbers.\n"
   ]
  },
  {
   "cell_type": "code",
   "execution_count": null,
   "id": "b2c80d22",
   "metadata": {},
   "outputs": [],
   "source": [
    "\n",
    "# TODO: Create a new feature: debt minus balance (remaining debt)\n"
   ]
  },
  {
   "cell_type": "code",
   "execution_count": null,
   "id": "69149faf",
   "metadata": {},
   "outputs": [],
   "source": [
    "\n",
    "# TODO: Create credit utilization (balance / credit_limit)\n"
   ]
  },
  {
   "cell_type": "code",
   "execution_count": null,
   "id": "1de18ddb",
   "metadata": {},
   "outputs": [],
   "source": [
    "# Solved example: Debt-to-Income ratio\n",
    "df['debt_to_income'] = df['total_debt'] / (df['income']+1)\n"
   ]
  },
  {
   "cell_type": "markdown",
   "id": "332a4389",
   "metadata": {},
   "source": [
    "### Step 3.3 – Group Continuous Variables\n",
    "- Age buckets\n",
    "- Income ranges\n",
    "\n",
    "*Explanation*: Bucketing continuous variables can reveal non-linear relationships (e.g., young borrowers may behave differently).  \n",
    "It also makes it easier to compare customers across categories (e.g., low-income vs high-income).\n"
   ]
  },
  {
   "cell_type": "code",
   "execution_count": null,
   "id": "8659dcf7",
   "metadata": {},
   "outputs": [],
   "source": [
    "df['age_group'] = pd.cut(df['age'], bins=[18,30,50,100], labels=['Young','Mid','Senior'])\n",
    "\n",
    "# TODO: Create alternative age groups with different splits\n",
    "\n",
    "# TODO: Create income ranges\n"
   ]
  },
  {
   "cell_type": "markdown",
   "id": "dd123170",
   "metadata": {},
   "source": [
    "## Bonus Homework – Logistic Regression Model\n",
    "\n",
    "For extra practice, try building a simple model to predict `default`:\n",
    "\n",
    "Steps you might consider:\n",
    "- Split the dataset into train/test sets.\n",
    "- Choose relevant features (hint: numeric ones work directly, categories need encoding).\n",
    "- Fit a Logistic Regression model.\n",
    "- Evaluate using accuracy, precision, and recall.\n",
    "\n",
    "   *Hint*: Look at scikit-learn's `LogisticRegression` and `train_test_split`.\n",
    "\n",
    "This is optional and meant as bonus homework, not part of the live session.\n"
   ]
  }
 ],
 "metadata": {
  "kernelspec": {
   "display_name": "cash",
   "language": "python",
   "name": "python3"
  },
  "language_info": {
   "codemirror_mode": {
    "name": "ipython",
    "version": 3
   },
   "file_extension": ".py",
   "mimetype": "text/x-python",
   "name": "python",
   "nbconvert_exporter": "python",
   "pygments_lexer": "ipython3",
   "version": "3.11.5"
  }
 },
 "nbformat": 4,
 "nbformat_minor": 5
}
