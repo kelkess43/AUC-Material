{
 "cells": [
  {
   "cell_type": "markdown",
   "metadata": {},
   "source": [
    "# Assignment 2: K-Nearest Neighbors (KNN) & Linear Regression\n",
    "\n",
    "This assignment focuses on **understanding two fundamental supervised learning algorithms — K-Nearest Neighbors (KNN)** and **Linear Regression** — using simple, interpretable datasets.\n",
    "\n",
    "You will explore how both models learn from data, visualize their behavior, and reflect on how model parameters, noise, and outliers affect performance."
   ]
  },
  {
   "cell_type": "code",
   "execution_count": 2,
   "metadata": {},
   "outputs": [
    {
     "data": {
      "application/vnd.microsoft.datawrangler.viewer.v0+json": {
       "columns": [
        {
         "name": "index",
         "rawType": "int64",
         "type": "integer"
        },
        {
         "name": "sepal length (cm)",
         "rawType": "float64",
         "type": "float"
        },
        {
         "name": "sepal width (cm)",
         "rawType": "float64",
         "type": "float"
        },
        {
         "name": "target",
         "rawType": "int32",
         "type": "integer"
        }
       ],
       "ref": "b28634f1-2ab7-4225-90fe-05455c4bbde0",
       "rows": [
        [
         "0",
         "5.1",
         "3.5",
         "0"
        ],
        [
         "1",
         "4.9",
         "3.0",
         "0"
        ],
        [
         "2",
         "4.7",
         "3.2",
         "0"
        ],
        [
         "3",
         "4.6",
         "3.1",
         "0"
        ],
        [
         "4",
         "5.0",
         "3.6",
         "0"
        ]
       ],
       "shape": {
        "columns": 3,
        "rows": 5
       }
      },
      "text/html": [
       "<div>\n",
       "<style scoped>\n",
       "    .dataframe tbody tr th:only-of-type {\n",
       "        vertical-align: middle;\n",
       "    }\n",
       "\n",
       "    .dataframe tbody tr th {\n",
       "        vertical-align: top;\n",
       "    }\n",
       "\n",
       "    .dataframe thead th {\n",
       "        text-align: right;\n",
       "    }\n",
       "</style>\n",
       "<table border=\"1\" class=\"dataframe\">\n",
       "  <thead>\n",
       "    <tr style=\"text-align: right;\">\n",
       "      <th></th>\n",
       "      <th>sepal length (cm)</th>\n",
       "      <th>sepal width (cm)</th>\n",
       "      <th>target</th>\n",
       "    </tr>\n",
       "  </thead>\n",
       "  <tbody>\n",
       "    <tr>\n",
       "      <th>0</th>\n",
       "      <td>5.1</td>\n",
       "      <td>3.5</td>\n",
       "      <td>0</td>\n",
       "    </tr>\n",
       "    <tr>\n",
       "      <th>1</th>\n",
       "      <td>4.9</td>\n",
       "      <td>3.0</td>\n",
       "      <td>0</td>\n",
       "    </tr>\n",
       "    <tr>\n",
       "      <th>2</th>\n",
       "      <td>4.7</td>\n",
       "      <td>3.2</td>\n",
       "      <td>0</td>\n",
       "    </tr>\n",
       "    <tr>\n",
       "      <th>3</th>\n",
       "      <td>4.6</td>\n",
       "      <td>3.1</td>\n",
       "      <td>0</td>\n",
       "    </tr>\n",
       "    <tr>\n",
       "      <th>4</th>\n",
       "      <td>5.0</td>\n",
       "      <td>3.6</td>\n",
       "      <td>0</td>\n",
       "    </tr>\n",
       "  </tbody>\n",
       "</table>\n",
       "</div>"
      ],
      "text/plain": [
       "   sepal length (cm)  sepal width (cm)  target\n",
       "0                5.1               3.5       0\n",
       "1                4.9               3.0       0\n",
       "2                4.7               3.2       0\n",
       "3                4.6               3.1       0\n",
       "4                5.0               3.6       0"
      ]
     },
     "execution_count": 2,
     "metadata": {},
     "output_type": "execute_result"
    }
   ],
   "source": [
    "from sklearn.datasets import load_iris\n",
    "import pandas as pd\n",
    "import seaborn as sns\n",
    "import matplotlib.pyplot as plt\n",
    "\n",
    "# Load Iris dataset\n",
    "iris = load_iris()\n",
    "\n",
    "# Use only two features: sepal length and sepal width\n",
    "X = iris.data[:, :2]\n",
    "y = iris.target\n",
    "\n",
    "# Convert to DataFrame for easier visualization\n",
    "df = pd.DataFrame(X, columns=iris.feature_names[:2])\n",
    "df['target'] = y\n",
    "df.head()"
   ]
  },
  {
   "cell_type": "markdown",
   "metadata": {},
   "source": [
    "---\n",
    "## Question 1 (10 points): Visualize the Dataset\n",
    "\n",
    "Create a scatter plot to visualize the relationship between the two features. Color each point by its class (target).\n",
    "\n",
    "✏️ **Task:**\n",
    "- Plot sepal length vs sepal width.  \n",
    "- Use different colors for each class.  \n",
    "- Label the axes and add a title."
   ]
  },
  {
   "cell_type": "code",
   "execution_count": null,
   "metadata": {},
   "outputs": [],
   "source": [
    "# Your code here"
   ]
  },
  {
   "cell_type": "markdown",
   "metadata": {},
   "source": [
    "---\n",
    "## Question 2 (5 points): Split the Data\n",
    "\n",
    "Split the dataset into **training (80%)** and **testing (20%)** sets.\n",
    "\n",
    "✏️ **Task:**\n",
    "- Use `train_test_split` from `sklearn.model_selection`.  \n",
    "- Set a fixed `random_state` for reproducibility.  \n",
    "- Print the number of samples in each set."
   ]
  },
  {
   "cell_type": "code",
   "execution_count": null,
   "metadata": {},
   "outputs": [],
   "source": [
    "# Your code here"
   ]
  },
  {
   "cell_type": "markdown",
   "metadata": {},
   "source": [
    "---\n",
    "## Question 4 (10 points): Train a Baseline KNN Model\n",
    "\n",
    "Train a KNN classifier using:\n",
    "- `k = 5`\n",
    "- The default distance metric (`minkowski`)\n",
    "\n",
    "✏️ **Task:**\n",
    "- Fit the model on your training data.  \n",
    "- Predict on the test data.  \n",
    "- Print the accuracy, confusion matrix, and classification report."
   ]
  },
  {
   "cell_type": "code",
   "execution_count": null,
   "metadata": {},
   "outputs": [],
   "source": [
    "# Your code here"
   ]
  },
  {
   "cell_type": "markdown",
   "metadata": {},
   "source": [
    "---\n",
    "## Question 5 (20 points): Effect of Different k Values\n",
    "\n",
    "Experiment with different values of `k` from 1 to 20. Observe how model performance changes.\n",
    "\n",
    "✏️ **Task:**\n",
    "- Loop over `k` values from 1 to 20.  \n",
    "- For each `k`, train and evaluate the model.  \n",
    "- Record training and testing accuracy.  \n",
    "- Plot both accuracies versus `k`.  \n",
    "\n"
   ]
  },
  {
   "cell_type": "code",
   "execution_count": null,
   "metadata": {},
   "outputs": [],
   "source": [
    "# Your code here"
   ]
  },
  {
   "cell_type": "markdown",
   "id": "a5e808d7",
   "metadata": {},
   "source": [
    "💭 **Reflection:**\n",
    "- Which value of `k` gives the best performance?  \n",
    "- What happens when `k` is very small or very large?  \n",
    "- How do these changes relate to **overfitting** and **underfitting**?"
   ]
  },
  {
   "cell_type": "markdown",
   "metadata": {},
   "source": [
    "---\n",
    "## Question 6 (10 points): Visualize Decision Boundaries\n",
    "\n",
    "Now that you have found the best value of `k`, let’s see how KNN separates the classes for different distance metrics.\n",
    "\n",
    "✏️ **Task:**\n",
    "- For each distance metric, plot how KNN divides the feature space.  \n",
    "- Show the **regions** belonging to each class and the **test points** on top of them.  \n",
    "- Compare how the boundaries change for each metric.\n",
    "\n",
    "💡 **Hint:**  \n",
    "You can use `np.meshgrid` to create a grid of coordinate points, then predict each point’s class using your trained KNN model.  \n",
    "Visualize the result using `plt.contourf()` for colored regions and `plt.scatter()` to plot the test samples.\n"
   ]
  },
  {
   "cell_type": "code",
   "execution_count": 5,
   "id": "2386990f",
   "metadata": {},
   "outputs": [],
   "source": [
    "# Your code here"
   ]
  },
  {
   "cell_type": "markdown",
   "metadata": {},
   "source": [
    "---\n",
    "## Q7 – Generate Synthetic Data (10 points)\n",
    "\n",
    "Explore how **Linear Regression** behaves under different noise levels.\n",
    "\n",
    "✏️ **Task:**\n",
    "- Generate two synthetic datasets using `make_regression`:\n",
    "  - **Scenario 1:** Low noise (`noise=10`)  \n",
    "  - **Scenario 2:** High noise (`noise=50`)  \n",
    "- **Visualize** each dataset using a scatter plot:\n",
    "  - Plot the generated points for both scenarios on separate graphs.  \n",
    "  - Label the axes and include a title indicating the noise level.\n",
    "\n",
    "📊 **Hint Example:**\n",
    "```python\n",
    "print(\"--- Scenario 1: Low Noise Data ---\")\n",
    "X1, y1 = make_regression(n_samples=100, n_features=1, noise=10, random_state=42)\n",
    "\n",
    "print(\"\\n--- Scenario 2: High Noise Data ---\")\n",
    "X2, y2 = make_regression(n_samples=100, n_features=1, noise=50, random_state=42)\n",
    "```"
   ]
  },
  {
   "cell_type": "code",
   "execution_count": null,
   "id": "cb2b7d7d",
   "metadata": {},
   "outputs": [],
   "source": [
    "# Your code here"
   ]
  },
  {
   "cell_type": "markdown",
   "id": "9d576271",
   "metadata": {},
   "source": [
    "---\n",
    "## Q8 – Fit Linear Regression Models (20 points)\n",
    "\n",
    "Now, let’s fit a Linear Regression model to both datasets.\n",
    "\n",
    "✏️ **Task:**\n",
    "- Fit one model to each dataset.\n",
    "- Plot the fitted regression lines on top of the scatter plots.\n",
    "- Compare visually how noise affects model fit.\n"
   ]
  },
  {
   "cell_type": "code",
   "execution_count": null,
   "id": "df4b6d9d",
   "metadata": {},
   "outputs": [],
   "source": [
    "# Your code here"
   ]
  },
  {
   "cell_type": "markdown",
   "id": "34cdbd5b",
   "metadata": {},
   "source": [
    "    ---\n",
    "    ## Q9 – Analyze Model Parameters (15 points)\n",
    "\n",
    "    Let’s compare the slope (coefficient) and bias (intercept) of both models.\n",
    "\n",
    "    ✏️ **Task:**\n",
    "    - Print slope and bias for each model.\n",
    "    - Discuss how higher noise levels affect model stability and parameters\n"
   ]
  },
  {
   "cell_type": "code",
   "execution_count": null,
   "metadata": {},
   "outputs": [],
   "source": [
    "# Your code here"
   ]
  }
 ],
 "metadata": {
  "kernelspec": {
   "display_name": "cash",
   "language": "python",
   "name": "python3"
  },
  "language_info": {
   "codemirror_mode": {
    "name": "ipython",
    "version": 3
   },
   "file_extension": ".py",
   "mimetype": "text/x-python",
   "name": "python",
   "nbconvert_exporter": "python",
   "pygments_lexer": "ipython3",
   "version": "3.11.5"
  }
 },
 "nbformat": 4,
 "nbformat_minor": 5
}
